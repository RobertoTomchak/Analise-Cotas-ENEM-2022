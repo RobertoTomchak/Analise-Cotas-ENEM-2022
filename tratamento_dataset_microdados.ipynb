{
 "cells": [
  {
   "cell_type": "markdown",
   "metadata": {},
   "source": [
    "# Tratamento Inicial de Dados do ENEM 2022"
   ]
  },
  {
   "cell_type": "markdown",
   "metadata": {},
   "source": [
    "## Objetivo"
   ]
  },
  {
   "cell_type": "markdown",
   "metadata": {},
   "source": [
    "Como o dataset do enem é bem grande, seria interessante reduzir seu número de parâmetros, para facilitar futuras análises."
   ]
  },
  {
   "cell_type": "markdown",
   "metadata": {},
   "source": [
    "## Importanto Dados"
   ]
  },
  {
   "cell_type": "code",
   "execution_count": 1,
   "metadata": {},
   "outputs": [],
   "source": [
    "import pandas as pd\n",
    "import numpy as np"
   ]
  },
  {
   "cell_type": "code",
   "execution_count": 2,
   "metadata": {},
   "outputs": [
    {
     "data": {
      "text/html": [
       "<div>\n",
       "<style scoped>\n",
       "    .dataframe tbody tr th:only-of-type {\n",
       "        vertical-align: middle;\n",
       "    }\n",
       "\n",
       "    .dataframe tbody tr th {\n",
       "        vertical-align: top;\n",
       "    }\n",
       "\n",
       "    .dataframe thead th {\n",
       "        text-align: right;\n",
       "    }\n",
       "</style>\n",
       "<table border=\"1\" class=\"dataframe\">\n",
       "  <thead>\n",
       "    <tr style=\"text-align: right;\">\n",
       "      <th></th>\n",
       "      <th>NU_INSCRICAO</th>\n",
       "      <th>NU_ANO</th>\n",
       "      <th>TP_FAIXA_ETARIA</th>\n",
       "      <th>TP_SEXO</th>\n",
       "      <th>TP_ESTADO_CIVIL</th>\n",
       "      <th>TP_COR_RACA</th>\n",
       "      <th>TP_NACIONALIDADE</th>\n",
       "      <th>TP_ST_CONCLUSAO</th>\n",
       "      <th>TP_ANO_CONCLUIU</th>\n",
       "      <th>TP_ESCOLA</th>\n",
       "      <th>...</th>\n",
       "      <th>Q016</th>\n",
       "      <th>Q017</th>\n",
       "      <th>Q018</th>\n",
       "      <th>Q019</th>\n",
       "      <th>Q020</th>\n",
       "      <th>Q021</th>\n",
       "      <th>Q022</th>\n",
       "      <th>Q023</th>\n",
       "      <th>Q024</th>\n",
       "      <th>Q025</th>\n",
       "    </tr>\n",
       "  </thead>\n",
       "  <tbody>\n",
       "    <tr>\n",
       "      <th>0</th>\n",
       "      <td>210057943671</td>\n",
       "      <td>2022</td>\n",
       "      <td>14</td>\n",
       "      <td>M</td>\n",
       "      <td>2</td>\n",
       "      <td>2</td>\n",
       "      <td>1</td>\n",
       "      <td>1</td>\n",
       "      <td>2</td>\n",
       "      <td>1</td>\n",
       "      <td>...</td>\n",
       "      <td>B</td>\n",
       "      <td>A</td>\n",
       "      <td>A</td>\n",
       "      <td>A</td>\n",
       "      <td>A</td>\n",
       "      <td>A</td>\n",
       "      <td>A</td>\n",
       "      <td>A</td>\n",
       "      <td>A</td>\n",
       "      <td>A</td>\n",
       "    </tr>\n",
       "    <tr>\n",
       "      <th>1</th>\n",
       "      <td>210057516120</td>\n",
       "      <td>2022</td>\n",
       "      <td>14</td>\n",
       "      <td>M</td>\n",
       "      <td>2</td>\n",
       "      <td>1</td>\n",
       "      <td>1</td>\n",
       "      <td>1</td>\n",
       "      <td>16</td>\n",
       "      <td>1</td>\n",
       "      <td>...</td>\n",
       "      <td>E</td>\n",
       "      <td>E</td>\n",
       "      <td>B</td>\n",
       "      <td>E</td>\n",
       "      <td>B</td>\n",
       "      <td>B</td>\n",
       "      <td>E</td>\n",
       "      <td>B</td>\n",
       "      <td>E</td>\n",
       "      <td>B</td>\n",
       "    </tr>\n",
       "    <tr>\n",
       "      <th>2</th>\n",
       "      <td>210057280536</td>\n",
       "      <td>2022</td>\n",
       "      <td>5</td>\n",
       "      <td>F</td>\n",
       "      <td>1</td>\n",
       "      <td>2</td>\n",
       "      <td>1</td>\n",
       "      <td>1</td>\n",
       "      <td>2</td>\n",
       "      <td>1</td>\n",
       "      <td>...</td>\n",
       "      <td>A</td>\n",
       "      <td>A</td>\n",
       "      <td>A</td>\n",
       "      <td>A</td>\n",
       "      <td>A</td>\n",
       "      <td>A</td>\n",
       "      <td>C</td>\n",
       "      <td>A</td>\n",
       "      <td>A</td>\n",
       "      <td>B</td>\n",
       "    </tr>\n",
       "    <tr>\n",
       "      <th>3</th>\n",
       "      <td>210055724397</td>\n",
       "      <td>2022</td>\n",
       "      <td>6</td>\n",
       "      <td>M</td>\n",
       "      <td>1</td>\n",
       "      <td>3</td>\n",
       "      <td>1</td>\n",
       "      <td>1</td>\n",
       "      <td>2</td>\n",
       "      <td>1</td>\n",
       "      <td>...</td>\n",
       "      <td>B</td>\n",
       "      <td>A</td>\n",
       "      <td>A</td>\n",
       "      <td>C</td>\n",
       "      <td>A</td>\n",
       "      <td>A</td>\n",
       "      <td>C</td>\n",
       "      <td>B</td>\n",
       "      <td>B</td>\n",
       "      <td>B</td>\n",
       "    </tr>\n",
       "    <tr>\n",
       "      <th>4</th>\n",
       "      <td>210055097896</td>\n",
       "      <td>2022</td>\n",
       "      <td>4</td>\n",
       "      <td>M</td>\n",
       "      <td>0</td>\n",
       "      <td>3</td>\n",
       "      <td>1</td>\n",
       "      <td>1</td>\n",
       "      <td>1</td>\n",
       "      <td>1</td>\n",
       "      <td>...</td>\n",
       "      <td>A</td>\n",
       "      <td>A</td>\n",
       "      <td>A</td>\n",
       "      <td>A</td>\n",
       "      <td>A</td>\n",
       "      <td>A</td>\n",
       "      <td>B</td>\n",
       "      <td>A</td>\n",
       "      <td>A</td>\n",
       "      <td>A</td>\n",
       "    </tr>\n",
       "  </tbody>\n",
       "</table>\n",
       "<p>5 rows × 76 columns</p>\n",
       "</div>"
      ],
      "text/plain": [
       "   NU_INSCRICAO  NU_ANO  TP_FAIXA_ETARIA TP_SEXO  TP_ESTADO_CIVIL   \n",
       "0  210057943671    2022               14       M                2  \\\n",
       "1  210057516120    2022               14       M                2   \n",
       "2  210057280536    2022                5       F                1   \n",
       "3  210055724397    2022                6       M                1   \n",
       "4  210055097896    2022                4       M                0   \n",
       "\n",
       "   TP_COR_RACA  TP_NACIONALIDADE  TP_ST_CONCLUSAO  TP_ANO_CONCLUIU  TP_ESCOLA   \n",
       "0            2                 1                1                2          1  \\\n",
       "1            1                 1                1               16          1   \n",
       "2            2                 1                1                2          1   \n",
       "3            3                 1                1                2          1   \n",
       "4            3                 1                1                1          1   \n",
       "\n",
       "   ...  Q016  Q017  Q018 Q019  Q020 Q021  Q022  Q023  Q024  Q025  \n",
       "0  ...     B     A     A    A     A    A     A     A     A     A  \n",
       "1  ...     E     E     B    E     B    B     E     B     E     B  \n",
       "2  ...     A     A     A    A     A    A     C     A     A     B  \n",
       "3  ...     B     A     A    C     A    A     C     B     B     B  \n",
       "4  ...     A     A     A    A     A    A     B     A     A     A  \n",
       "\n",
       "[5 rows x 76 columns]"
      ]
     },
     "execution_count": 2,
     "metadata": {},
     "output_type": "execute_result"
    }
   ],
   "source": [
    "df = pd.read_csv(\"microdados_enem_2022/DADOS/MICRODADOS_ENEM_2022.csv\", encoding=\"iso-8859-1\", delimiter=\";\")\n",
    "df.head()"
   ]
  },
  {
   "cell_type": "markdown",
   "metadata": {},
   "source": [
    "Como podemos ver, a tabela tem 76 colunas. Muitas delas não são relevantes para a nossa análise (ex: vetor com as questões que o inscrito marcou). Outras possues um valor marcado com algo quando seria mais interessante se fosse NA (ex: valor 1 no tipo de escola quer dizer que não respondeu).<br><br>\n",
    "A partir de agora, iremos eliminar aquelas colunas julgadas como não relevantes, e transformar os dados caso seja necessário.<br><br>\n",
    "Tratamentos mais avançados ou bem específicos da análise que for feita serão feitos num código a parte."
   ]
  },
  {
   "cell_type": "markdown",
   "metadata": {},
   "source": [
    "## Eliminando Colunas Desnecessárias"
   ]
  },
  {
   "cell_type": "markdown",
   "metadata": {},
   "source": [
    "As colunas podem ser vistas no diretório DICIONÁRIO."
   ]
  },
  {
   "cell_type": "code",
   "execution_count": 3,
   "metadata": {},
   "outputs": [],
   "source": [
    "# Todos os dados são do ENEM 2022\n",
    "df.drop(\"NU_ANO\", axis=1, inplace=True)"
   ]
  },
  {
   "cell_type": "code",
   "execution_count": 4,
   "metadata": {},
   "outputs": [],
   "source": [
    "# O Estado Civil não é considerado relevante para as análises que serão feitas. \n",
    "# Ele não dá informações relevantes sobre o desempenho do candidato da prova, e nem possui relação com cotas\n",
    "# Ano de conclusão de ensino médio também (o que é relevante é se está fazendo ou não)\n",
    "df.drop(\"TP_ESTADO_CIVIL\", axis=1, inplace=True)\n",
    "df.drop(\"TP_ANO_CONCLUIU\", axis=1, inplace=True)"
   ]
  },
  {
   "cell_type": "code",
   "execution_count": 5,
   "metadata": {},
   "outputs": [],
   "source": [
    "# Quanto à região da escola, algumas informações podem ser relevantes\n",
    "# Para esse trabalho, será considerado que apenas a UF da escola é relevante. O município é uma informação muito específica, e vai gerar um número muito alto de classes.\n",
    "# Informações como localização da escola e estado de funcionamento podem ser bem legais, entretanto, para limitar o número de parâmetros, será considerado que saber se a escola\n",
    "# é pública ou privada e em qual UF ela fica são informações suficientes\n",
    "df.drop(\"CO_MUNICIPIO_ESC\", axis=1, inplace=True)\n",
    "df.drop(\"NO_MUNICIPIO_ESC\", axis=1, inplace=True)\n",
    "df.drop(\"TP_DEPENDENCIA_ADM_ESC\", axis=1, inplace=True)\n",
    "df.drop(\"CO_UF_ESC\", axis=1, inplace=True)\n",
    "df.drop(\"TP_LOCALIZACAO_ESC\", axis=1, inplace=True)\n",
    "df.drop(\"TP_SIT_FUNC_ESC\", axis=1, inplace=True)"
   ]
  },
  {
   "cell_type": "code",
   "execution_count": 6,
   "metadata": {},
   "outputs": [],
   "source": [
    "# Todos os dados sobre o local da prova serão considerados irrelevantes\n",
    "df.drop(\"CO_MUNICIPIO_PROVA\", axis=1, inplace=True)\n",
    "df.drop(\"NO_MUNICIPIO_PROVA\", axis=1, inplace=True)\n",
    "df.drop(\"CO_UF_PROVA\", axis=1, inplace=True)\n",
    "df.drop(\"SG_UF_PROVA\", axis=1, inplace=True)"
   ]
  },
  {
   "cell_type": "code",
   "execution_count": 7,
   "metadata": {},
   "outputs": [],
   "source": [
    "# Sobre dados da prova objetivo, serão utilizados dados sobre a presença nas provas (pode ser útil mais pra frente)\n",
    "# Dados sobre qual o código da prova que o aluno fez serão mantidos para análises, mas provavelmente serão retirados para o modelo de previsão\n",
    "# O vetor de respostas será eliminado, pois não iremos analisar quais questões cada aluno errou (motivo análogo para eliminr o vetor de gabarito)\n",
    "# A língua estrangeira será eliminada também, pois ela é considerada irrelevante para as análises que serão feitas\n",
    "df.drop(\"TX_RESPOSTAS_CN\", axis=1, inplace=True)\n",
    "df.drop(\"TX_RESPOSTAS_CH\", axis=1, inplace=True)\n",
    "df.drop(\"TX_RESPOSTAS_LC\", axis=1, inplace=True)\n",
    "df.drop(\"TX_RESPOSTAS_MT\", axis=1, inplace=True)\n",
    "\n",
    "df.drop(\"TP_LINGUA\", axis=1, inplace=True)\n",
    "\n",
    "df.drop(\"TX_GABARITO_CN\", axis=1, inplace=True)\n",
    "df.drop(\"TX_GABARITO_CH\", axis=1, inplace=True)\n",
    "df.drop(\"TX_GABARITO_LC\", axis=1, inplace=True)\n",
    "df.drop(\"TX_GABARITO_MT\", axis=1, inplace=True)"
   ]
  },
  {
   "cell_type": "code",
   "execution_count": 8,
   "metadata": {},
   "outputs": [],
   "source": [
    "# Sobre os dados da Redação, todos serão mantidos\n",
    "# Embora provavelmente a nota de cada competência não será usada no modelo de previsão, essas informações podem ser interessantes de serem analisadas separadamente"
   ]
  },
  {
   "cell_type": "code",
   "execution_count": 9,
   "metadata": {},
   "outputs": [],
   "source": [
    "# Sobre o Formulário Socioeconômico, há várias informações específicas que podem ser interessantes em análises específicas\n",
    "# Para esse trabalho, a única considerada relevante é sobre a renda familiar (Questão 6). As outras serão eliminadas\n",
    "eliminar = [f\"Q{i:03d}\" for i in range(1, 26)]  # as colunas vão de Q001 até Q025\n",
    "eliminar.remove(\"Q006\")  # questão da renda familiar\n",
    "for col in eliminar:\n",
    "    df.drop(col, axis=1, inplace=True)"
   ]
  },
  {
   "cell_type": "markdown",
   "metadata": {},
   "source": [
    "Após as eliminações, temos um total de 31 colunas."
   ]
  },
  {
   "cell_type": "markdown",
   "metadata": {},
   "source": [
    "## Tratamento dos Dados"
   ]
  },
  {
   "cell_type": "markdown",
   "metadata": {},
   "source": [
    "Nesse documento serão feitos tratamentos mais simples (ex: gerar valores NA). Tratamentos mais complexos (ex: tratamentos que exigem criar novas colunas) serão feitos na etapa de Data Cleaning para o modelo de previsão."
   ]
  },
  {
   "cell_type": "code",
   "execution_count": 10,
   "metadata": {},
   "outputs": [],
   "source": [
    "# Células que envolvem algum valor \"não informado\" serão alteradas para NA\n",
    "df[\"TP_COR_RACA\"].replace({0: np.nan, 6: np.nan}, inplace=True)\n",
    "df[\"TP_NACIONALIDADE\"].replace(0, np.nan, inplace=True)\n",
    "df[\"TP_ESCOLA\"].replace(1, np.nan, inplace=True)"
   ]
  },
  {
   "cell_type": "code",
   "execution_count": 11,
   "metadata": {},
   "outputs": [
    {
     "data": {
      "text/plain": [
       "TP_ESCOLA\n",
       "1.0    1105355\n",
       "0.0     212205\n",
       "Name: count, dtype: int64"
      ]
     },
     "execution_count": 11,
     "metadata": {},
     "output_type": "execute_result"
    }
   ],
   "source": [
    "# Como agora só há duas opções de escola (Pública ou Privada), dá para usar só dois valores\n",
    "# Pública = 1 e Privada = 0 (pode ser interpretado como \"elegível à cota?\")\n",
    "df[\"TP_ESCOLA\"].replace({2: 1, 3: 0}, inplace=True)\n",
    "df[\"TP_ESCOLA\"].value_counts()"
   ]
  },
  {
   "cell_type": "code",
   "execution_count": 12,
   "metadata": {},
   "outputs": [
    {
     "data": {
      "text/plain": [
       "669781"
      ]
     },
     "execution_count": 12,
     "metadata": {},
     "output_type": "execute_result"
    }
   ],
   "source": [
    "# Quantos valores ainda vamos ter se dropar valores na?\n",
    "df.dropna().shape[0]"
   ]
  },
  {
   "cell_type": "code",
   "execution_count": 13,
   "metadata": {},
   "outputs": [],
   "source": [
    "# Deletando valores na\n",
    "df.dropna(inplace=True)"
   ]
  },
  {
   "cell_type": "code",
   "execution_count": 14,
   "metadata": {},
   "outputs": [
    {
     "name": "stdout",
     "output_type": "stream",
     "text": [
      "<class 'pandas.core.frame.DataFrame'>\n",
      "Index: 669781 entries, 40 to 3476102\n",
      "Data columns (total 30 columns):\n",
      " #   Column             Non-Null Count   Dtype  \n",
      "---  ------             --------------   -----  \n",
      " 0   NU_INSCRICAO       669781 non-null  int64  \n",
      " 1   TP_FAIXA_ETARIA    669781 non-null  int64  \n",
      " 2   TP_SEXO            669781 non-null  object \n",
      " 3   TP_COR_RACA        669781 non-null  float64\n",
      " 4   TP_NACIONALIDADE   669781 non-null  float64\n",
      " 5   TP_ST_CONCLUSAO    669781 non-null  int64  \n",
      " 6   TP_ESCOLA          669781 non-null  float64\n",
      " 7   TP_ENSINO          669781 non-null  float64\n",
      " 8   IN_TREINEIRO       669781 non-null  int64  \n",
      " 9   SG_UF_ESC          669781 non-null  object \n",
      " 10  TP_PRESENCA_CN     669781 non-null  int64  \n",
      " 11  TP_PRESENCA_CH     669781 non-null  int64  \n",
      " 12  TP_PRESENCA_LC     669781 non-null  int64  \n",
      " 13  TP_PRESENCA_MT     669781 non-null  int64  \n",
      " 14  CO_PROVA_CN        669781 non-null  float64\n",
      " 15  CO_PROVA_CH        669781 non-null  float64\n",
      " 16  CO_PROVA_LC        669781 non-null  float64\n",
      " 17  CO_PROVA_MT        669781 non-null  float64\n",
      " 18  NU_NOTA_CN         669781 non-null  float64\n",
      " 19  NU_NOTA_CH         669781 non-null  float64\n",
      " 20  NU_NOTA_LC         669781 non-null  float64\n",
      " 21  NU_NOTA_MT         669781 non-null  float64\n",
      " 22  TP_STATUS_REDACAO  669781 non-null  float64\n",
      " 23  NU_NOTA_COMP1      669781 non-null  float64\n",
      " 24  NU_NOTA_COMP2      669781 non-null  float64\n",
      " 25  NU_NOTA_COMP3      669781 non-null  float64\n",
      " 26  NU_NOTA_COMP4      669781 non-null  float64\n",
      " 27  NU_NOTA_COMP5      669781 non-null  float64\n",
      " 28  NU_NOTA_REDACAO    669781 non-null  float64\n",
      " 29  Q006               669781 non-null  object \n",
      "dtypes: float64(19), int64(8), object(3)\n",
      "memory usage: 158.4+ MB\n"
     ]
    }
   ],
   "source": [
    "df.info()"
   ]
  },
  {
   "cell_type": "markdown",
   "metadata": {},
   "source": [
    "## Conclusão"
   ]
  },
  {
   "cell_type": "markdown",
   "metadata": {},
   "source": [
    "Infelizmente, muitas pessoas não respondem alguns campos (principalmente o de informar se a escola é pública ou privada). Por causa disso, um dataset de mais de 3 milhões de observações foi reduzido para 600 mil observações. Entretanto, ainda é um número considerável para fazer análises."
   ]
  },
  {
   "cell_type": "code",
   "execution_count": 15,
   "metadata": {},
   "outputs": [],
   "source": [
    "# Slavando dataset\n",
    "df.to_csv(\"enem2022_dataset.csv\", index=False)"
   ]
  },
  {
   "cell_type": "code",
   "execution_count": null,
   "metadata": {},
   "outputs": [],
   "source": []
  }
 ],
 "metadata": {
  "kernelspec": {
   "display_name": "Python 3",
   "language": "python",
   "name": "python3"
  },
  "language_info": {
   "codemirror_mode": {
    "name": "ipython",
    "version": 3
   },
   "file_extension": ".py",
   "mimetype": "text/x-python",
   "name": "python",
   "nbconvert_exporter": "python",
   "pygments_lexer": "ipython3",
   "version": "3.10.12"
  },
  "orig_nbformat": 4
 },
 "nbformat": 4,
 "nbformat_minor": 2
}
