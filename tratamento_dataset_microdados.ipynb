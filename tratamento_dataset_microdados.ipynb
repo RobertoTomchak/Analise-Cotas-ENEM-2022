{
 "cells": [
  {
   "cell_type": "markdown",
   "metadata": {},
   "source": [
    "# Tratamento Inicial de Dados do ENEM 2022"
   ]
  },
  {
   "cell_type": "markdown",
   "metadata": {},
   "source": [
    "## Objetivo"
   ]
  },
  {
   "cell_type": "markdown",
   "metadata": {},
   "source": [
    "O dataset do ENEM é bem grande, e possui muitos parâmetros desnecessários para esse estudo, além de valores vazios. "
   ]
  },
  {
   "cell_type": "markdown",
   "metadata": {},
   "source": [
    "## Importanto Dados"
   ]
  },
  {
   "cell_type": "code",
   "execution_count": 45,
   "metadata": {},
   "outputs": [],
   "source": [
    "import pandas as pd\n",
    "import numpy as np"
   ]
  },
  {
   "cell_type": "code",
   "execution_count": 46,
   "metadata": {},
   "outputs": [],
   "source": [
    "df = pd.read_csv(\"microdados_enem_2022/DADOS/MICRODADOS_ENEM_2022.csv\", encoding=\"iso-8859-1\", delimiter=\";\")"
   ]
  },
  {
   "cell_type": "code",
   "execution_count": 47,
   "metadata": {},
   "outputs": [
    {
     "data": {
      "text/html": [
       "<div>\n",
       "<style scoped>\n",
       "    .dataframe tbody tr th:only-of-type {\n",
       "        vertical-align: middle;\n",
       "    }\n",
       "\n",
       "    .dataframe tbody tr th {\n",
       "        vertical-align: top;\n",
       "    }\n",
       "\n",
       "    .dataframe thead th {\n",
       "        text-align: right;\n",
       "    }\n",
       "</style>\n",
       "<table border=\"1\" class=\"dataframe\">\n",
       "  <thead>\n",
       "    <tr style=\"text-align: right;\">\n",
       "      <th></th>\n",
       "      <th>NU_INSCRICAO</th>\n",
       "      <th>NU_ANO</th>\n",
       "      <th>TP_FAIXA_ETARIA</th>\n",
       "      <th>TP_SEXO</th>\n",
       "      <th>TP_ESTADO_CIVIL</th>\n",
       "      <th>TP_COR_RACA</th>\n",
       "      <th>TP_NACIONALIDADE</th>\n",
       "      <th>TP_ST_CONCLUSAO</th>\n",
       "      <th>TP_ANO_CONCLUIU</th>\n",
       "      <th>TP_ESCOLA</th>\n",
       "      <th>...</th>\n",
       "      <th>Q016</th>\n",
       "      <th>Q017</th>\n",
       "      <th>Q018</th>\n",
       "      <th>Q019</th>\n",
       "      <th>Q020</th>\n",
       "      <th>Q021</th>\n",
       "      <th>Q022</th>\n",
       "      <th>Q023</th>\n",
       "      <th>Q024</th>\n",
       "      <th>Q025</th>\n",
       "    </tr>\n",
       "  </thead>\n",
       "  <tbody>\n",
       "    <tr>\n",
       "      <th>0</th>\n",
       "      <td>210057943671</td>\n",
       "      <td>2022</td>\n",
       "      <td>14</td>\n",
       "      <td>M</td>\n",
       "      <td>2</td>\n",
       "      <td>2</td>\n",
       "      <td>1</td>\n",
       "      <td>1</td>\n",
       "      <td>2</td>\n",
       "      <td>1</td>\n",
       "      <td>...</td>\n",
       "      <td>B</td>\n",
       "      <td>A</td>\n",
       "      <td>A</td>\n",
       "      <td>A</td>\n",
       "      <td>A</td>\n",
       "      <td>A</td>\n",
       "      <td>A</td>\n",
       "      <td>A</td>\n",
       "      <td>A</td>\n",
       "      <td>A</td>\n",
       "    </tr>\n",
       "    <tr>\n",
       "      <th>1</th>\n",
       "      <td>210057516120</td>\n",
       "      <td>2022</td>\n",
       "      <td>14</td>\n",
       "      <td>M</td>\n",
       "      <td>2</td>\n",
       "      <td>1</td>\n",
       "      <td>1</td>\n",
       "      <td>1</td>\n",
       "      <td>16</td>\n",
       "      <td>1</td>\n",
       "      <td>...</td>\n",
       "      <td>E</td>\n",
       "      <td>E</td>\n",
       "      <td>B</td>\n",
       "      <td>E</td>\n",
       "      <td>B</td>\n",
       "      <td>B</td>\n",
       "      <td>E</td>\n",
       "      <td>B</td>\n",
       "      <td>E</td>\n",
       "      <td>B</td>\n",
       "    </tr>\n",
       "    <tr>\n",
       "      <th>2</th>\n",
       "      <td>210057280536</td>\n",
       "      <td>2022</td>\n",
       "      <td>5</td>\n",
       "      <td>F</td>\n",
       "      <td>1</td>\n",
       "      <td>2</td>\n",
       "      <td>1</td>\n",
       "      <td>1</td>\n",
       "      <td>2</td>\n",
       "      <td>1</td>\n",
       "      <td>...</td>\n",
       "      <td>A</td>\n",
       "      <td>A</td>\n",
       "      <td>A</td>\n",
       "      <td>A</td>\n",
       "      <td>A</td>\n",
       "      <td>A</td>\n",
       "      <td>C</td>\n",
       "      <td>A</td>\n",
       "      <td>A</td>\n",
       "      <td>B</td>\n",
       "    </tr>\n",
       "    <tr>\n",
       "      <th>3</th>\n",
       "      <td>210055724397</td>\n",
       "      <td>2022</td>\n",
       "      <td>6</td>\n",
       "      <td>M</td>\n",
       "      <td>1</td>\n",
       "      <td>3</td>\n",
       "      <td>1</td>\n",
       "      <td>1</td>\n",
       "      <td>2</td>\n",
       "      <td>1</td>\n",
       "      <td>...</td>\n",
       "      <td>B</td>\n",
       "      <td>A</td>\n",
       "      <td>A</td>\n",
       "      <td>C</td>\n",
       "      <td>A</td>\n",
       "      <td>A</td>\n",
       "      <td>C</td>\n",
       "      <td>B</td>\n",
       "      <td>B</td>\n",
       "      <td>B</td>\n",
       "    </tr>\n",
       "    <tr>\n",
       "      <th>4</th>\n",
       "      <td>210055097896</td>\n",
       "      <td>2022</td>\n",
       "      <td>4</td>\n",
       "      <td>M</td>\n",
       "      <td>0</td>\n",
       "      <td>3</td>\n",
       "      <td>1</td>\n",
       "      <td>1</td>\n",
       "      <td>1</td>\n",
       "      <td>1</td>\n",
       "      <td>...</td>\n",
       "      <td>A</td>\n",
       "      <td>A</td>\n",
       "      <td>A</td>\n",
       "      <td>A</td>\n",
       "      <td>A</td>\n",
       "      <td>A</td>\n",
       "      <td>B</td>\n",
       "      <td>A</td>\n",
       "      <td>A</td>\n",
       "      <td>A</td>\n",
       "    </tr>\n",
       "    <tr>\n",
       "      <th>...</th>\n",
       "      <td>...</td>\n",
       "      <td>...</td>\n",
       "      <td>...</td>\n",
       "      <td>...</td>\n",
       "      <td>...</td>\n",
       "      <td>...</td>\n",
       "      <td>...</td>\n",
       "      <td>...</td>\n",
       "      <td>...</td>\n",
       "      <td>...</td>\n",
       "      <td>...</td>\n",
       "      <td>...</td>\n",
       "      <td>...</td>\n",
       "      <td>...</td>\n",
       "      <td>...</td>\n",
       "      <td>...</td>\n",
       "      <td>...</td>\n",
       "      <td>...</td>\n",
       "      <td>...</td>\n",
       "      <td>...</td>\n",
       "      <td>...</td>\n",
       "    </tr>\n",
       "    <tr>\n",
       "      <th>3476100</th>\n",
       "      <td>210056389903</td>\n",
       "      <td>2022</td>\n",
       "      <td>3</td>\n",
       "      <td>M</td>\n",
       "      <td>1</td>\n",
       "      <td>1</td>\n",
       "      <td>1</td>\n",
       "      <td>2</td>\n",
       "      <td>0</td>\n",
       "      <td>2</td>\n",
       "      <td>...</td>\n",
       "      <td>B</td>\n",
       "      <td>A</td>\n",
       "      <td>B</td>\n",
       "      <td>B</td>\n",
       "      <td>B</td>\n",
       "      <td>A</td>\n",
       "      <td>E</td>\n",
       "      <td>A</td>\n",
       "      <td>A</td>\n",
       "      <td>B</td>\n",
       "    </tr>\n",
       "    <tr>\n",
       "      <th>3476101</th>\n",
       "      <td>210057205644</td>\n",
       "      <td>2022</td>\n",
       "      <td>14</td>\n",
       "      <td>F</td>\n",
       "      <td>2</td>\n",
       "      <td>1</td>\n",
       "      <td>1</td>\n",
       "      <td>2</td>\n",
       "      <td>0</td>\n",
       "      <td>2</td>\n",
       "      <td>...</td>\n",
       "      <td>A</td>\n",
       "      <td>A</td>\n",
       "      <td>A</td>\n",
       "      <td>B</td>\n",
       "      <td>A</td>\n",
       "      <td>A</td>\n",
       "      <td>C</td>\n",
       "      <td>A</td>\n",
       "      <td>B</td>\n",
       "      <td>B</td>\n",
       "    </tr>\n",
       "    <tr>\n",
       "      <th>3476102</th>\n",
       "      <td>210056699189</td>\n",
       "      <td>2022</td>\n",
       "      <td>2</td>\n",
       "      <td>M</td>\n",
       "      <td>1</td>\n",
       "      <td>1</td>\n",
       "      <td>1</td>\n",
       "      <td>2</td>\n",
       "      <td>0</td>\n",
       "      <td>2</td>\n",
       "      <td>...</td>\n",
       "      <td>B</td>\n",
       "      <td>A</td>\n",
       "      <td>B</td>\n",
       "      <td>C</td>\n",
       "      <td>B</td>\n",
       "      <td>A</td>\n",
       "      <td>E</td>\n",
       "      <td>A</td>\n",
       "      <td>B</td>\n",
       "      <td>B</td>\n",
       "    </tr>\n",
       "    <tr>\n",
       "      <th>3476103</th>\n",
       "      <td>210056983033</td>\n",
       "      <td>2022</td>\n",
       "      <td>3</td>\n",
       "      <td>M</td>\n",
       "      <td>1</td>\n",
       "      <td>3</td>\n",
       "      <td>1</td>\n",
       "      <td>2</td>\n",
       "      <td>0</td>\n",
       "      <td>3</td>\n",
       "      <td>...</td>\n",
       "      <td>B</td>\n",
       "      <td>A</td>\n",
       "      <td>B</td>\n",
       "      <td>D</td>\n",
       "      <td>A</td>\n",
       "      <td>A</td>\n",
       "      <td>E</td>\n",
       "      <td>A</td>\n",
       "      <td>B</td>\n",
       "      <td>B</td>\n",
       "    </tr>\n",
       "    <tr>\n",
       "      <th>3476104</th>\n",
       "      <td>210056307777</td>\n",
       "      <td>2022</td>\n",
       "      <td>2</td>\n",
       "      <td>F</td>\n",
       "      <td>2</td>\n",
       "      <td>3</td>\n",
       "      <td>1</td>\n",
       "      <td>2</td>\n",
       "      <td>0</td>\n",
       "      <td>2</td>\n",
       "      <td>...</td>\n",
       "      <td>A</td>\n",
       "      <td>A</td>\n",
       "      <td>A</td>\n",
       "      <td>B</td>\n",
       "      <td>A</td>\n",
       "      <td>A</td>\n",
       "      <td>C</td>\n",
       "      <td>A</td>\n",
       "      <td>C</td>\n",
       "      <td>B</td>\n",
       "    </tr>\n",
       "  </tbody>\n",
       "</table>\n",
       "<p>3476105 rows × 76 columns</p>\n",
       "</div>"
      ],
      "text/plain": [
       "         NU_INSCRICAO  NU_ANO  TP_FAIXA_ETARIA TP_SEXO  TP_ESTADO_CIVIL   \n",
       "0        210057943671    2022               14       M                2  \\\n",
       "1        210057516120    2022               14       M                2   \n",
       "2        210057280536    2022                5       F                1   \n",
       "3        210055724397    2022                6       M                1   \n",
       "4        210055097896    2022                4       M                0   \n",
       "...               ...     ...              ...     ...              ...   \n",
       "3476100  210056389903    2022                3       M                1   \n",
       "3476101  210057205644    2022               14       F                2   \n",
       "3476102  210056699189    2022                2       M                1   \n",
       "3476103  210056983033    2022                3       M                1   \n",
       "3476104  210056307777    2022                2       F                2   \n",
       "\n",
       "         TP_COR_RACA  TP_NACIONALIDADE  TP_ST_CONCLUSAO  TP_ANO_CONCLUIU   \n",
       "0                  2                 1                1                2  \\\n",
       "1                  1                 1                1               16   \n",
       "2                  2                 1                1                2   \n",
       "3                  3                 1                1                2   \n",
       "4                  3                 1                1                1   \n",
       "...              ...               ...              ...              ...   \n",
       "3476100            1                 1                2                0   \n",
       "3476101            1                 1                2                0   \n",
       "3476102            1                 1                2                0   \n",
       "3476103            3                 1                2                0   \n",
       "3476104            3                 1                2                0   \n",
       "\n",
       "         TP_ESCOLA  ...  Q016  Q017  Q018 Q019  Q020 Q021  Q022  Q023  Q024   \n",
       "0                1  ...     B     A     A    A     A    A     A     A     A  \\\n",
       "1                1  ...     E     E     B    E     B    B     E     B     E   \n",
       "2                1  ...     A     A     A    A     A    A     C     A     A   \n",
       "3                1  ...     B     A     A    C     A    A     C     B     B   \n",
       "4                1  ...     A     A     A    A     A    A     B     A     A   \n",
       "...            ...  ...   ...   ...   ...  ...   ...  ...   ...   ...   ...   \n",
       "3476100          2  ...     B     A     B    B     B    A     E     A     A   \n",
       "3476101          2  ...     A     A     A    B     A    A     C     A     B   \n",
       "3476102          2  ...     B     A     B    C     B    A     E     A     B   \n",
       "3476103          3  ...     B     A     B    D     A    A     E     A     B   \n",
       "3476104          2  ...     A     A     A    B     A    A     C     A     C   \n",
       "\n",
       "         Q025  \n",
       "0           A  \n",
       "1           B  \n",
       "2           B  \n",
       "3           B  \n",
       "4           A  \n",
       "...       ...  \n",
       "3476100     B  \n",
       "3476101     B  \n",
       "3476102     B  \n",
       "3476103     B  \n",
       "3476104     B  \n",
       "\n",
       "[3476105 rows x 76 columns]"
      ]
     },
     "execution_count": 47,
     "metadata": {},
     "output_type": "execute_result"
    }
   ],
   "source": [
    "df"
   ]
  },
  {
   "cell_type": "code",
   "execution_count": 48,
   "metadata": {},
   "outputs": [
    {
     "name": "stdout",
     "output_type": "stream",
     "text": [
      "<class 'pandas.core.frame.DataFrame'>\n",
      "RangeIndex: 3476105 entries, 0 to 3476104\n",
      "Data columns (total 76 columns):\n",
      " #   Column                  Dtype  \n",
      "---  ------                  -----  \n",
      " 0   NU_INSCRICAO            int64  \n",
      " 1   NU_ANO                  int64  \n",
      " 2   TP_FAIXA_ETARIA         int64  \n",
      " 3   TP_SEXO                 object \n",
      " 4   TP_ESTADO_CIVIL         int64  \n",
      " 5   TP_COR_RACA             int64  \n",
      " 6   TP_NACIONALIDADE        int64  \n",
      " 7   TP_ST_CONCLUSAO         int64  \n",
      " 8   TP_ANO_CONCLUIU         int64  \n",
      " 9   TP_ESCOLA               int64  \n",
      " 10  TP_ENSINO               float64\n",
      " 11  IN_TREINEIRO            int64  \n",
      " 12  CO_MUNICIPIO_ESC        float64\n",
      " 13  NO_MUNICIPIO_ESC        object \n",
      " 14  CO_UF_ESC               float64\n",
      " 15  SG_UF_ESC               object \n",
      " 16  TP_DEPENDENCIA_ADM_ESC  float64\n",
      " 17  TP_LOCALIZACAO_ESC      float64\n",
      " 18  TP_SIT_FUNC_ESC         float64\n",
      " 19  CO_MUNICIPIO_PROVA      int64  \n",
      " 20  NO_MUNICIPIO_PROVA      object \n",
      " 21  CO_UF_PROVA             int64  \n",
      " 22  SG_UF_PROVA             object \n",
      " 23  TP_PRESENCA_CN          int64  \n",
      " 24  TP_PRESENCA_CH          int64  \n",
      " 25  TP_PRESENCA_LC          int64  \n",
      " 26  TP_PRESENCA_MT          int64  \n",
      " 27  CO_PROVA_CN             float64\n",
      " 28  CO_PROVA_CH             float64\n",
      " 29  CO_PROVA_LC             float64\n",
      " 30  CO_PROVA_MT             float64\n",
      " 31  NU_NOTA_CN              float64\n",
      " 32  NU_NOTA_CH              float64\n",
      " 33  NU_NOTA_LC              float64\n",
      " 34  NU_NOTA_MT              float64\n",
      " 35  TX_RESPOSTAS_CN         object \n",
      " 36  TX_RESPOSTAS_CH         object \n",
      " 37  TX_RESPOSTAS_LC         object \n",
      " 38  TX_RESPOSTAS_MT         object \n",
      " 39  TP_LINGUA               int64  \n",
      " 40  TX_GABARITO_CN          object \n",
      " 41  TX_GABARITO_CH          object \n",
      " 42  TX_GABARITO_LC          object \n",
      " 43  TX_GABARITO_MT          object \n",
      " 44  TP_STATUS_REDACAO       float64\n",
      " 45  NU_NOTA_COMP1           float64\n",
      " 46  NU_NOTA_COMP2           float64\n",
      " 47  NU_NOTA_COMP3           float64\n",
      " 48  NU_NOTA_COMP4           float64\n",
      " 49  NU_NOTA_COMP5           float64\n",
      " 50  NU_NOTA_REDACAO         float64\n",
      " 51  Q001                    object \n",
      " 52  Q002                    object \n",
      " 53  Q003                    object \n",
      " 54  Q004                    object \n",
      " 55  Q005                    int64  \n",
      " 56  Q006                    object \n",
      " 57  Q007                    object \n",
      " 58  Q008                    object \n",
      " 59  Q009                    object \n",
      " 60  Q010                    object \n",
      " 61  Q011                    object \n",
      " 62  Q012                    object \n",
      " 63  Q013                    object \n",
      " 64  Q014                    object \n",
      " 65  Q015                    object \n",
      " 66  Q016                    object \n",
      " 67  Q017                    object \n",
      " 68  Q018                    object \n",
      " 69  Q019                    object \n",
      " 70  Q020                    object \n",
      " 71  Q021                    object \n",
      " 72  Q022                    object \n",
      " 73  Q023                    object \n",
      " 74  Q024                    object \n",
      " 75  Q025                    object \n",
      "dtypes: float64(21), int64(18), object(37)\n",
      "memory usage: 2.0+ GB\n"
     ]
    }
   ],
   "source": [
    "df.info()"
   ]
  },
  {
   "cell_type": "markdown",
   "metadata": {},
   "source": [
    "Como podemos ver, a tabela tem 76 colunas. Muitas delas não são relevantes para a nossa análise (ex: vetor com as questões que o inscrito marcou). Outras possues um valor marcado com algo quando seria mais interessante se fosse NA (ex: valor 1 no tipo de escola quer dizer que não respondeu).<br><br>\n",
    "A partir de agora, iremos eliminar aquelas colunas julgadas como não relevantes, e transformar os dados caso seja necessário.<br><br>\n",
    "Tratamentos mais avançados ou bem específicos da análise que for feita serão feitos num código a parte."
   ]
  },
  {
   "cell_type": "markdown",
   "metadata": {},
   "source": [
    "## Eliminando Colunas Desnecessárias"
   ]
  },
  {
   "cell_type": "markdown",
   "metadata": {},
   "source": [
    "As colunas podem ser vistas no diretório DICIONÁRIO."
   ]
  },
  {
   "cell_type": "code",
   "execution_count": 49,
   "metadata": {},
   "outputs": [],
   "source": [
    "# Todos os dados são do ENEM 2022\n",
    "df.drop(\"NU_ANO\", axis=1, inplace=True)"
   ]
  },
  {
   "cell_type": "code",
   "execution_count": 50,
   "metadata": {},
   "outputs": [],
   "source": [
    "# O Estado Civil não é considerado relevante para as análises que serão feitas. \n",
    "# Ele não dá informações relevantes sobre o desempenho do candidato da prova, e nem possui relação com cotas\n",
    "# Ano de conclusão de ensino médio também (o que é relevante é se está fazendo ou não)\n",
    "df.drop(\"TP_ESTADO_CIVIL\", axis=1, inplace=True)\n",
    "df.drop(\"TP_ANO_CONCLUIU\", axis=1, inplace=True)"
   ]
  },
  {
   "cell_type": "code",
   "execution_count": 51,
   "metadata": {},
   "outputs": [],
   "source": [
    "# Quanto à região da escola, algumas informações podem ser relevantes\n",
    "# Para esse trabalho, será considerado que apenas a UF da escola é relevante. O município é uma informação muito específica, e vai gerar um número muito alto de classes.\n",
    "# Informações como localização da escola e estado de funcionamento podem ser bem legais, entretanto, para limitar o número de parâmetros, será considerado que saber se a escola\n",
    "# é pública ou privada e em qual UF ela fica são informações suficientes\n",
    "df.drop(\"CO_MUNICIPIO_ESC\", axis=1, inplace=True)\n",
    "df.drop(\"NO_MUNICIPIO_ESC\", axis=1, inplace=True)\n",
    "df.drop(\"TP_DEPENDENCIA_ADM_ESC\", axis=1, inplace=True)\n",
    "df.drop(\"CO_UF_ESC\", axis=1, inplace=True)\n",
    "df.drop(\"TP_LOCALIZACAO_ESC\", axis=1, inplace=True)\n",
    "df.drop(\"TP_SIT_FUNC_ESC\", axis=1, inplace=True)"
   ]
  },
  {
   "cell_type": "code",
   "execution_count": 52,
   "metadata": {},
   "outputs": [],
   "source": [
    "# Todos os dados sobre o local da prova serão considerados irrelevantes\n",
    "df.drop(\"CO_MUNICIPIO_PROVA\", axis=1, inplace=True)\n",
    "df.drop(\"NO_MUNICIPIO_PROVA\", axis=1, inplace=True)\n",
    "df.drop(\"CO_UF_PROVA\", axis=1, inplace=True)\n",
    "df.drop(\"SG_UF_PROVA\", axis=1, inplace=True)"
   ]
  },
  {
   "cell_type": "code",
   "execution_count": 53,
   "metadata": {},
   "outputs": [],
   "source": [
    "# Sobre dados da prova objetivo, a informação sobre a presença do participante é desnecessária (podemos saber isso olhando se a nota está como NA ou não)\n",
    "# Dados sobre qual o código da prova também não são considerados relevantes\n",
    "# O vetor de respostas será eliminado, pois não iremos analisar quais questões cada aluno errou (motivo análogo para eliminr o vetor de gabarito)\n",
    "# A língua estrangeira será eliminada também, pois ela é considerada irrelevante para as análises que serão feitas\n",
    "df.drop(\"TP_PRESENCA_CN\", axis=1, inplace=True)\n",
    "df.drop(\"TP_PRESENCA_CH\", axis=1, inplace=True)\n",
    "df.drop(\"TP_PRESENCA_LC\", axis=1, inplace=True)\n",
    "df.drop(\"TP_PRESENCA_MT\", axis=1, inplace=True)\n",
    "\n",
    "df.drop(\"CO_PROVA_CN\", axis=1, inplace=True)\n",
    "df.drop(\"CO_PROVA_CH\", axis=1, inplace=True)\n",
    "df.drop(\"CO_PROVA_LC\", axis=1, inplace=True)\n",
    "df.drop(\"CO_PROVA_MT\", axis=1, inplace=True)\n",
    "\n",
    "df.drop(\"TX_RESPOSTAS_CN\", axis=1, inplace=True)\n",
    "df.drop(\"TX_RESPOSTAS_CH\", axis=1, inplace=True)\n",
    "df.drop(\"TX_RESPOSTAS_LC\", axis=1, inplace=True)\n",
    "df.drop(\"TX_RESPOSTAS_MT\", axis=1, inplace=True)\n",
    "\n",
    "df.drop(\"TP_LINGUA\", axis=1, inplace=True)\n",
    "\n",
    "df.drop(\"TX_GABARITO_CN\", axis=1, inplace=True)\n",
    "df.drop(\"TX_GABARITO_CH\", axis=1, inplace=True)\n",
    "df.drop(\"TX_GABARITO_LC\", axis=1, inplace=True)\n",
    "df.drop(\"TX_GABARITO_MT\", axis=1, inplace=True)"
   ]
  },
  {
   "cell_type": "code",
   "execution_count": 54,
   "metadata": {},
   "outputs": [],
   "source": [
    "# Sobre os dados da Redação, o único que interessa é a nota total da redação\n",
    "df.drop(\"TP_STATUS_REDACAO\", axis=1, inplace=True)\n",
    "\n",
    "df.drop(\"NU_NOTA_COMP1\", axis=1, inplace=True)\n",
    "df.drop(\"NU_NOTA_COMP2\", axis=1, inplace=True)\n",
    "df.drop(\"NU_NOTA_COMP3\", axis=1, inplace=True)\n",
    "df.drop(\"NU_NOTA_COMP4\", axis=1, inplace=True)\n",
    "df.drop(\"NU_NOTA_COMP5\", axis=1, inplace=True)"
   ]
  },
  {
   "cell_type": "code",
   "execution_count": 55,
   "metadata": {},
   "outputs": [],
   "source": [
    "# Sobre o Formulário Socioeconômico, há várias informações específicas que podem ser interessantes em análises específicas\n",
    "# Para esse trabalho, a única considerada relevante é sobre a renda familiar (Questão 6). As outras serão eliminadas\n",
    "eliminar = [f\"Q{i:03d}\" for i in range(1, 26)]  # as colunas vão de Q001 até Q025\n",
    "eliminar.remove(\"Q006\")  # questão da renda familiar\n",
    "for col in eliminar:\n",
    "    df.drop(col, axis=1, inplace=True)"
   ]
  },
  {
   "cell_type": "code",
   "execution_count": 56,
   "metadata": {},
   "outputs": [
    {
     "name": "stdout",
     "output_type": "stream",
     "text": [
      "<class 'pandas.core.frame.DataFrame'>\n",
      "RangeIndex: 3476105 entries, 0 to 3476104\n",
      "Data columns (total 16 columns):\n",
      " #   Column            Dtype  \n",
      "---  ------            -----  \n",
      " 0   NU_INSCRICAO      int64  \n",
      " 1   TP_FAIXA_ETARIA   int64  \n",
      " 2   TP_SEXO           object \n",
      " 3   TP_COR_RACA       int64  \n",
      " 4   TP_NACIONALIDADE  int64  \n",
      " 5   TP_ST_CONCLUSAO   int64  \n",
      " 6   TP_ESCOLA         int64  \n",
      " 7   TP_ENSINO         float64\n",
      " 8   IN_TREINEIRO      int64  \n",
      " 9   SG_UF_ESC         object \n",
      " 10  NU_NOTA_CN        float64\n",
      " 11  NU_NOTA_CH        float64\n",
      " 12  NU_NOTA_LC        float64\n",
      " 13  NU_NOTA_MT        float64\n",
      " 14  NU_NOTA_REDACAO   float64\n",
      " 15  Q006              object \n",
      "dtypes: float64(6), int64(7), object(3)\n",
      "memory usage: 424.3+ MB\n"
     ]
    }
   ],
   "source": [
    "df.info()"
   ]
  },
  {
   "cell_type": "markdown",
   "metadata": {},
   "source": [
    "Após as eliminações, temos um total de 16 colunas.\n",
    "<br><br>\n",
    "Entretanto, muitas dessas possues variáveis categóricas, e portanto, precisam receber um tratamento a mais."
   ]
  },
  {
   "cell_type": "markdown",
   "metadata": {},
   "source": [
    "## Tratamento dos Dados"
   ]
  },
  {
   "cell_type": "markdown",
   "metadata": {},
   "source": [
    "A prioridade é fazer o tratamento das variáveis categóricas. Além disso, algumas colunas possuem valores que deveriam ser NA, mas estão com algum outro valor (ex: na coluna de COR/RAÇA, 0 indica que não declarou resposta)."
   ]
  },
  {
   "cell_type": "markdown",
   "metadata": {},
   "source": [
    "### Remoção de NA"
   ]
  },
  {
   "cell_type": "code",
   "execution_count": 57,
   "metadata": {},
   "outputs": [],
   "source": [
    "# Células que envolvem algum valor \"não informado\" serão alteradas para NA\n",
    "df[\"TP_COR_RACA\"].replace({0: np.nan, 6: np.nan}, inplace=True)\n",
    "df[\"TP_NACIONALIDADE\"].replace(0, np.nan, inplace=True)\n",
    "df[\"TP_ESCOLA\"].replace(1, np.nan, inplace=True)"
   ]
  },
  {
   "cell_type": "code",
   "execution_count": 58,
   "metadata": {},
   "outputs": [
    {
     "data": {
      "text/plain": [
       "TP_ESCOLA\n",
       "1.0    1105355\n",
       "0.0     212205\n",
       "Name: count, dtype: int64"
      ]
     },
     "execution_count": 58,
     "metadata": {},
     "output_type": "execute_result"
    }
   ],
   "source": [
    "# Como agora só há duas opções de escola (Pública ou Privada), dá para usar só dois valores\n",
    "# Pública = 1 e Privada = 0 (pode ser interpretado como \"elegível à cota?\")\n",
    "df[\"TP_ESCOLA\"].replace({2: 1, 3: 0}, inplace=True)\n",
    "df[\"TP_ESCOLA\"].value_counts()"
   ]
  },
  {
   "cell_type": "code",
   "execution_count": 59,
   "metadata": {},
   "outputs": [
    {
     "name": "stdout",
     "output_type": "stream",
     "text": [
      "Original: 3476105\n",
      "Após remoção: 669781\n",
      "Porcentagem do original: 19.27\n"
     ]
    }
   ],
   "source": [
    "# Quantos valores ainda vamos ter se dropar valores na?\n",
    "original = len(df)\n",
    "removido = df.dropna().shape[0]\n",
    "print(f\"Original: {original}\")\n",
    "print(f\"Após remoção: {removido}\")\n",
    "print(f\"Porcentagem do original: {round(100*removido/original, 2)}\")"
   ]
  },
  {
   "cell_type": "code",
   "execution_count": 60,
   "metadata": {},
   "outputs": [],
   "source": [
    "# Deletando valores na\n",
    "df.dropna(inplace=True)"
   ]
  },
  {
   "cell_type": "code",
   "execution_count": 61,
   "metadata": {},
   "outputs": [
    {
     "name": "stdout",
     "output_type": "stream",
     "text": [
      "<class 'pandas.core.frame.DataFrame'>\n",
      "Index: 669781 entries, 40 to 3476102\n",
      "Data columns (total 16 columns):\n",
      " #   Column            Non-Null Count   Dtype  \n",
      "---  ------            --------------   -----  \n",
      " 0   NU_INSCRICAO      669781 non-null  int64  \n",
      " 1   TP_FAIXA_ETARIA   669781 non-null  int64  \n",
      " 2   TP_SEXO           669781 non-null  object \n",
      " 3   TP_COR_RACA       669781 non-null  float64\n",
      " 4   TP_NACIONALIDADE  669781 non-null  float64\n",
      " 5   TP_ST_CONCLUSAO   669781 non-null  int64  \n",
      " 6   TP_ESCOLA         669781 non-null  float64\n",
      " 7   TP_ENSINO         669781 non-null  float64\n",
      " 8   IN_TREINEIRO      669781 non-null  int64  \n",
      " 9   SG_UF_ESC         669781 non-null  object \n",
      " 10  NU_NOTA_CN        669781 non-null  float64\n",
      " 11  NU_NOTA_CH        669781 non-null  float64\n",
      " 12  NU_NOTA_LC        669781 non-null  float64\n",
      " 13  NU_NOTA_MT        669781 non-null  float64\n",
      " 14  NU_NOTA_REDACAO   669781 non-null  float64\n",
      " 15  Q006              669781 non-null  object \n",
      "dtypes: float64(9), int64(4), object(3)\n",
      "memory usage: 86.9+ MB\n"
     ]
    }
   ],
   "source": [
    "df.info()"
   ]
  },
  {
   "cell_type": "markdown",
   "metadata": {},
   "source": [
    "### Tratando Variáveis Categóricas"
   ]
  },
  {
   "cell_type": "code",
   "execution_count": 62,
   "metadata": {},
   "outputs": [
    {
     "data": {
      "text/plain": [
       "[1, 2, 3, 4, 5, 6, 7, 8, 9, 10, 11, 12, 13, 14, 15, 16, 17, 18, 19, 20]"
      ]
     },
     "execution_count": 62,
     "metadata": {},
     "output_type": "execute_result"
    }
   ],
   "source": [
    "# Faixa etária já está no formato de Ordinal Encoding, então será mantida (por ter uma certa noção de ordem)\n",
    "values = list(df[\"TP_FAIXA_ETARIA\"].unique())\n",
    "values.sort()\n",
    "values"
   ]
  },
  {
   "cell_type": "code",
   "execution_count": 63,
   "metadata": {},
   "outputs": [
    {
     "data": {
      "text/plain": [
       "array([0, 1])"
      ]
     },
     "execution_count": 63,
     "metadata": {},
     "output_type": "execute_result"
    }
   ],
   "source": [
    "# Sexo será alterado usando apenas uma coluna\n",
    "# F -> 0, M -> 1\n",
    "df[\"TP_SEXO\"].replace({\"F\": 0, \"M\": 1}, inplace=True)\n",
    "df[\"TP_SEXO\"].unique()"
   ]
  },
  {
   "cell_type": "code",
   "execution_count": 64,
   "metadata": {},
   "outputs": [
    {
     "data": {
      "text/plain": [
       "TP_COR_RACA\n",
       "1.0    328473\n",
       "3.0    265281\n",
       "2.0     61609\n",
       "4.0     11466\n",
       "5.0      2952\n",
       "Name: count, dtype: int64"
      ]
     },
     "execution_count": 64,
     "metadata": {},
     "output_type": "execute_result"
    }
   ],
   "source": [
    "df[\"TP_COR_RACA\"].value_counts()"
   ]
  },
  {
   "cell_type": "code",
   "execution_count": 65,
   "metadata": {},
   "outputs": [
    {
     "data": {
      "text/plain": [
       "Index(['NU_INSCRICAO', 'TP_FAIXA_ETARIA', 'TP_SEXO', 'TP_NACIONALIDADE',\n",
       "       'TP_ST_CONCLUSAO', 'TP_ESCOLA', 'TP_ENSINO', 'IN_TREINEIRO',\n",
       "       'SG_UF_ESC', 'NU_NOTA_CN', 'NU_NOTA_CH', 'NU_NOTA_LC', 'NU_NOTA_MT',\n",
       "       'NU_NOTA_REDACAO', 'Q006', 'COR_RACA_1.0', 'COR_RACA_2.0',\n",
       "       'COR_RACA_3.0', 'COR_RACA_4.0', 'COR_RACA_5.0'],\n",
       "      dtype='object')"
      ]
     },
     "execution_count": 65,
     "metadata": {},
     "output_type": "execute_result"
    }
   ],
   "source": [
    "# Cor/Raça precisa de One Hot encoding\n",
    "one_hot = pd.get_dummies(df[\"TP_COR_RACA\"], prefix=\"COR_RACA\")\n",
    "df = df.join(one_hot)\n",
    "df.drop(\"TP_COR_RACA\", axis=1, inplace=True)\n",
    "df.columns"
   ]
  },
  {
   "cell_type": "code",
   "execution_count": 66,
   "metadata": {},
   "outputs": [
    {
     "data": {
      "text/plain": [
       "TP_NACIONALIDADE\n",
       "1.0    655438\n",
       "2.0     11523\n",
       "4.0      1676\n",
       "3.0      1144\n",
       "Name: count, dtype: int64"
      ]
     },
     "execution_count": 66,
     "metadata": {},
     "output_type": "execute_result"
    }
   ],
   "source": [
    "df[\"TP_NACIONALIDADE\"].value_counts()"
   ]
  },
  {
   "cell_type": "code",
   "execution_count": 67,
   "metadata": {},
   "outputs": [
    {
     "data": {
      "text/plain": [
       "Index(['NU_INSCRICAO', 'TP_FAIXA_ETARIA', 'TP_SEXO', 'TP_ST_CONCLUSAO',\n",
       "       'TP_ESCOLA', 'TP_ENSINO', 'IN_TREINEIRO', 'SG_UF_ESC', 'NU_NOTA_CN',\n",
       "       'NU_NOTA_CH', 'NU_NOTA_LC', 'NU_NOTA_MT', 'NU_NOTA_REDACAO', 'Q006',\n",
       "       'COR_RACA_1.0', 'COR_RACA_2.0', 'COR_RACA_3.0', 'COR_RACA_4.0',\n",
       "       'COR_RACA_5.0', 'NACIONALIDADE_1.0', 'NACIONALIDADE_2.0',\n",
       "       'NACIONALIDADE_3.0', 'NACIONALIDADE_4.0'],\n",
       "      dtype='object')"
      ]
     },
     "execution_count": 67,
     "metadata": {},
     "output_type": "execute_result"
    }
   ],
   "source": [
    "# Nacionalidade usa One Hot também\n",
    "one_hot = pd.get_dummies(df[\"TP_NACIONALIDADE\"], prefix=\"NACIONALIDADE\")\n",
    "df = df.join(one_hot)\n",
    "df.drop(\"TP_NACIONALIDADE\", axis=1, inplace=True)\n",
    "df.columns"
   ]
  },
  {
   "cell_type": "code",
   "execution_count": 68,
   "metadata": {},
   "outputs": [
    {
     "data": {
      "text/plain": [
       "[2]"
      ]
     },
     "execution_count": 68,
     "metadata": {},
     "output_type": "execute_result"
    }
   ],
   "source": [
    "# Ano de Conclusão do EM \n",
    "values = list(df[\"TP_ST_CONCLUSAO\"].unique())\n",
    "values.sort()\n",
    "values"
   ]
  },
  {
   "cell_type": "code",
   "execution_count": 69,
   "metadata": {},
   "outputs": [],
   "source": [
    "# Note que todos os participantes restantes estão no último ano do Ensino Médio. Portanto, essa coluna pode ser eliminada\n",
    "df.drop(\"TP_ST_CONCLUSAO\", axis=1, inplace=True)"
   ]
  },
  {
   "cell_type": "code",
   "execution_count": 70,
   "metadata": {},
   "outputs": [
    {
     "data": {
      "text/plain": [
       "array([1., 0.])"
      ]
     },
     "execution_count": 70,
     "metadata": {},
     "output_type": "execute_result"
    }
   ],
   "source": [
    "# Tipo de Escola já foi corrigido\n",
    "df[\"TP_ESCOLA\"].unique()"
   ]
  },
  {
   "cell_type": "code",
   "execution_count": 71,
   "metadata": {},
   "outputs": [
    {
     "data": {
      "text/plain": [
       "array([0., 1.])"
      ]
     },
     "execution_count": 71,
     "metadata": {},
     "output_type": "execute_result"
    }
   ],
   "source": [
    "# Tipo de Ensinado será corrigido usando uma coluna\n",
    "# 0 -> Ensino Regular, 1 -> Ensino Especial\n",
    "df[\"TP_ENSINO\"].replace({1: 0, 2: 1}, inplace=True)\n",
    "df[\"TP_ENSINO\"].unique()"
   ]
  },
  {
   "cell_type": "code",
   "execution_count": 72,
   "metadata": {},
   "outputs": [
    {
     "data": {
      "text/plain": [
       "array([0])"
      ]
     },
     "execution_count": 72,
     "metadata": {},
     "output_type": "execute_result"
    }
   ],
   "source": [
    "df[\"IN_TREINEIRO\"].unique()"
   ]
  },
  {
   "cell_type": "code",
   "execution_count": 73,
   "metadata": {},
   "outputs": [],
   "source": [
    "# Como não há treineiros, essa coluna pode ser eliminada\n",
    "df.drop(\"IN_TREINEIRO\", axis=1, inplace=True)"
   ]
  },
  {
   "cell_type": "code",
   "execution_count": 74,
   "metadata": {},
   "outputs": [
    {
     "data": {
      "text/plain": [
       "27"
      ]
     },
     "execution_count": 74,
     "metadata": {},
     "output_type": "execute_result"
    }
   ],
   "source": [
    "# Número de UFs\n",
    "len(df[\"SG_UF_ESC\"].unique())"
   ]
  },
  {
   "cell_type": "code",
   "execution_count": 76,
   "metadata": {},
   "outputs": [
    {
     "data": {
      "text/plain": [
       "array(['NORDESTE', 'SUDESTE', 'CENTROOESTE', 'NORTE', 'DF', 'SUL'],\n",
       "      dtype=object)"
      ]
     },
     "execution_count": 76,
     "metadata": {},
     "output_type": "execute_result"
    }
   ],
   "source": [
    "# UFs serão separadas por região\n",
    "regioes = {\n",
    "    \"NORTE\": [\"AC\", \"RO\", \"AM\", \"RR\", \"PA\", \"AP\", \"TO\"],\n",
    "    \"NORDESTE\": [\"MA\", \"PI\", \"BA\", \"CE\", \"RN\", \"PB\", \"PE\", \"AL\", \"SE\"],\n",
    "    \"CENTROOESTE\": [\"MT\", \"GO\", \"MS\", \"DF\"],\n",
    "    \"SUDESTE\": [\"MG\", \"ES\", \"RJ\", \"SP\"],\n",
    "    \"SUL\": [\"PR\", \"SC\", \"RS\"]\n",
    "}\n",
    "for regiao, UFs in regioes.items():\n",
    "    df[\"SG_UF_ESC\"].replace(UFs, regiao, inplace=True)\n",
    "df[\"SG_UF_ESC\"].unique()"
   ]
  },
  {
   "cell_type": "code",
   "execution_count": 84,
   "metadata": {},
   "outputs": [
    {
     "data": {
      "text/plain": [
       "SG_UF_ESC\n",
       "SUDESTE        251265\n",
       "NORDESTE       211248\n",
       "SUL             88808\n",
       "NORTE           56047\n",
       "CENTROOESTE     47315\n",
       "DF              15098\n",
       "Name: count, dtype: int64"
      ]
     },
     "execution_count": 84,
     "metadata": {},
     "output_type": "execute_result"
    }
   ],
   "source": [
    "df[\"SG_UF_ESC\"].value_counts()"
   ]
  },
  {
   "cell_type": "code",
   "execution_count": 85,
   "metadata": {},
   "outputs": [
    {
     "data": {
      "text/plain": [
       "Index(['NU_INSCRICAO', 'TP_FAIXA_ETARIA', 'TP_SEXO', 'TP_ESCOLA', 'TP_ENSINO',\n",
       "       'NU_NOTA_CN', 'NU_NOTA_CH', 'NU_NOTA_LC', 'NU_NOTA_MT',\n",
       "       'NU_NOTA_REDACAO', 'Q006', 'COR_RACA_1.0', 'COR_RACA_2.0',\n",
       "       'COR_RACA_3.0', 'COR_RACA_4.0', 'COR_RACA_5.0', 'NACIONALIDADE_1.0',\n",
       "       'NACIONALIDADE_2.0', 'NACIONALIDADE_3.0', 'NACIONALIDADE_4.0',\n",
       "       'REGIAO_CENTROOESTE', 'REGIAO_DF', 'REGIAO_NORDESTE', 'REGIAO_NORTE',\n",
       "       'REGIAO_SUDESTE', 'REGIAO_SUL'],\n",
       "      dtype='object')"
      ]
     },
     "execution_count": 85,
     "metadata": {},
     "output_type": "execute_result"
    }
   ],
   "source": [
    "# One Hot Encoding da região\n",
    "one_hot = pd.get_dummies(df[\"SG_UF_ESC\"], prefix=\"REGIAO\")\n",
    "df = df.join(one_hot)\n",
    "df.drop(\"SG_UF_ESC\", axis=1, inplace=True)\n",
    "df.columns"
   ]
  },
  {
   "cell_type": "code",
   "execution_count": 86,
   "metadata": {},
   "outputs": [
    {
     "data": {
      "text/plain": [
       "Q006\n",
       "1     157681\n",
       "2      95658\n",
       "3      77074\n",
       "4      59293\n",
       "7      48684\n",
       "6      47253\n",
       "5      36449\n",
       "0      25361\n",
       "8      20601\n",
       "16     15439\n",
       "9      15317\n",
       "11     14468\n",
       "12     13694\n",
       "14     11417\n",
       "15     10823\n",
       "10     10540\n",
       "13     10029\n",
       "Name: count, dtype: int64"
      ]
     },
     "execution_count": 86,
     "metadata": {},
     "output_type": "execute_result"
    }
   ],
   "source": [
    "# Faixa Salarial\n",
    "df[\"Q006\"].value_counts()"
   ]
  },
  {
   "cell_type": "code",
   "execution_count": 82,
   "metadata": {},
   "outputs": [
    {
     "data": {
      "text/plain": [
       "array([ 0,  1,  2,  3,  4,  5,  6,  7,  8,  9, 10, 11, 12, 13, 14, 15, 16])"
      ]
     },
     "execution_count": 82,
     "metadata": {},
     "output_type": "execute_result"
    }
   ],
   "source": [
    "# Q006 indica faixa salarial. Por ter noção de ordem, será usado Ordinal Encoding\n",
    "conversao = {char: (ord(char) - ord(\"A\") + 1) for char in \"ABCDEFGHIJKLMNOPQ\"}\n",
    "df[\"Q006\"].replace(conversao, inplace=True)\n",
    "values = df[\"Q006\"].unique()\n",
    "values.sort()\n",
    "values"
   ]
  },
  {
   "cell_type": "code",
   "execution_count": 87,
   "metadata": {},
   "outputs": [
    {
     "name": "stdout",
     "output_type": "stream",
     "text": [
      "<class 'pandas.core.frame.DataFrame'>\n",
      "Index: 669781 entries, 40 to 3476102\n",
      "Data columns (total 26 columns):\n",
      " #   Column              Non-Null Count   Dtype  \n",
      "---  ------              --------------   -----  \n",
      " 0   NU_INSCRICAO        669781 non-null  int64  \n",
      " 1   TP_FAIXA_ETARIA     669781 non-null  int64  \n",
      " 2   TP_SEXO             669781 non-null  int64  \n",
      " 3   TP_ESCOLA           669781 non-null  float64\n",
      " 4   TP_ENSINO           669781 non-null  float64\n",
      " 5   NU_NOTA_CN          669781 non-null  float64\n",
      " 6   NU_NOTA_CH          669781 non-null  float64\n",
      " 7   NU_NOTA_LC          669781 non-null  float64\n",
      " 8   NU_NOTA_MT          669781 non-null  float64\n",
      " 9   NU_NOTA_REDACAO     669781 non-null  float64\n",
      " 10  Q006                669781 non-null  int64  \n",
      " 11  COR_RACA_1.0        669781 non-null  bool   \n",
      " 12  COR_RACA_2.0        669781 non-null  bool   \n",
      " 13  COR_RACA_3.0        669781 non-null  bool   \n",
      " 14  COR_RACA_4.0        669781 non-null  bool   \n",
      " 15  COR_RACA_5.0        669781 non-null  bool   \n",
      " 16  NACIONALIDADE_1.0   669781 non-null  bool   \n",
      " 17  NACIONALIDADE_2.0   669781 non-null  bool   \n",
      " 18  NACIONALIDADE_3.0   669781 non-null  bool   \n",
      " 19  NACIONALIDADE_4.0   669781 non-null  bool   \n",
      " 20  REGIAO_CENTROOESTE  669781 non-null  bool   \n",
      " 21  REGIAO_DF           669781 non-null  bool   \n",
      " 22  REGIAO_NORDESTE     669781 non-null  bool   \n",
      " 23  REGIAO_NORTE        669781 non-null  bool   \n",
      " 24  REGIAO_SUDESTE      669781 non-null  bool   \n",
      " 25  REGIAO_SUL          669781 non-null  bool   \n",
      "dtypes: bool(15), float64(7), int64(4)\n",
      "memory usage: 87.0 MB\n"
     ]
    }
   ],
   "source": [
    "# Como df ficou após modificações\n",
    "df.info()"
   ]
  },
  {
   "cell_type": "markdown",
   "metadata": {},
   "source": [
    "## Conclusão"
   ]
  },
  {
   "cell_type": "markdown",
   "metadata": {},
   "source": [
    "Infelizmente, muitas pessoas não respondem alguns campos (principalmente o de informar se a escola é pública ou privada). Por causa disso, um dataset de mais de 3 milhões de observações foi reduzido para 600 mil observações. Entretanto, ainda é um número considerável para fazer análises."
   ]
  },
  {
   "cell_type": "code",
   "execution_count": 15,
   "metadata": {},
   "outputs": [],
   "source": [
    "# Slavando dataset\n",
    "df.to_csv(\"enem2022_dataset.csv\", index=False)"
   ]
  },
  {
   "cell_type": "code",
   "execution_count": null,
   "metadata": {},
   "outputs": [],
   "source": []
  }
 ],
 "metadata": {
  "kernelspec": {
   "display_name": "Python 3",
   "language": "python",
   "name": "python3"
  },
  "language_info": {
   "codemirror_mode": {
    "name": "ipython",
    "version": 3
   },
   "file_extension": ".py",
   "mimetype": "text/x-python",
   "name": "python",
   "nbconvert_exporter": "python",
   "pygments_lexer": "ipython3",
   "version": "3.10.12"
  },
  "orig_nbformat": 4
 },
 "nbformat": 4,
 "nbformat_minor": 2
}
