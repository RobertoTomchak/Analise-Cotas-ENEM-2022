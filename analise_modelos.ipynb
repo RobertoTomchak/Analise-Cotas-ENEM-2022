{
 "cells": [
  {
   "cell_type": "markdown",
   "metadata": {},
   "source": [
    "# Prevendo Notas do ENEM"
   ]
  },
  {
   "cell_type": "markdown",
   "metadata": {},
   "source": [
    "O objetivo dessa análise é desenvolver um modelo que seja capaz de prever a nota no ENEM de um participante, baseado em dados socioeconômicos sobre ele.\n",
    "<br><br>\n",
    "O objetivo é que, a partir dessas previsões, a gente consiga analisar quais variáveis possuem maior impacto na previsão, o que pode ajudar a avaliar a necessidade do sistema de cotas.\n",
    "<br><br>\n",
    "Iremos julgar como injustiça um parâmetro que supostamente não deveria ser relevante para decidir a nota do participante, mas que o modelo julgou como relevante."
   ]
  },
  {
   "cell_type": "markdown",
   "metadata": {},
   "source": [
    "## Baixando dados"
   ]
  },
  {
   "cell_type": "markdown",
   "metadata": {},
   "source": [
    "Os dados originais do ENEM 2022 já foram tratados para o modelo em \"dataset_para_modelo.iypnb\"."
   ]
  },
  {
   "cell_type": "code",
   "execution_count": 13,
   "metadata": {},
   "outputs": [],
   "source": [
    "# Bibliotecas importantes\n",
    "import pandas as pd\n",
    "import numpy as np\n",
    "import seaborn as sns"
   ]
  },
  {
   "cell_type": "code",
   "execution_count": 14,
   "metadata": {},
   "outputs": [],
   "source": [
    "df = pd.read_csv(\"microdados_tratado.csv\")"
   ]
  },
  {
   "cell_type": "code",
   "execution_count": 15,
   "metadata": {},
   "outputs": [],
   "source": [
    "# Número de inscrição era necessário apenas para juntar dados\n",
    "df.drop(\"NU_INSCRICAO\", axis=1, inplace=True)"
   ]
  },
  {
   "cell_type": "markdown",
   "metadata": {},
   "source": [
    "## Feature Scaling e Train/Test Split"
   ]
  },
  {
   "cell_type": "code",
   "execution_count": 16,
   "metadata": {},
   "outputs": [
    {
     "data": {
      "text/html": [
       "<div>\n",
       "<style scoped>\n",
       "    .dataframe tbody tr th:only-of-type {\n",
       "        vertical-align: middle;\n",
       "    }\n",
       "\n",
       "    .dataframe tbody tr th {\n",
       "        vertical-align: top;\n",
       "    }\n",
       "\n",
       "    .dataframe thead th {\n",
       "        text-align: right;\n",
       "    }\n",
       "</style>\n",
       "<table border=\"1\" class=\"dataframe\">\n",
       "  <thead>\n",
       "    <tr style=\"text-align: right;\">\n",
       "      <th></th>\n",
       "      <th>TP_FAIXA_ETARIA</th>\n",
       "      <th>TP_SEXO</th>\n",
       "      <th>TP_COR_RACA</th>\n",
       "      <th>TP_ESCOLA</th>\n",
       "      <th>TP_ENSINO</th>\n",
       "      <th>FAIXA_SALARIAL</th>\n",
       "      <th>NACIONALIDADE_1.0</th>\n",
       "      <th>NACIONALIDADE_2.0</th>\n",
       "      <th>NACIONALIDADE_3.0</th>\n",
       "      <th>NACIONALIDADE_4.0</th>\n",
       "      <th>Centro-Oeste</th>\n",
       "      <th>Nordeste</th>\n",
       "      <th>Norte</th>\n",
       "      <th>Sudeste</th>\n",
       "      <th>Sul</th>\n",
       "      <th>NOTA_TOTAL</th>\n",
       "    </tr>\n",
       "  </thead>\n",
       "  <tbody>\n",
       "    <tr>\n",
       "      <th>0</th>\n",
       "      <td>0.210526</td>\n",
       "      <td>0.0</td>\n",
       "      <td>0.5</td>\n",
       "      <td>1.0</td>\n",
       "      <td>0.0</td>\n",
       "      <td>0.0625</td>\n",
       "      <td>1.0</td>\n",
       "      <td>0.0</td>\n",
       "      <td>0.0</td>\n",
       "      <td>0.0</td>\n",
       "      <td>0.0</td>\n",
       "      <td>1.0</td>\n",
       "      <td>0.0</td>\n",
       "      <td>0.0</td>\n",
       "      <td>0.0</td>\n",
       "      <td>471.94</td>\n",
       "    </tr>\n",
       "    <tr>\n",
       "      <th>1</th>\n",
       "      <td>0.105263</td>\n",
       "      <td>0.0</td>\n",
       "      <td>0.0</td>\n",
       "      <td>1.0</td>\n",
       "      <td>0.0</td>\n",
       "      <td>0.2500</td>\n",
       "      <td>1.0</td>\n",
       "      <td>0.0</td>\n",
       "      <td>0.0</td>\n",
       "      <td>0.0</td>\n",
       "      <td>0.0</td>\n",
       "      <td>0.0</td>\n",
       "      <td>0.0</td>\n",
       "      <td>1.0</td>\n",
       "      <td>0.0</td>\n",
       "      <td>793.54</td>\n",
       "    </tr>\n",
       "    <tr>\n",
       "      <th>2</th>\n",
       "      <td>0.052632</td>\n",
       "      <td>1.0</td>\n",
       "      <td>0.5</td>\n",
       "      <td>1.0</td>\n",
       "      <td>0.0</td>\n",
       "      <td>0.3125</td>\n",
       "      <td>1.0</td>\n",
       "      <td>0.0</td>\n",
       "      <td>0.0</td>\n",
       "      <td>0.0</td>\n",
       "      <td>1.0</td>\n",
       "      <td>0.0</td>\n",
       "      <td>0.0</td>\n",
       "      <td>0.0</td>\n",
       "      <td>0.0</td>\n",
       "      <td>579.24</td>\n",
       "    </tr>\n",
       "    <tr>\n",
       "      <th>3</th>\n",
       "      <td>0.105263</td>\n",
       "      <td>0.0</td>\n",
       "      <td>0.5</td>\n",
       "      <td>1.0</td>\n",
       "      <td>1.0</td>\n",
       "      <td>0.0625</td>\n",
       "      <td>1.0</td>\n",
       "      <td>0.0</td>\n",
       "      <td>0.0</td>\n",
       "      <td>0.0</td>\n",
       "      <td>0.0</td>\n",
       "      <td>0.0</td>\n",
       "      <td>1.0</td>\n",
       "      <td>0.0</td>\n",
       "      <td>0.0</td>\n",
       "      <td>469.96</td>\n",
       "    </tr>\n",
       "    <tr>\n",
       "      <th>4</th>\n",
       "      <td>0.105263</td>\n",
       "      <td>1.0</td>\n",
       "      <td>0.0</td>\n",
       "      <td>1.0</td>\n",
       "      <td>0.0</td>\n",
       "      <td>0.1875</td>\n",
       "      <td>1.0</td>\n",
       "      <td>0.0</td>\n",
       "      <td>0.0</td>\n",
       "      <td>0.0</td>\n",
       "      <td>0.0</td>\n",
       "      <td>0.0</td>\n",
       "      <td>0.0</td>\n",
       "      <td>1.0</td>\n",
       "      <td>0.0</td>\n",
       "      <td>489.66</td>\n",
       "    </tr>\n",
       "    <tr>\n",
       "      <th>...</th>\n",
       "      <td>...</td>\n",
       "      <td>...</td>\n",
       "      <td>...</td>\n",
       "      <td>...</td>\n",
       "      <td>...</td>\n",
       "      <td>...</td>\n",
       "      <td>...</td>\n",
       "      <td>...</td>\n",
       "      <td>...</td>\n",
       "      <td>...</td>\n",
       "      <td>...</td>\n",
       "      <td>...</td>\n",
       "      <td>...</td>\n",
       "      <td>...</td>\n",
       "      <td>...</td>\n",
       "      <td>...</td>\n",
       "    </tr>\n",
       "    <tr>\n",
       "      <th>669776</th>\n",
       "      <td>0.157895</td>\n",
       "      <td>1.0</td>\n",
       "      <td>0.5</td>\n",
       "      <td>1.0</td>\n",
       "      <td>0.0</td>\n",
       "      <td>0.0625</td>\n",
       "      <td>1.0</td>\n",
       "      <td>0.0</td>\n",
       "      <td>0.0</td>\n",
       "      <td>0.0</td>\n",
       "      <td>0.0</td>\n",
       "      <td>0.0</td>\n",
       "      <td>0.0</td>\n",
       "      <td>0.0</td>\n",
       "      <td>1.0</td>\n",
       "      <td>439.66</td>\n",
       "    </tr>\n",
       "    <tr>\n",
       "      <th>669777</th>\n",
       "      <td>0.052632</td>\n",
       "      <td>1.0</td>\n",
       "      <td>0.0</td>\n",
       "      <td>1.0</td>\n",
       "      <td>0.0</td>\n",
       "      <td>0.3125</td>\n",
       "      <td>1.0</td>\n",
       "      <td>0.0</td>\n",
       "      <td>0.0</td>\n",
       "      <td>0.0</td>\n",
       "      <td>0.0</td>\n",
       "      <td>0.0</td>\n",
       "      <td>0.0</td>\n",
       "      <td>0.0</td>\n",
       "      <td>1.0</td>\n",
       "      <td>526.38</td>\n",
       "    </tr>\n",
       "    <tr>\n",
       "      <th>669778</th>\n",
       "      <td>0.105263</td>\n",
       "      <td>0.0</td>\n",
       "      <td>0.0</td>\n",
       "      <td>1.0</td>\n",
       "      <td>0.0</td>\n",
       "      <td>0.3125</td>\n",
       "      <td>1.0</td>\n",
       "      <td>0.0</td>\n",
       "      <td>0.0</td>\n",
       "      <td>0.0</td>\n",
       "      <td>0.0</td>\n",
       "      <td>0.0</td>\n",
       "      <td>0.0</td>\n",
       "      <td>1.0</td>\n",
       "      <td>0.0</td>\n",
       "      <td>515.02</td>\n",
       "    </tr>\n",
       "    <tr>\n",
       "      <th>669779</th>\n",
       "      <td>0.052632</td>\n",
       "      <td>1.0</td>\n",
       "      <td>0.5</td>\n",
       "      <td>1.0</td>\n",
       "      <td>0.0</td>\n",
       "      <td>0.0625</td>\n",
       "      <td>1.0</td>\n",
       "      <td>0.0</td>\n",
       "      <td>0.0</td>\n",
       "      <td>0.0</td>\n",
       "      <td>0.0</td>\n",
       "      <td>0.0</td>\n",
       "      <td>0.0</td>\n",
       "      <td>1.0</td>\n",
       "      <td>0.0</td>\n",
       "      <td>541.22</td>\n",
       "    </tr>\n",
       "    <tr>\n",
       "      <th>669780</th>\n",
       "      <td>0.052632</td>\n",
       "      <td>1.0</td>\n",
       "      <td>0.0</td>\n",
       "      <td>1.0</td>\n",
       "      <td>0.0</td>\n",
       "      <td>0.3750</td>\n",
       "      <td>1.0</td>\n",
       "      <td>0.0</td>\n",
       "      <td>0.0</td>\n",
       "      <td>0.0</td>\n",
       "      <td>0.0</td>\n",
       "      <td>0.0</td>\n",
       "      <td>0.0</td>\n",
       "      <td>0.0</td>\n",
       "      <td>1.0</td>\n",
       "      <td>607.06</td>\n",
       "    </tr>\n",
       "  </tbody>\n",
       "</table>\n",
       "<p>669781 rows × 16 columns</p>\n",
       "</div>"
      ],
      "text/plain": [
       "        TP_FAIXA_ETARIA  TP_SEXO  TP_COR_RACA  TP_ESCOLA  TP_ENSINO   \n",
       "0              0.210526      0.0          0.5        1.0        0.0  \\\n",
       "1              0.105263      0.0          0.0        1.0        0.0   \n",
       "2              0.052632      1.0          0.5        1.0        0.0   \n",
       "3              0.105263      0.0          0.5        1.0        1.0   \n",
       "4              0.105263      1.0          0.0        1.0        0.0   \n",
       "...                 ...      ...          ...        ...        ...   \n",
       "669776         0.157895      1.0          0.5        1.0        0.0   \n",
       "669777         0.052632      1.0          0.0        1.0        0.0   \n",
       "669778         0.105263      0.0          0.0        1.0        0.0   \n",
       "669779         0.052632      1.0          0.5        1.0        0.0   \n",
       "669780         0.052632      1.0          0.0        1.0        0.0   \n",
       "\n",
       "        FAIXA_SALARIAL  NACIONALIDADE_1.0  NACIONALIDADE_2.0   \n",
       "0               0.0625                1.0                0.0  \\\n",
       "1               0.2500                1.0                0.0   \n",
       "2               0.3125                1.0                0.0   \n",
       "3               0.0625                1.0                0.0   \n",
       "4               0.1875                1.0                0.0   \n",
       "...                ...                ...                ...   \n",
       "669776          0.0625                1.0                0.0   \n",
       "669777          0.3125                1.0                0.0   \n",
       "669778          0.3125                1.0                0.0   \n",
       "669779          0.0625                1.0                0.0   \n",
       "669780          0.3750                1.0                0.0   \n",
       "\n",
       "        NACIONALIDADE_3.0  NACIONALIDADE_4.0  Centro-Oeste  Nordeste  Norte   \n",
       "0                     0.0                0.0           0.0       1.0    0.0  \\\n",
       "1                     0.0                0.0           0.0       0.0    0.0   \n",
       "2                     0.0                0.0           1.0       0.0    0.0   \n",
       "3                     0.0                0.0           0.0       0.0    1.0   \n",
       "4                     0.0                0.0           0.0       0.0    0.0   \n",
       "...                   ...                ...           ...       ...    ...   \n",
       "669776                0.0                0.0           0.0       0.0    0.0   \n",
       "669777                0.0                0.0           0.0       0.0    0.0   \n",
       "669778                0.0                0.0           0.0       0.0    0.0   \n",
       "669779                0.0                0.0           0.0       0.0    0.0   \n",
       "669780                0.0                0.0           0.0       0.0    0.0   \n",
       "\n",
       "        Sudeste  Sul  NOTA_TOTAL  \n",
       "0           0.0  0.0      471.94  \n",
       "1           1.0  0.0      793.54  \n",
       "2           0.0  0.0      579.24  \n",
       "3           0.0  0.0      469.96  \n",
       "4           1.0  0.0      489.66  \n",
       "...         ...  ...         ...  \n",
       "669776      0.0  1.0      439.66  \n",
       "669777      0.0  1.0      526.38  \n",
       "669778      1.0  0.0      515.02  \n",
       "669779      1.0  0.0      541.22  \n",
       "669780      0.0  1.0      607.06  \n",
       "\n",
       "[669781 rows x 16 columns]"
      ]
     },
     "execution_count": 16,
     "metadata": {},
     "output_type": "execute_result"
    }
   ],
   "source": [
    "# Fazendo MinMaxScaling para garantir que todas as variáveis estão na mesma escala\n",
    "from sklearn.preprocessing import MinMaxScaler\n",
    "scaler = MinMaxScaler()\n",
    "df_x = df.drop(\"NOTA_TOTAL\", axis=1)\n",
    "df_y = df[\"NOTA_TOTAL\"]\n",
    "df_x = pd.DataFrame(data=scaler.fit_transform(df_x), columns=df_x.columns)\n",
    "df = df_x.join(df_y)\n",
    "df"
   ]
  },
  {
   "cell_type": "code",
   "execution_count": 17,
   "metadata": {},
   "outputs": [
    {
     "data": {
      "text/plain": [
       "<Axes: xlabel='NOTA_TOTAL', ylabel='Count'>"
      ]
     },
     "execution_count": 17,
     "metadata": {},
     "output_type": "execute_result"
    },
    {
     "data": {
      "image/png": "[encoded data removed]",
      "text/plain": [
       "<Figure size 640x480 with 1 Axes>"
      ]
     },
     "metadata": {},
     "output_type": "display_data"
    }
   ],
   "source": [
    "# Proporção das notas\n",
    "import seaborn as sns\n",
    "sns.histplot(x=df[\"NOTA_TOTAL\"], binwidth=100)"
   ]
  },
  {
   "cell_type": "code",
   "execution_count": 18,
   "metadata": {},
   "outputs": [
    {
     "data": {
      "text/plain": [
       "0         4\n",
       "1         7\n",
       "2         5\n",
       "3         4\n",
       "4         4\n",
       "         ..\n",
       "669776    4\n",
       "669777    5\n",
       "669778    5\n",
       "669779    5\n",
       "669780    6\n",
       "Name: NOTA_TOTAL, Length: 669781, dtype: int64"
      ]
     },
     "execution_count": 18,
     "metadata": {},
     "output_type": "execute_result"
    }
   ],
   "source": [
    "# Para garantir que os datasets de treino e teste sigam essa proporção, é interessante criar um parâmetro auxiliar\n",
    "# O parâmetro irá controlar em qual faixa a nota se encontra (0-100, 100-200, ...)\n",
    "from math import floor\n",
    "faixa = 100\n",
    "auxiliar = np.floor(df[\"NOTA_TOTAL\"] / faixa).astype(int)\n",
    "auxiliar"
   ]
  },
  {
   "cell_type": "code",
   "execution_count": 19,
   "metadata": {},
   "outputs": [],
   "source": [
    "# Fazendo split de treino/teste\n",
    "from sklearn.model_selection import train_test_split\n",
    "X = df.drop(\"NOTA_TOTAL\", axis=1)\n",
    "Y = df[\"NOTA_TOTAL\"]\n",
    "X_train, X_test, y_train, y_test = train_test_split(X, Y, test_size=0.2, shuffle=True, stratify=auxiliar)"
   ]
  },
  {
   "cell_type": "code",
   "execution_count": 20,
   "metadata": {},
   "outputs": [
    {
     "data": {
      "text/plain": [
       "<Axes: xlabel='NOTA_TOTAL', ylabel='Count'>"
      ]
     },
     "execution_count": 20,
     "metadata": {},
     "output_type": "execute_result"
    },
    {
     "data": {
      "image/png": "[encoded data removed]",
      "text/plain": [
       "<Figure size 640x480 with 1 Axes>"
      ]
     },
     "metadata": {},
     "output_type": "display_data"
    }
   ],
   "source": [
    "# Teste\n",
    "import seaborn as sns\n",
    "sns.histplot(x=y_test, binwidth=100)"
   ]
  },
  {
   "cell_type": "code",
   "execution_count": 21,
   "metadata": {},
   "outputs": [
    {
     "data": {
      "text/plain": [
       "<Axes: xlabel='NOTA_TOTAL', ylabel='Count'>"
      ]
     },
     "execution_count": 21,
     "metadata": {},
     "output_type": "execute_result"
    },
    {
     "data": {
      "image/png": "[encoded data removed]",
      "text/plain": [
       "<Figure size 640x480 with 1 Axes>"
      ]
     },
     "metadata": {},
     "output_type": "display_data"
    }
   ],
   "source": [
    "# Treino\n",
    "import seaborn as sns\n",
    "sns.histplot(x=y_train, binwidth=100)"
   ]
  },
  {
   "cell_type": "markdown",
   "metadata": {},
   "source": [
    "## Testando modelo de Regressão Linear"
   ]
  },
  {
   "cell_type": "markdown",
   "metadata": {},
   "source": [
    "### Desempenho do modelo nos dados de treino"
   ]
  },
  {
   "cell_type": "code",
   "execution_count": 22,
   "metadata": {},
   "outputs": [
    {
     "data": {
      "text/plain": [
       "0.29527982220598814"
      ]
     },
     "execution_count": 22,
     "metadata": {},
     "output_type": "execute_result"
    }
   ],
   "source": [
    "from sklearn.linear_model import LinearRegression\n",
    "reg = LinearRegression().fit(X_train, y_train)\n",
    "reg.score(X_test, y_test)"
   ]
  },
  {
   "cell_type": "markdown",
   "metadata": {},
   "source": [
    "O baixo score é de certa forma uma notícia boa. Isso significa que saber apenas saber sobre a situação socioeconômica do participante não é o suficiente para prever se o candidato foi bem ou não na prova do ENEM. Portanto, isso trás evidências de que o ENEM de fato está testando a inteligência do candidato.<br><br>\n",
    "Entretanto, só porque o modelo de Regressão Linear não teve um bom desempenho, não quer dizer que outros modelos também não terão. "
   ]
  },
  {
   "cell_type": "markdown",
   "metadata": {},
   "source": [
    "### Variáveis relevantes"
   ]
  },
  {
   "cell_type": "code",
   "execution_count": 23,
   "metadata": {},
   "outputs": [
    {
     "name": "stdout",
     "output_type": "stream",
     "text": [
      "TP_FAIXA_ETARIA: -192.14191675274097\n",
      "TP_SEXO: 0.32997853938572064\n",
      "TP_COR_RACA: -34.34398368917156\n",
      "TP_ESCOLA: -42.26095137251908\n",
      "TP_ENSINO: -22.164632089468103\n",
      "FAIXA_SALARIAL: 110.15501566652968\n",
      "NACIONALIDADE_1.0: 13248247702136.238\n",
      "NACIONALIDADE_2.0: 13248247702117.393\n",
      "NACIONALIDADE_3.0: 13248247702118.676\n",
      "NACIONALIDADE_4.0: 13248247702147.717\n",
      "Centro-Oeste: 401379598891079.44\n",
      "Nordeste: 401379598891082.06\n",
      "Norte: 401379598891072.6\n",
      "Sudeste: 401379598891092.06\n",
      "Sul: 401379598891084.7\n"
     ]
    }
   ],
   "source": [
    "for feature, coef in zip(X.columns, reg.coef_):\n",
    "    print(f\"{feature}: {coef}\")"
   ]
  },
  {
   "cell_type": "markdown",
   "metadata": {},
   "source": [
    "## Testando modelo de RandomForest"
   ]
  },
  {
   "cell_type": "markdown",
   "metadata": {},
   "source": [
    "### Desempenho do modelo nos dados de treino"
   ]
  },
  {
   "cell_type": "code",
   "execution_count": 24,
   "metadata": {},
   "outputs": [
    {
     "data": {
      "text/plain": [
       "0.30861755377590316"
      ]
     },
     "execution_count": 24,
     "metadata": {},
     "output_type": "execute_result"
    }
   ],
   "source": [
    "from sklearn.ensemble import RandomForestRegressor\n",
    "regr = RandomForestRegressor().fit(X_train, y_train)\n",
    "regr.score(X_test, y_test)"
   ]
  },
  {
   "cell_type": "markdown",
   "metadata": {},
   "source": [
    "Assim como no modelo de regressão linear, o RandomForest também teve um baixo desepenho, trazendo mais evidências de que as variáveis socioeconômicas sozinhas não são capazes de prever o desepenho do aluno no ENEM."
   ]
  },
  {
   "cell_type": "markdown",
   "metadata": {},
   "source": [
    "### Variáveis Relevantes"
   ]
  },
  {
   "cell_type": "code",
   "execution_count": 25,
   "metadata": {},
   "outputs": [
    {
     "name": "stdout",
     "output_type": "stream",
     "text": [
      "TP_FAIXA_ETARIA: 0.053619136488946804\n",
      "TP_SEXO: 0.010992686889649576\n",
      "TP_COR_RACA: 0.04040625691778253\n",
      "TP_ESCOLA: 0.5395004912435147\n",
      "TP_ENSINO: 0.003240974766834446\n",
      "FAIXA_SALARIAL: 0.31220259016121243\n",
      "NACIONALIDADE_1.0: 0.00317371255470565\n",
      "NACIONALIDADE_2.0: 0.00409345292970668\n",
      "NACIONALIDADE_3.0: 0.0016046522478905425\n",
      "NACIONALIDADE_4.0: 0.002011311653161939\n",
      "Centro-Oeste: 0.004209528156352641\n",
      "Nordeste: 0.006715117291869613\n",
      "Norte: 0.004657938472723553\n",
      "Sudeste: 0.009133372215116101\n",
      "Sul: 0.004438778010532812\n"
     ]
    }
   ],
   "source": [
    "for feature, importance in zip(X.columns, regr.feature_importances_):\n",
    "    print(f\"{feature}: {importance}\")"
   ]
  },
  {
   "cell_type": "markdown",
   "metadata": {},
   "source": [
    "Note que esse modelo julgou que o tipo de escola (pública ou privada) teve uma importância de 54%, e a faixa salarial teve uma importância de 31%.\n",
    "<br><br>\n",
    "Considerando que, se todos os parâmetros tivessem a mesma importância, eles teriam em média 100/15 = 6,67% de importância, esses valores são altos.\n",
    "<br><br>\n",
    "Assim, pelo menos nesse modelo, podemos dizer que há de fato certa injustiça quanto à situação social (se estudou em escola pública ou não, e qual faixa salarial).\n",
    "<br><br>\n",
    "Por outro lado, a cor que o candidato se identifica e sua nacionalidade parecem ter pouca relevância, o que pode indicar que há pouca injustiça nesses casos."
   ]
  },
  {
   "cell_type": "code",
   "execution_count": null,
   "metadata": {},
   "outputs": [],
   "source": []
  }
 ],
 "metadata": {
  "kernelspec": {
   "display_name": "Python 3",
   "language": "python",
   "name": "python3"
  },
  "language_info": {
   "codemirror_mode": {
    "name": "ipython",
    "version": 3
   },
   "file_extension": ".py",
   "mimetype": "text/x-python",
   "name": "python",
   "nbconvert_exporter": "python",
   "pygments_lexer": "ipython3",
   "version": "3.10.12"
  },
  "orig_nbformat": 4
 },
 "nbformat": 4,
 "nbformat_minor": 2
}
