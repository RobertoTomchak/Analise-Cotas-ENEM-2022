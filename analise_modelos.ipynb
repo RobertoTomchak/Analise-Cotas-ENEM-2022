{
 "cells": [
  {
   "cell_type": "markdown",
   "metadata": {},
   "source": [
    "# Prevendo Notas do ENEM"
   ]
  },
  {
   "cell_type": "markdown",
   "metadata": {},
   "source": [
    "O objetivo dessa análise é desenvolver um modelo que seja capaz de prever a nota no ENEM de um participante, baseado em dados socioeconômicos sobre ele.\n",
    "<br><br>\n",
    "O objetivo é que, a partir dessas previsões, a gente consiga analisar quais variáveis possuem maior impacto na previsão, o que pode ajudar a avaliar a necessidade do sistema de cotas.\n",
    "<br><br>\n",
    "Iremos julgar como injustiça um parâmetro que supostamente não deveria ser relevante para decidir a nota do participante, mas que o modelo julgou como relevante."
   ]
  },
  {
   "cell_type": "markdown",
   "metadata": {},
   "source": [
    "## Baixando dados"
   ]
  },
  {
   "cell_type": "markdown",
   "metadata": {},
   "source": [
    "Os dados originais do ENEM 2022 já foram tratados para o modelo nos arquivos de tratamento.\n",
    "<br><br>\n",
    "Agora, os datasets de microdados e hábitos de estudo serão juntados, usando o código de inscrição dos participantes."
   ]
  },
  {
   "cell_type": "code",
   "execution_count": 42,
   "metadata": {},
   "outputs": [],
   "source": [
    "# Bibliotecas importantes\n",
    "import pandas as pd\n",
    "import numpy as np\n",
    "import seaborn as sns"
   ]
  },
  {
   "cell_type": "code",
   "execution_count": 43,
   "metadata": {},
   "outputs": [],
   "source": [
    "df_microdados = pd.read_csv(\"microdados_tratado.csv\")\n",
    "df_estudo = pd.read_csv(\"habitos_estudo_tratado.csv\")"
   ]
  },
  {
   "cell_type": "code",
   "execution_count": 44,
   "metadata": {},
   "outputs": [
    {
     "name": "stdout",
     "output_type": "stream",
     "text": [
      "Tamanho Microdados: 669781\n",
      "Tamanho Hábitos Estudo: 78241\n"
     ]
    }
   ],
   "source": [
    "# Tamanho dos datasets originais\n",
    "print(f\"Tamanho Microdados: {len(df_microdados)}\")\n",
    "print(f\"Tamanho Hábitos Estudo: {len(df_estudo)}\")"
   ]
  },
  {
   "cell_type": "code",
   "execution_count": 45,
   "metadata": {},
   "outputs": [
    {
     "data": {
      "text/html": [
       "<div>\n",
       "<style scoped>\n",
       "    .dataframe tbody tr th:only-of-type {\n",
       "        vertical-align: middle;\n",
       "    }\n",
       "\n",
       "    .dataframe tbody tr th {\n",
       "        vertical-align: top;\n",
       "    }\n",
       "\n",
       "    .dataframe thead th {\n",
       "        text-align: right;\n",
       "    }\n",
       "</style>\n",
       "<table border=\"1\" class=\"dataframe\">\n",
       "  <thead>\n",
       "    <tr style=\"text-align: right;\">\n",
       "      <th></th>\n",
       "      <th>NU_INSCRICAO</th>\n",
       "      <th>TP_FAIXA_ETARIA</th>\n",
       "      <th>TP_SEXO</th>\n",
       "      <th>TP_ESCOLA</th>\n",
       "      <th>TP_ENSINO</th>\n",
       "      <th>Q006</th>\n",
       "      <th>COR_RACA_1.0</th>\n",
       "      <th>COR_RACA_2.0</th>\n",
       "      <th>COR_RACA_3.0</th>\n",
       "      <th>COR_RACA_4.0</th>\n",
       "      <th>...</th>\n",
       "      <th>PANDEMIA_GESTAO</th>\n",
       "      <th>PANDEMIA_PRATICAS</th>\n",
       "      <th>GESTAO</th>\n",
       "      <th>PRATICAS</th>\n",
       "      <th>Q025</th>\n",
       "      <th>Q026</th>\n",
       "      <th>Q028</th>\n",
       "      <th>Q030</th>\n",
       "      <th>Q032</th>\n",
       "      <th>Q033</th>\n",
       "    </tr>\n",
       "  </thead>\n",
       "  <tbody>\n",
       "    <tr>\n",
       "      <th>0</th>\n",
       "      <td>210056012033</td>\n",
       "      <td>3</td>\n",
       "      <td>0</td>\n",
       "      <td>1.0</td>\n",
       "      <td>0.0</td>\n",
       "      <td>5</td>\n",
       "      <td>True</td>\n",
       "      <td>False</td>\n",
       "      <td>False</td>\n",
       "      <td>False</td>\n",
       "      <td>...</td>\n",
       "      <td>2.25</td>\n",
       "      <td>1.583333</td>\n",
       "      <td>1.0</td>\n",
       "      <td>1.0</td>\n",
       "      <td>2</td>\n",
       "      <td>2</td>\n",
       "      <td>4</td>\n",
       "      <td>2</td>\n",
       "      <td>2</td>\n",
       "      <td>2</td>\n",
       "    </tr>\n",
       "    <tr>\n",
       "      <th>1</th>\n",
       "      <td>210057478691</td>\n",
       "      <td>3</td>\n",
       "      <td>0</td>\n",
       "      <td>1.0</td>\n",
       "      <td>0.0</td>\n",
       "      <td>1</td>\n",
       "      <td>False</td>\n",
       "      <td>False</td>\n",
       "      <td>True</td>\n",
       "      <td>False</td>\n",
       "      <td>...</td>\n",
       "      <td>1.50</td>\n",
       "      <td>1.500000</td>\n",
       "      <td>0.0</td>\n",
       "      <td>0.5</td>\n",
       "      <td>2</td>\n",
       "      <td>2</td>\n",
       "      <td>6</td>\n",
       "      <td>2</td>\n",
       "      <td>2</td>\n",
       "      <td>2</td>\n",
       "    </tr>\n",
       "    <tr>\n",
       "      <th>2</th>\n",
       "      <td>210056688095</td>\n",
       "      <td>4</td>\n",
       "      <td>1</td>\n",
       "      <td>1.0</td>\n",
       "      <td>0.0</td>\n",
       "      <td>2</td>\n",
       "      <td>False</td>\n",
       "      <td>True</td>\n",
       "      <td>False</td>\n",
       "      <td>False</td>\n",
       "      <td>...</td>\n",
       "      <td>1.00</td>\n",
       "      <td>1.000000</td>\n",
       "      <td>1.0</td>\n",
       "      <td>1.0</td>\n",
       "      <td>2</td>\n",
       "      <td>1</td>\n",
       "      <td>1</td>\n",
       "      <td>1</td>\n",
       "      <td>1</td>\n",
       "      <td>1</td>\n",
       "    </tr>\n",
       "    <tr>\n",
       "      <th>3</th>\n",
       "      <td>210057511905</td>\n",
       "      <td>3</td>\n",
       "      <td>0</td>\n",
       "      <td>1.0</td>\n",
       "      <td>0.0</td>\n",
       "      <td>1</td>\n",
       "      <td>False</td>\n",
       "      <td>False</td>\n",
       "      <td>True</td>\n",
       "      <td>False</td>\n",
       "      <td>...</td>\n",
       "      <td>1.25</td>\n",
       "      <td>1.583333</td>\n",
       "      <td>2.0</td>\n",
       "      <td>2.0</td>\n",
       "      <td>1</td>\n",
       "      <td>1</td>\n",
       "      <td>1</td>\n",
       "      <td>1</td>\n",
       "      <td>1</td>\n",
       "      <td>1</td>\n",
       "    </tr>\n",
       "    <tr>\n",
       "      <th>4</th>\n",
       "      <td>210057838909</td>\n",
       "      <td>3</td>\n",
       "      <td>0</td>\n",
       "      <td>1.0</td>\n",
       "      <td>0.0</td>\n",
       "      <td>2</td>\n",
       "      <td>False</td>\n",
       "      <td>False</td>\n",
       "      <td>True</td>\n",
       "      <td>False</td>\n",
       "      <td>...</td>\n",
       "      <td>1.00</td>\n",
       "      <td>1.166667</td>\n",
       "      <td>1.0</td>\n",
       "      <td>1.0</td>\n",
       "      <td>2</td>\n",
       "      <td>2</td>\n",
       "      <td>1</td>\n",
       "      <td>1</td>\n",
       "      <td>1</td>\n",
       "      <td>2</td>\n",
       "    </tr>\n",
       "    <tr>\n",
       "      <th>...</th>\n",
       "      <td>...</td>\n",
       "      <td>...</td>\n",
       "      <td>...</td>\n",
       "      <td>...</td>\n",
       "      <td>...</td>\n",
       "      <td>...</td>\n",
       "      <td>...</td>\n",
       "      <td>...</td>\n",
       "      <td>...</td>\n",
       "      <td>...</td>\n",
       "      <td>...</td>\n",
       "      <td>...</td>\n",
       "      <td>...</td>\n",
       "      <td>...</td>\n",
       "      <td>...</td>\n",
       "      <td>...</td>\n",
       "      <td>...</td>\n",
       "      <td>...</td>\n",
       "      <td>...</td>\n",
       "      <td>...</td>\n",
       "      <td>...</td>\n",
       "    </tr>\n",
       "    <tr>\n",
       "      <th>21818</th>\n",
       "      <td>210057405995</td>\n",
       "      <td>3</td>\n",
       "      <td>1</td>\n",
       "      <td>0.0</td>\n",
       "      <td>0.0</td>\n",
       "      <td>5</td>\n",
       "      <td>False</td>\n",
       "      <td>False</td>\n",
       "      <td>True</td>\n",
       "      <td>False</td>\n",
       "      <td>...</td>\n",
       "      <td>1.75</td>\n",
       "      <td>2.166667</td>\n",
       "      <td>1.5</td>\n",
       "      <td>3.0</td>\n",
       "      <td>2</td>\n",
       "      <td>1</td>\n",
       "      <td>1</td>\n",
       "      <td>2</td>\n",
       "      <td>2</td>\n",
       "      <td>2</td>\n",
       "    </tr>\n",
       "    <tr>\n",
       "      <th>21819</th>\n",
       "      <td>210055900340</td>\n",
       "      <td>2</td>\n",
       "      <td>1</td>\n",
       "      <td>0.0</td>\n",
       "      <td>0.0</td>\n",
       "      <td>9</td>\n",
       "      <td>False</td>\n",
       "      <td>False</td>\n",
       "      <td>True</td>\n",
       "      <td>False</td>\n",
       "      <td>...</td>\n",
       "      <td>1.75</td>\n",
       "      <td>1.250000</td>\n",
       "      <td>1.0</td>\n",
       "      <td>1.5</td>\n",
       "      <td>2</td>\n",
       "      <td>2</td>\n",
       "      <td>2</td>\n",
       "      <td>2</td>\n",
       "      <td>2</td>\n",
       "      <td>2</td>\n",
       "    </tr>\n",
       "    <tr>\n",
       "      <th>21820</th>\n",
       "      <td>210054991409</td>\n",
       "      <td>3</td>\n",
       "      <td>1</td>\n",
       "      <td>1.0</td>\n",
       "      <td>0.0</td>\n",
       "      <td>4</td>\n",
       "      <td>True</td>\n",
       "      <td>False</td>\n",
       "      <td>False</td>\n",
       "      <td>False</td>\n",
       "      <td>...</td>\n",
       "      <td>1.00</td>\n",
       "      <td>1.000000</td>\n",
       "      <td>0.0</td>\n",
       "      <td>0.0</td>\n",
       "      <td>2</td>\n",
       "      <td>2</td>\n",
       "      <td>2</td>\n",
       "      <td>1</td>\n",
       "      <td>2</td>\n",
       "      <td>2</td>\n",
       "    </tr>\n",
       "    <tr>\n",
       "      <th>21821</th>\n",
       "      <td>210055081282</td>\n",
       "      <td>6</td>\n",
       "      <td>1</td>\n",
       "      <td>1.0</td>\n",
       "      <td>0.0</td>\n",
       "      <td>2</td>\n",
       "      <td>False</td>\n",
       "      <td>False</td>\n",
       "      <td>True</td>\n",
       "      <td>False</td>\n",
       "      <td>...</td>\n",
       "      <td>0.00</td>\n",
       "      <td>0.000000</td>\n",
       "      <td>0.0</td>\n",
       "      <td>0.0</td>\n",
       "      <td>2</td>\n",
       "      <td>2</td>\n",
       "      <td>2</td>\n",
       "      <td>2</td>\n",
       "      <td>1</td>\n",
       "      <td>1</td>\n",
       "    </tr>\n",
       "    <tr>\n",
       "      <th>21822</th>\n",
       "      <td>210056046873</td>\n",
       "      <td>2</td>\n",
       "      <td>1</td>\n",
       "      <td>1.0</td>\n",
       "      <td>0.0</td>\n",
       "      <td>5</td>\n",
       "      <td>True</td>\n",
       "      <td>False</td>\n",
       "      <td>False</td>\n",
       "      <td>False</td>\n",
       "      <td>...</td>\n",
       "      <td>1.50</td>\n",
       "      <td>1.833333</td>\n",
       "      <td>2.0</td>\n",
       "      <td>1.5</td>\n",
       "      <td>2</td>\n",
       "      <td>1</td>\n",
       "      <td>1</td>\n",
       "      <td>1</td>\n",
       "      <td>1</td>\n",
       "      <td>1</td>\n",
       "    </tr>\n",
       "  </tbody>\n",
       "</table>\n",
       "<p>21823 rows × 36 columns</p>\n",
       "</div>"
      ],
      "text/plain": [
       "       NU_INSCRICAO  TP_FAIXA_ETARIA  TP_SEXO  TP_ESCOLA  TP_ENSINO  Q006   \n",
       "0      210056012033                3        0        1.0        0.0     5  \\\n",
       "1      210057478691                3        0        1.0        0.0     1   \n",
       "2      210056688095                4        1        1.0        0.0     2   \n",
       "3      210057511905                3        0        1.0        0.0     1   \n",
       "4      210057838909                3        0        1.0        0.0     2   \n",
       "...             ...              ...      ...        ...        ...   ...   \n",
       "21818  210057405995                3        1        0.0        0.0     5   \n",
       "21819  210055900340                2        1        0.0        0.0     9   \n",
       "21820  210054991409                3        1        1.0        0.0     4   \n",
       "21821  210055081282                6        1        1.0        0.0     2   \n",
       "21822  210056046873                2        1        1.0        0.0     5   \n",
       "\n",
       "       COR_RACA_1.0  COR_RACA_2.0  COR_RACA_3.0  COR_RACA_4.0  ...   \n",
       "0              True         False         False         False  ...  \\\n",
       "1             False         False          True         False  ...   \n",
       "2             False          True         False         False  ...   \n",
       "3             False         False          True         False  ...   \n",
       "4             False         False          True         False  ...   \n",
       "...             ...           ...           ...           ...  ...   \n",
       "21818         False         False          True         False  ...   \n",
       "21819         False         False          True         False  ...   \n",
       "21820          True         False         False         False  ...   \n",
       "21821         False         False          True         False  ...   \n",
       "21822          True         False         False         False  ...   \n",
       "\n",
       "       PANDEMIA_GESTAO  PANDEMIA_PRATICAS  GESTAO  PRATICAS  Q025  Q026  Q028   \n",
       "0                 2.25           1.583333     1.0       1.0     2     2     4  \\\n",
       "1                 1.50           1.500000     0.0       0.5     2     2     6   \n",
       "2                 1.00           1.000000     1.0       1.0     2     1     1   \n",
       "3                 1.25           1.583333     2.0       2.0     1     1     1   \n",
       "4                 1.00           1.166667     1.0       1.0     2     2     1   \n",
       "...                ...                ...     ...       ...   ...   ...   ...   \n",
       "21818             1.75           2.166667     1.5       3.0     2     1     1   \n",
       "21819             1.75           1.250000     1.0       1.5     2     2     2   \n",
       "21820             1.00           1.000000     0.0       0.0     2     2     2   \n",
       "21821             0.00           0.000000     0.0       0.0     2     2     2   \n",
       "21822             1.50           1.833333     2.0       1.5     2     1     1   \n",
       "\n",
       "       Q030  Q032  Q033  \n",
       "0         2     2     2  \n",
       "1         2     2     2  \n",
       "2         1     1     1  \n",
       "3         1     1     1  \n",
       "4         1     1     2  \n",
       "...     ...   ...   ...  \n",
       "21818     2     2     2  \n",
       "21819     2     2     2  \n",
       "21820     1     2     2  \n",
       "21821     2     1     1  \n",
       "21822     1     1     1  \n",
       "\n",
       "[21823 rows x 36 columns]"
      ]
     },
     "execution_count": 45,
     "metadata": {},
     "output_type": "execute_result"
    }
   ],
   "source": [
    "# Juntando datasets\n",
    "df = pd.merge(df_microdados, df_estudo, on=\"NU_INSCRICAO\")\n",
    "df"
   ]
  },
  {
   "cell_type": "code",
   "execution_count": 46,
   "metadata": {},
   "outputs": [
    {
     "data": {
      "text/plain": [
       "21823"
      ]
     },
     "execution_count": 46,
     "metadata": {},
     "output_type": "execute_result"
    }
   ],
   "source": [
    "# Quantas linhas sobrariam se removessemos NAs?\n",
    "df.dropna().shape[0]"
   ]
  },
  {
   "cell_type": "code",
   "execution_count": 47,
   "metadata": {},
   "outputs": [
    {
     "data": {
      "text/plain": [
       "0.6278003685159108"
      ]
     },
     "execution_count": 47,
     "metadata": {},
     "output_type": "execute_result"
    }
   ],
   "source": [
    "# Quanto é esse valor, em porcentagem, em relaçao ao dataset original do ENEM 2022?\n",
    "# Se for ver nos outros arquivos, o número total de candidatos é 3.476.105\n",
    "TAMANHO_TOTAL = 3476105\n",
    "tamanho_novo  = df.dropna().shape[0]\n",
    "100 * tamanho_novo / TAMANHO_TOTAL"
   ]
  },
  {
   "cell_type": "code",
   "execution_count": 48,
   "metadata": {},
   "outputs": [],
   "source": [
    "# Retirando o NU_INSCRICAO, pois foi usado somente para juntar os datasets\n",
    "df.drop(\"NU_INSCRICAO\", axis=1, inplace=True)"
   ]
  },
  {
   "cell_type": "markdown",
   "metadata": {},
   "source": [
    "Juntando os datasets, temos apenas 0,63% dos dados originais do ENEM 2022. Isso significa que a amostra que estamos lidando é de 0,63% da população total (onde a população são os participantes do ENEM 2022). Embora seja um valor relativamente baixo, ainda é possível fazer boas análises, contanto que essa amostra seja representativa. "
   ]
  },
  {
   "cell_type": "markdown",
   "metadata": {},
   "source": [
    "## Train/Test Split"
   ]
  },
  {
   "cell_type": "code",
   "execution_count": 49,
   "metadata": {},
   "outputs": [
    {
     "data": {
      "text/plain": [
       "<Axes: xlabel='NOTA_FINAL', ylabel='Count'>"
      ]
     },
     "execution_count": 49,
     "metadata": {},
     "output_type": "execute_result"
    },
    {
     "data": {
      "image/png": "[encoded data removed]",
      "text/plain": [
       "<Figure size 640x480 with 1 Axes>"
      ]
     },
     "metadata": {},
     "output_type": "display_data"
    }
   ],
   "source": [
    "# Proporção das notas\n",
    "import seaborn as sns\n",
    "sns.histplot(x=df[\"NOTA_FINAL\"], binwidth=100)"
   ]
  },
  {
   "cell_type": "code",
   "execution_count": 50,
   "metadata": {},
   "outputs": [
    {
     "data": {
      "text/plain": [
       "0        7\n",
       "1        4\n",
       "2        5\n",
       "3        3\n",
       "4        4\n",
       "        ..\n",
       "21818    6\n",
       "21819    5\n",
       "21820    4\n",
       "21821    3\n",
       "21822    5\n",
       "Name: NOTA_FINAL, Length: 21823, dtype: int64"
      ]
     },
     "execution_count": 50,
     "metadata": {},
     "output_type": "execute_result"
    }
   ],
   "source": [
    "# Para garantir que os datasets de treino e teste sigam essa proporção, é interessante criar um parâmetro auxiliar\n",
    "# O parâmetro irá controlar em qual faixa a nota se encontra (0-100, 100-200, ...)\n",
    "from math import floor\n",
    "faixa = 100\n",
    "auxiliar = np.floor(df[\"NOTA_FINAL\"] / faixa).astype(int)\n",
    "auxiliar"
   ]
  },
  {
   "cell_type": "code",
   "execution_count": 51,
   "metadata": {},
   "outputs": [],
   "source": [
    "# Fazendo split de treino/teste\n",
    "# Random state fixado para constância de resultados\n",
    "from sklearn.model_selection import train_test_split\n",
    "X = df.drop(\"NOTA_FINAL\", axis=1)\n",
    "Y = df[\"NOTA_FINAL\"]\n",
    "X_train, X_test, y_train, y_test = train_test_split(X, Y, test_size=0.2, shuffle=True, stratify=auxiliar, random_state=42)"
   ]
  },
  {
   "cell_type": "code",
   "execution_count": 52,
   "metadata": {},
   "outputs": [
    {
     "data": {
      "text/plain": [
       "<Axes: xlabel='NOTA_FINAL', ylabel='Count'>"
      ]
     },
     "execution_count": 52,
     "metadata": {},
     "output_type": "execute_result"
    },
    {
     "data": {
      "image/png": "[encoded data removed]",
      "text/plain": [
       "<Figure size 640x480 with 1 Axes>"
      ]
     },
     "metadata": {},
     "output_type": "display_data"
    }
   ],
   "source": [
    "# Teste\n",
    "import seaborn as sns\n",
    "sns.histplot(x=y_test, binwidth=100)"
   ]
  },
  {
   "cell_type": "code",
   "execution_count": 53,
   "metadata": {},
   "outputs": [
    {
     "data": {
      "text/plain": [
       "<Axes: xlabel='NOTA_FINAL', ylabel='Count'>"
      ]
     },
     "execution_count": 53,
     "metadata": {},
     "output_type": "execute_result"
    },
    {
     "data": {
      "image/png": "[encoded data removed]",
      "text/plain": [
       "<Figure size 640x480 with 1 Axes>"
      ]
     },
     "metadata": {},
     "output_type": "display_data"
    }
   ],
   "source": [
    "# Treino\n",
    "import seaborn as sns\n",
    "sns.histplot(x=y_train, binwidth=100)"
   ]
  },
  {
   "cell_type": "markdown",
   "metadata": {},
   "source": [
    "## Testando modelos básicos"
   ]
  },
  {
   "cell_type": "markdown",
   "metadata": {},
   "source": [
    "Nessa sessão, serão treinados três modelos, sem muita alteração nos seus hiperparâmetros, para ter uma noção dos resultados que podemos conseguir. Foram escolhidos os seguintes modelos: Linear Regression, Random Forest e SVM."
   ]
  },
  {
   "cell_type": "code",
   "execution_count": 54,
   "metadata": {},
   "outputs": [],
   "source": [
    "# Para avaliar os modelos, será usado k-fold\n",
    "from sklearn.model_selection import cross_val_score"
   ]
  },
  {
   "cell_type": "code",
   "execution_count": 55,
   "metadata": {},
   "outputs": [
    {
     "data": {
      "text/plain": [
       "0.30188873054211346"
      ]
     },
     "execution_count": 55,
     "metadata": {},
     "output_type": "execute_result"
    }
   ],
   "source": [
    "# Regressão Linear\n",
    "from sklearn.linear_model import LinearRegression\n",
    "model_linearreg = LinearRegression()\n",
    "cross_val_score(model_linearreg, X_train, y_train, cv=5, scoring=\"r2\").mean()"
   ]
  },
  {
   "cell_type": "code",
   "execution_count": 56,
   "metadata": {},
   "outputs": [
    {
     "data": {
      "text/plain": [
       "0.28637732608648586"
      ]
     },
     "execution_count": 56,
     "metadata": {},
     "output_type": "execute_result"
    }
   ],
   "source": [
    "# Random Forest\n",
    "from sklearn.ensemble import RandomForestRegressor\n",
    "model_randforest = RandomForestRegressor(n_jobs=-1)\n",
    "cross_val_score(model_randforest, X_train, y_train, cv=5, scoring=\"r2\").mean()"
   ]
  },
  {
   "cell_type": "code",
   "execution_count": 57,
   "metadata": {},
   "outputs": [
    {
     "data": {
      "text/plain": [
       "0.28015785464799425"
      ]
     },
     "execution_count": 57,
     "metadata": {},
     "output_type": "execute_result"
    }
   ],
   "source": [
    "# SVM\n",
    "from sklearn.svm import SVR\n",
    "model_svr = SVR()\n",
    "cross_val_score(model_svr, X_train, y_train, cv=5, scoring=\"r2\").mean()"
   ]
  },
  {
   "cell_type": "markdown",
   "metadata": {},
   "source": [
    "Os três modelos tiveram um R2 parecido e consideravelmente baixo (em torno de 30%), o que indica que as variáveis que temos a disposição não são suficientes para prever com precisão as notas dos participantes do ENEM.\n",
    "<br><br>\n",
    "Por terem tido resultados parecidos e pelo modelo de SVM ter um treinamento lento, ele será desconsiderado no restante da análise."
   ]
  },
  {
   "cell_type": "markdown",
   "metadata": {},
   "source": [
    "### Variáveis Relevantes"
   ]
  },
  {
   "cell_type": "markdown",
   "metadata": {},
   "source": [
    "O modelo de RandomForest possui alta interpretabilidade, o que ajuda a entender como as variáveis impactam na previsão da nota do estudante."
   ]
  },
  {
   "cell_type": "code",
   "execution_count": 61,
   "metadata": {},
   "outputs": [
    {
     "name": "stdout",
     "output_type": "stream",
     "text": [
      "Q028: 0.1445795590683151\n",
      "PANDEMIA_PRATICAS: 0.10251180123645781\n",
      "Q006: 0.09274246348649334\n",
      "TP_ESCOLA: 0.07980942449983015\n",
      "PANDEMIA_GESTAO: 0.07457750525910165\n",
      "GESTAO: 0.05565932096519955\n",
      "PRATICAS: 0.04642288558123933\n",
      "TP_FAIXA_ETARIA: 0.04413396939593953\n",
      "Q034: 0.04004107423508934\n",
      "Q003: 0.030897158425886206\n",
      "Q004: 0.02982044383137347\n",
      "Q001: 0.022893200739705202\n",
      "TP_SEXO: 0.020747645943120886\n",
      "Q033: 0.01970096753833679\n",
      "Q030: 0.01951437307609407\n",
      "Q032: 0.018619641893385885\n",
      "Q025: 0.018565245541505702\n",
      "Q026: 0.017664019412712135\n",
      "COR_RACA_1.0: 0.01578462918786604\n",
      "REGIAO_NORDESTE: 0.015335968240150846\n",
      "REGIAO_SUDESTE: 0.014900121944005452\n",
      "COR_RACA_3.0: 0.012525769703944468\n",
      "REGIAO_NORTE: 0.010779790524065311\n",
      "REGIAO_CENTROOESTE: 0.010423159626356948\n",
      "COR_RACA_2.0: 0.009033235685512581\n",
      "REGIAO_SUL: 0.008899904926827198\n",
      "Q002: 0.008711475574710881\n",
      "COR_RACA_4.0: 0.004319969503625365\n",
      "NACIONALIDADE_1.0: 0.003305390447634558\n",
      "NACIONALIDADE_2.0: 0.002739311485343876\n",
      "TP_ENSINO: 0.002294658809885253\n",
      "COR_RACA_5.0: 0.0013276823507001778\n",
      "NACIONALIDADE_3.0: 0.0004779561583207837\n",
      "NACIONALIDADE_4.0: 0.00024027570126421534\n"
     ]
    }
   ],
   "source": [
    "model_randforest.fit(X_train, y_train)\n",
    "features = sorted(zip(model_randforest.feature_importances_, X_train.columns), reverse=True)\n",
    "for importance, feature in features:\n",
    "    print(f\"{feature}: {importance}\")"
   ]
  },
  {
   "cell_type": "code",
   "execution_count": 63,
   "metadata": {},
   "outputs": [
    {
     "name": "stdout",
     "output_type": "stream",
     "text": [
      "Q028: 0.1445795590683151\n",
      "PANDEMIA_PRATICAS: 0.10251180123645781\n",
      "Q006: 0.09274246348649334\n",
      "TP_ESCOLA: 0.07980942449983015\n",
      "PANDEMIA_GESTAO: 0.07457750525910165\n",
      "GESTAO: 0.05565932096519955\n",
      "PRATICAS: 0.04642288558123933\n",
      "TP_FAIXA_ETARIA: 0.04413396939593953\n",
      "Q034: 0.04004107423508934\n",
      "Q003: 0.030897158425886206\n",
      "Q004: 0.02982044383137347\n"
     ]
    }
   ],
   "source": [
    "# Mostrando apenas as mais relevantes (que estão acima da média)\n",
    "media = 1 / len(X.columns)\n",
    "for importance, feature in features:\n",
    "    if importance > media:\n",
    "        print(f\"{feature}: {importance}\")"
   ]
  },
  {
   "cell_type": "markdown",
   "metadata": {},
   "source": [
    "A Questão 28 dos Hábitos de Estudo trata sobre problemas enfrentados na pandemia (sem tempo de descanso, pouca atividade física, dificuldade de se concentrar, ...), e as Práticas na Pandemia trata sobre como o aluno estudou durante a pandemia e com que frequência.\n",
    "<br><br>\n",
    "O tipo de escola que o aluno estudou (se era pública ou não) e sua faixa salarial também parecem ter grandes impactos no desempenho do estudante no ENEM.\n",
    "<br><br>\n",
    "A maneira como o aluno fez a gestão dos seus estudos, tanto na pandemia quanto no geral, também são relevantes, bem como suas práticas de estudo no geral.\n",
    "<br><br>\n",
    "A idade do estudante parece ter grande impacto também. Isso é plausível, já que pessoas mais velhas tendem a ir melhor, por terem mais experiência com a prova de anos anteriores e por terem mais maturidade no geral.\n",
    "<br><br>\n",
    "A questão 34 fala sobre a avaliação do aluno sobre si próprio (o quanto ele se julga preparado para a prova). Embora essa autoavaliação parece ser relevante, não é tão relevante quantos outras variáveis.\n",
    "<br><br>\n",
    "Por fim, as Questões 3 e 4 dos Hábitos de Estudo também falam sobre o estudo do aluno na pandemia (mais especificamente, sobre o modelo de ensino e a evolução do aprendizado, respectivamente).\n",
    "<br><br>\n",
    "Das 11 variáveis com relevância acima da média, 5 falavam especificamente sobre a pandemia, 8 falavam sobre sobre o estudo do aluno e 2 falavam sobre a situação socioeconômica do estudante (sendo essas duas a terceira e a quarta variáveis mais relevantes).\n",
    "<br><br><br>\n",
    "Essa análise inicial indica que a pandemia pode ter tido uma grande influência nas notas dos estudantes.\n"
   ]
  },
  {
   "cell_type": "markdown",
   "metadata": {},
   "source": [
    "## Melhorando Modelo de Random Forest"
   ]
  },
  {
   "cell_type": "markdown",
   "metadata": {},
   "source": [
    "### Hiperparâmetros"
   ]
  },
  {
   "cell_type": "markdown",
   "metadata": {},
   "source": [
    "Visando buscar um modelo melhor, será feito uma análise de hiperparâmetros do modelo de Random Forest.\n",
    "<br><br>\n",
    "A técnica utilizada aqui será o Grid Search."
   ]
  },
  {
   "cell_type": "code",
   "execution_count": 64,
   "metadata": {},
   "outputs": [
    {
     "data": {
      "text/plain": [
       "46"
      ]
     },
     "execution_count": 64,
     "metadata": {},
     "output_type": "execute_result"
    }
   ],
   "source": [
    "# Profundidade máxima das árvores no modelo base\n",
    "max([estimator.tree_.max_depth for estimator in model_randforest.estimators_])"
   ]
  },
  {
   "cell_type": "code",
   "execution_count": 67,
   "metadata": {},
   "outputs": [],
   "source": [
    "# Escolha dos hiperparâmetros a serem testados\n",
    "# Será variado o número de árvores e a profundidade delas\n",
    "param_grid = [\n",
    "    {\"n_estimators\": [10, 100, 250, 500], \"max_depth\": [2, 20, 40]}\n",
    "]"
   ]
  },
  {
   "cell_type": "code",
   "execution_count": 68,
   "metadata": {},
   "outputs": [
    {
     "data": {
      "text/html": [
       "<style>#sk-container-id-2 {color: black;}#sk-container-id-2 pre{padding: 0;}#sk-container-id-2 div.sk-toggleable {background-color: white;}#sk-container-id-2 label.sk-toggleable__label {cursor: pointer;display: block;width: 100%;margin-bottom: 0;padding: 0.3em;box-sizing: border-box;text-align: center;}#sk-container-id-2 label.sk-toggleable__label-arrow:before {content: \"▸\";float: left;margin-right: 0.25em;color: #696969;}#sk-container-id-2 label.sk-toggleable__label-arrow:hover:before {color: black;}#sk-container-id-2 div.sk-estimator:hover label.sk-toggleable__label-arrow:before {color: black;}#sk-container-id-2 div.sk-toggleable__content {max-height: 0;max-width: 0;overflow: hidden;text-align: left;background-color: #f0f8ff;}#sk-container-id-2 div.sk-toggleable__content pre {margin: 0.2em;color: black;border-radius: 0.25em;background-color: #f0f8ff;}#sk-container-id-2 input.sk-toggleable__control:checked~div.sk-toggleable__content {max-height: 200px;max-width: 100%;overflow: auto;}#sk-container-id-2 input.sk-toggleable__control:checked~label.sk-toggleable__label-arrow:before {content: \"▾\";}#sk-container-id-2 div.sk-estimator input.sk-toggleable__control:checked~label.sk-toggleable__label {background-color: #d4ebff;}#sk-container-id-2 div.sk-label input.sk-toggleable__control:checked~label.sk-toggleable__label {background-color: #d4ebff;}#sk-container-id-2 input.sk-hidden--visually {border: 0;clip: rect(1px 1px 1px 1px);clip: rect(1px, 1px, 1px, 1px);height: 1px;margin: -1px;overflow: hidden;padding: 0;position: absolute;width: 1px;}#sk-container-id-2 div.sk-estimator {font-family: monospace;background-color: #f0f8ff;border: 1px dotted black;border-radius: 0.25em;box-sizing: border-box;margin-bottom: 0.5em;}#sk-container-id-2 div.sk-estimator:hover {background-color: #d4ebff;}#sk-container-id-2 div.sk-parallel-item::after {content: \"\";width: 100%;border-bottom: 1px solid gray;flex-grow: 1;}#sk-container-id-2 div.sk-label:hover label.sk-toggleable__label {background-color: #d4ebff;}#sk-container-id-2 div.sk-serial::before {content: \"\";position: absolute;border-left: 1px solid gray;box-sizing: border-box;top: 0;bottom: 0;left: 50%;z-index: 0;}#sk-container-id-2 div.sk-serial {display: flex;flex-direction: column;align-items: center;background-color: white;padding-right: 0.2em;padding-left: 0.2em;position: relative;}#sk-container-id-2 div.sk-item {position: relative;z-index: 1;}#sk-container-id-2 div.sk-parallel {display: flex;align-items: stretch;justify-content: center;background-color: white;position: relative;}#sk-container-id-2 div.sk-item::before, #sk-container-id-2 div.sk-parallel-item::before {content: \"\";position: absolute;border-left: 1px solid gray;box-sizing: border-box;top: 0;bottom: 0;left: 50%;z-index: -1;}#sk-container-id-2 div.sk-parallel-item {display: flex;flex-direction: column;z-index: 1;position: relative;background-color: white;}#sk-container-id-2 div.sk-parallel-item:first-child::after {align-self: flex-end;width: 50%;}#sk-container-id-2 div.sk-parallel-item:last-child::after {align-self: flex-start;width: 50%;}#sk-container-id-2 div.sk-parallel-item:only-child::after {width: 0;}#sk-container-id-2 div.sk-dashed-wrapped {border: 1px dashed gray;margin: 0 0.4em 0.5em 0.4em;box-sizing: border-box;padding-bottom: 0.4em;background-color: white;}#sk-container-id-2 div.sk-label label {font-family: monospace;font-weight: bold;display: inline-block;line-height: 1.2em;}#sk-container-id-2 div.sk-label-container {text-align: center;}#sk-container-id-2 div.sk-container {/* jupyter's `normalize.less` sets `[hidden] { display: none; }` but bootstrap.min.css set `[hidden] { display: none !important; }` so we also need the `!important` here to be able to override the default hidden behavior on the sphinx rendered scikit-learn.org. See: https://github.com/scikit-learn/scikit-learn/issues/21755 */display: inline-block !important;position: relative;}#sk-container-id-2 div.sk-text-repr-fallback {display: none;}</style><div id=\"sk-container-id-2\" class=\"sk-top-container\"><div class=\"sk-text-repr-fallback\"><pre>GridSearchCV(cv=5, estimator=RandomForestRegressor(n_jobs=-1),\n",
       "             param_grid=[{&#x27;max_depth&#x27;: [2, 20, 40],\n",
       "                          &#x27;n_estimators&#x27;: [10, 100, 250, 500]}],\n",
       "             return_train_score=True, scoring=&#x27;r2&#x27;)</pre><b>In a Jupyter environment, please rerun this cell to show the HTML representation or trust the notebook. <br />On GitHub, the HTML representation is unable to render, please try loading this page with nbviewer.org.</b></div><div class=\"sk-container\" hidden><div class=\"sk-item sk-dashed-wrapped\"><div class=\"sk-label-container\"><div class=\"sk-label sk-toggleable\"><input class=\"sk-toggleable__control sk-hidden--visually\" id=\"sk-estimator-id-4\" type=\"checkbox\" ><label for=\"sk-estimator-id-4\" class=\"sk-toggleable__label sk-toggleable__label-arrow\">GridSearchCV</label><div class=\"sk-toggleable__content\"><pre>GridSearchCV(cv=5, estimator=RandomForestRegressor(n_jobs=-1),\n",
       "             param_grid=[{&#x27;max_depth&#x27;: [2, 20, 40],\n",
       "                          &#x27;n_estimators&#x27;: [10, 100, 250, 500]}],\n",
       "             return_train_score=True, scoring=&#x27;r2&#x27;)</pre></div></div></div><div class=\"sk-parallel\"><div class=\"sk-parallel-item\"><div class=\"sk-item\"><div class=\"sk-label-container\"><div class=\"sk-label sk-toggleable\"><input class=\"sk-toggleable__control sk-hidden--visually\" id=\"sk-estimator-id-5\" type=\"checkbox\" ><label for=\"sk-estimator-id-5\" class=\"sk-toggleable__label sk-toggleable__label-arrow\">estimator: RandomForestRegressor</label><div class=\"sk-toggleable__content\"><pre>RandomForestRegressor(n_jobs=-1)</pre></div></div></div><div class=\"sk-serial\"><div class=\"sk-item\"><div class=\"sk-estimator sk-toggleable\"><input class=\"sk-toggleable__control sk-hidden--visually\" id=\"sk-estimator-id-6\" type=\"checkbox\" ><label for=\"sk-estimator-id-6\" class=\"sk-toggleable__label sk-toggleable__label-arrow\">RandomForestRegressor</label><div class=\"sk-toggleable__content\"><pre>RandomForestRegressor(n_jobs=-1)</pre></div></div></div></div></div></div></div></div></div></div>"
      ],
      "text/plain": [
       "GridSearchCV(cv=5, estimator=RandomForestRegressor(n_jobs=-1),\n",
       "             param_grid=[{'max_depth': [2, 20, 40],\n",
       "                          'n_estimators': [10, 100, 250, 500]}],\n",
       "             return_train_score=True, scoring='r2')"
      ]
     },
     "execution_count": 68,
     "metadata": {},
     "output_type": "execute_result"
    }
   ],
   "source": [
    "from sklearn.model_selection import GridSearchCV\n",
    "model_randforest = RandomForestRegressor(n_jobs=-1)\n",
    "grid_search = GridSearchCV(model_randforest, param_grid=param_grid, cv=5, scoring=\"r2\", return_train_score=True)\n",
    "grid_search.fit(X_train, y_train)"
   ]
  },
  {
   "cell_type": "code",
   "execution_count": 69,
   "metadata": {},
   "outputs": [
    {
     "name": "stdout",
     "output_type": "stream",
     "text": [
      "0.29564198095476096 {'max_depth': 20, 'n_estimators': 500}\n",
      "0.29413470797070473 {'max_depth': 20, 'n_estimators': 250}\n",
      "0.29167167587777526 {'max_depth': 40, 'n_estimators': 500}\n",
      "0.29148167663250046 {'max_depth': 20, 'n_estimators': 100}\n",
      "0.2898841182329859 {'max_depth': 40, 'n_estimators': 250}\n",
      "0.2873972489686665 {'max_depth': 40, 'n_estimators': 100}\n",
      "0.2328206020506567 {'max_depth': 20, 'n_estimators': 10}\n",
      "0.21581059740364825 {'max_depth': 40, 'n_estimators': 10}\n",
      "0.2046895914963094 {'max_depth': 2, 'n_estimators': 500}\n",
      "0.204649863650571 {'max_depth': 2, 'n_estimators': 250}\n",
      "0.20452658905691173 {'max_depth': 2, 'n_estimators': 100}\n",
      "0.203354840999044 {'max_depth': 2, 'n_estimators': 10}\n"
     ]
    }
   ],
   "source": [
    "# All scores (sorted)\n",
    "cvres = grid_search.cv_results_\n",
    "results = sorted(zip(cvres[\"mean_test_score\"], cvres[\"params\"]), reverse=True)\n",
    "for score, params in results:\n",
    "    print(score, params)"
   ]
  },
  {
   "cell_type": "markdown",
   "metadata": {},
   "source": [
    "Note que houve pouca diferença entre os scores de cada modelo, o que significa que alterar os hiperparâmetros não leva a grande melhora no modelo nesse problema. Isso indica que ou o modelo de Random Forest não modela bem o problema, ou as variáveis que temos não são suficientes para criar boas previsões."
   ]
  },
  {
   "cell_type": "code",
   "execution_count": 70,
   "metadata": {},
   "outputs": [
    {
     "name": "stdout",
     "output_type": "stream",
     "text": [
      "Q028: 0.1516067376105937\n",
      "PANDEMIA_PRATICAS: 0.09907089825365954\n",
      "Q006: 0.09444013509201798\n",
      "TP_ESCOLA: 0.08597073452637974\n",
      "PANDEMIA_GESTAO: 0.07382428995197426\n",
      "GESTAO: 0.05324260962157561\n",
      "PRATICAS: 0.04531327148718926\n",
      "TP_FAIXA_ETARIA: 0.04403743198251721\n",
      "Q034: 0.03972681012593156\n",
      "Q003: 0.032179336766637916\n"
     ]
    }
   ],
   "source": [
    "# Analisando os parâmetros mais importantes no melhor modelo obtido\n",
    "features = sorted(zip(grid_search.best_estimator_.feature_importances_, X_train.columns), reverse=True)\n",
    "media = 1 / len(X.columns)\n",
    "for importance, feature in features:\n",
    "    if importance > media:\n",
    "        print(f\"{feature}: {importance}\")"
   ]
  },
  {
   "cell_type": "markdown",
   "metadata": {},
   "source": [
    "Houve pouca diferença nas variáveis julgadas relevantes entre o melhor modelo da Grid Search e o modelo básico."
   ]
  },
  {
   "cell_type": "markdown",
   "metadata": {},
   "source": [
    "### Features mais relevantes"
   ]
  },
  {
   "cell_type": "markdown",
   "metadata": {},
   "source": [
    "Agora será avaliado se é possível melhorar o modelo limitando as variáveis utilizadas."
   ]
  },
  {
   "cell_type": "code",
   "execution_count": 71,
   "metadata": {},
   "outputs": [
    {
     "data": {
      "text/plain": [
       "['Q028',\n",
       " 'PANDEMIA_PRATICAS',\n",
       " 'Q006',\n",
       " 'TP_ESCOLA',\n",
       " 'PANDEMIA_GESTAO',\n",
       " 'GESTAO',\n",
       " 'PRATICAS',\n",
       " 'TP_FAIXA_ETARIA',\n",
       " 'Q034',\n",
       " 'Q003']"
      ]
     },
     "execution_count": 71,
     "metadata": {},
     "output_type": "execute_result"
    }
   ],
   "source": [
    "# Usando variáveis mais relevantes do melhor modelo\n",
    "best_hiperparameters = grid_search.best_params_\n",
    "best_features = []\n",
    "media = 1 / len(X.columns)\n",
    "for importance, feature in features:\n",
    "    if importance > media:\n",
    "        best_features.append(feature)\n",
    "best_features"
   ]
  },
  {
   "cell_type": "code",
   "execution_count": 72,
   "metadata": {},
   "outputs": [
    {
     "data": {
      "text/plain": [
       "0.230333293627333"
      ]
     },
     "execution_count": 72,
     "metadata": {},
     "output_type": "execute_result"
    }
   ],
   "source": [
    "best_model = RandomForestRegressor(n_jobs=-1, n_estimators=best_hiperparameters[\"n_estimators\"], max_depth=best_hiperparameters[\"max_depth\"])\n",
    "X_temp = X_train[best_features]\n",
    "cross_val_score(best_model, X_temp, y_train, cv=5, scoring=\"r2\").mean()"
   ]
  },
  {
   "cell_type": "markdown",
   "metadata": {},
   "source": [
    "Claramente, limitar as variáveis utilizadas não ajuda a melhorar a previsão do modelo."
   ]
  },
  {
   "cell_type": "code",
   "execution_count": null,
   "metadata": {},
   "outputs": [],
   "source": []
  },
  {
   "cell_type": "code",
   "execution_count": null,
   "metadata": {},
   "outputs": [],
   "source": []
  }
 ],
 "metadata": {
  "kernelspec": {
   "display_name": "Python 3",
   "language": "python",
   "name": "python3"
  },
  "language_info": {
   "codemirror_mode": {
    "name": "ipython",
    "version": 3
   },
   "file_extension": ".py",
   "mimetype": "text/x-python",
   "name": "python",
   "nbconvert_exporter": "python",
   "pygments_lexer": "ipython3",
   "version": "3.10.12"
  },
  "orig_nbformat": 4
 },
 "nbformat": 4,
 "nbformat_minor": 2
}
