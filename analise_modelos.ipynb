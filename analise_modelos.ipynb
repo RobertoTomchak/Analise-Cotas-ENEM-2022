{
 "cells": [
  {
   "cell_type": "markdown",
   "metadata": {},
   "source": [
    "# Prevendo Notas do ENEM"
   ]
  },
  {
   "cell_type": "markdown",
   "metadata": {},
   "source": [
    "O objetivo dessa análise é desenvolver um modelo que seja capaz de prever a nota no ENEM de um participante, baseado em dados socioeconômicos sobre ele.\n",
    "<br><br>\n",
    "O objetivo é que, a partir dessas previsões, a gente consiga analisar quais variáveis possuem maior impacto na previsão, o que pode ajudar a avaliar a necessidade do sistema de cotas.\n",
    "<br><br>\n",
    "Iremos julgar como injustiça um parâmetro que supostamente não deveria ser relevante para decidir a nota do participante, mas que o modelo julgou como relevante."
   ]
  },
  {
   "cell_type": "markdown",
   "metadata": {},
   "source": [
    "## Baixando dados"
   ]
  },
  {
   "cell_type": "markdown",
   "metadata": {},
   "source": [
    "Os dados originais do ENEM 2022 já foram tratados para o modelo nos arquivos de tratamento.\n",
    "<br><br>\n",
    "Agora, os datasets de microdados e hábitos de estudo serão juntados, usando o código de inscrição dos participantes."
   ]
  },
  {
   "cell_type": "code",
   "execution_count": 2,
   "metadata": {},
   "outputs": [],
   "source": [
    "# Bibliotecas importantes\n",
    "import pandas as pd\n",
    "import numpy as np\n",
    "import seaborn as sns"
   ]
  },
  {
   "cell_type": "code",
   "execution_count": 3,
   "metadata": {},
   "outputs": [],
   "source": [
    "df_microdados = pd.read_csv(\"microdados_tratado.csv\")\n",
    "df_estudo = pd.read_csv(\"habitos_estudo_tratado.csv\")"
   ]
  },
  {
   "cell_type": "code",
   "execution_count": 4,
   "metadata": {},
   "outputs": [
    {
     "name": "stdout",
     "output_type": "stream",
     "text": [
      "Tamanho Microdados: 669781\n",
      "Tamanho Hábitos Estudo: 78241\n"
     ]
    }
   ],
   "source": [
    "# Tamanho dos datasets originais\n",
    "print(f\"Tamanho Microdados: {len(df_microdados)}\")\n",
    "print(f\"Tamanho Hábitos Estudo: {len(df_estudo)}\")"
   ]
  },
  {
   "cell_type": "code",
   "execution_count": 6,
   "metadata": {},
   "outputs": [
    {
     "data": {
      "text/html": [
       "<div>\n",
       "<style scoped>\n",
       "    .dataframe tbody tr th:only-of-type {\n",
       "        vertical-align: middle;\n",
       "    }\n",
       "\n",
       "    .dataframe tbody tr th {\n",
       "        vertical-align: top;\n",
       "    }\n",
       "\n",
       "    .dataframe thead th {\n",
       "        text-align: right;\n",
       "    }\n",
       "</style>\n",
       "<table border=\"1\" class=\"dataframe\">\n",
       "  <thead>\n",
       "    <tr style=\"text-align: right;\">\n",
       "      <th></th>\n",
       "      <th>NU_INSCRICAO</th>\n",
       "      <th>TP_FAIXA_ETARIA</th>\n",
       "      <th>TP_SEXO</th>\n",
       "      <th>TP_ESCOLA</th>\n",
       "      <th>TP_ENSINO</th>\n",
       "      <th>FAIXA_SALARIAL</th>\n",
       "      <th>RACA_AMARELA</th>\n",
       "      <th>RACA_BRANCA</th>\n",
       "      <th>RACA_INDIGENA</th>\n",
       "      <th>RACA_PARDA</th>\n",
       "      <th>...</th>\n",
       "      <th>PANDEMIA_GESTAO</th>\n",
       "      <th>PANDEMIA_PRATICAS</th>\n",
       "      <th>GESTAO</th>\n",
       "      <th>PRATICAS</th>\n",
       "      <th>Q025</th>\n",
       "      <th>Q026</th>\n",
       "      <th>Q028</th>\n",
       "      <th>Q030</th>\n",
       "      <th>Q032</th>\n",
       "      <th>Q033</th>\n",
       "    </tr>\n",
       "  </thead>\n",
       "  <tbody>\n",
       "    <tr>\n",
       "      <th>0</th>\n",
       "      <td>210056012033</td>\n",
       "      <td>3</td>\n",
       "      <td>0</td>\n",
       "      <td>1.0</td>\n",
       "      <td>0.0</td>\n",
       "      <td>4</td>\n",
       "      <td>False</td>\n",
       "      <td>True</td>\n",
       "      <td>False</td>\n",
       "      <td>False</td>\n",
       "      <td>...</td>\n",
       "      <td>2.25</td>\n",
       "      <td>1.583333</td>\n",
       "      <td>1.0</td>\n",
       "      <td>1.0</td>\n",
       "      <td>2</td>\n",
       "      <td>2</td>\n",
       "      <td>4</td>\n",
       "      <td>2</td>\n",
       "      <td>2</td>\n",
       "      <td>2</td>\n",
       "    </tr>\n",
       "    <tr>\n",
       "      <th>1</th>\n",
       "      <td>210057478691</td>\n",
       "      <td>3</td>\n",
       "      <td>0</td>\n",
       "      <td>1.0</td>\n",
       "      <td>0.0</td>\n",
       "      <td>0</td>\n",
       "      <td>False</td>\n",
       "      <td>False</td>\n",
       "      <td>False</td>\n",
       "      <td>True</td>\n",
       "      <td>...</td>\n",
       "      <td>1.50</td>\n",
       "      <td>1.500000</td>\n",
       "      <td>0.0</td>\n",
       "      <td>0.5</td>\n",
       "      <td>2</td>\n",
       "      <td>2</td>\n",
       "      <td>6</td>\n",
       "      <td>2</td>\n",
       "      <td>2</td>\n",
       "      <td>2</td>\n",
       "    </tr>\n",
       "    <tr>\n",
       "      <th>2</th>\n",
       "      <td>210056688095</td>\n",
       "      <td>4</td>\n",
       "      <td>1</td>\n",
       "      <td>1.0</td>\n",
       "      <td>0.0</td>\n",
       "      <td>1</td>\n",
       "      <td>False</td>\n",
       "      <td>False</td>\n",
       "      <td>False</td>\n",
       "      <td>False</td>\n",
       "      <td>...</td>\n",
       "      <td>1.00</td>\n",
       "      <td>1.000000</td>\n",
       "      <td>1.0</td>\n",
       "      <td>1.0</td>\n",
       "      <td>2</td>\n",
       "      <td>1</td>\n",
       "      <td>1</td>\n",
       "      <td>1</td>\n",
       "      <td>1</td>\n",
       "      <td>1</td>\n",
       "    </tr>\n",
       "    <tr>\n",
       "      <th>3</th>\n",
       "      <td>210057511905</td>\n",
       "      <td>3</td>\n",
       "      <td>0</td>\n",
       "      <td>1.0</td>\n",
       "      <td>0.0</td>\n",
       "      <td>0</td>\n",
       "      <td>False</td>\n",
       "      <td>False</td>\n",
       "      <td>False</td>\n",
       "      <td>True</td>\n",
       "      <td>...</td>\n",
       "      <td>1.25</td>\n",
       "      <td>1.583333</td>\n",
       "      <td>2.0</td>\n",
       "      <td>2.0</td>\n",
       "      <td>1</td>\n",
       "      <td>1</td>\n",
       "      <td>1</td>\n",
       "      <td>1</td>\n",
       "      <td>1</td>\n",
       "      <td>1</td>\n",
       "    </tr>\n",
       "    <tr>\n",
       "      <th>4</th>\n",
       "      <td>210057838909</td>\n",
       "      <td>3</td>\n",
       "      <td>0</td>\n",
       "      <td>1.0</td>\n",
       "      <td>0.0</td>\n",
       "      <td>1</td>\n",
       "      <td>False</td>\n",
       "      <td>False</td>\n",
       "      <td>False</td>\n",
       "      <td>True</td>\n",
       "      <td>...</td>\n",
       "      <td>1.00</td>\n",
       "      <td>1.166667</td>\n",
       "      <td>1.0</td>\n",
       "      <td>1.0</td>\n",
       "      <td>2</td>\n",
       "      <td>2</td>\n",
       "      <td>1</td>\n",
       "      <td>1</td>\n",
       "      <td>1</td>\n",
       "      <td>2</td>\n",
       "    </tr>\n",
       "    <tr>\n",
       "      <th>...</th>\n",
       "      <td>...</td>\n",
       "      <td>...</td>\n",
       "      <td>...</td>\n",
       "      <td>...</td>\n",
       "      <td>...</td>\n",
       "      <td>...</td>\n",
       "      <td>...</td>\n",
       "      <td>...</td>\n",
       "      <td>...</td>\n",
       "      <td>...</td>\n",
       "      <td>...</td>\n",
       "      <td>...</td>\n",
       "      <td>...</td>\n",
       "      <td>...</td>\n",
       "      <td>...</td>\n",
       "      <td>...</td>\n",
       "      <td>...</td>\n",
       "      <td>...</td>\n",
       "      <td>...</td>\n",
       "      <td>...</td>\n",
       "      <td>...</td>\n",
       "    </tr>\n",
       "    <tr>\n",
       "      <th>21818</th>\n",
       "      <td>210057405995</td>\n",
       "      <td>3</td>\n",
       "      <td>1</td>\n",
       "      <td>0.0</td>\n",
       "      <td>0.0</td>\n",
       "      <td>4</td>\n",
       "      <td>False</td>\n",
       "      <td>False</td>\n",
       "      <td>False</td>\n",
       "      <td>True</td>\n",
       "      <td>...</td>\n",
       "      <td>1.75</td>\n",
       "      <td>2.166667</td>\n",
       "      <td>1.5</td>\n",
       "      <td>3.0</td>\n",
       "      <td>2</td>\n",
       "      <td>1</td>\n",
       "      <td>1</td>\n",
       "      <td>2</td>\n",
       "      <td>2</td>\n",
       "      <td>2</td>\n",
       "    </tr>\n",
       "    <tr>\n",
       "      <th>21819</th>\n",
       "      <td>210055900340</td>\n",
       "      <td>2</td>\n",
       "      <td>1</td>\n",
       "      <td>0.0</td>\n",
       "      <td>0.0</td>\n",
       "      <td>8</td>\n",
       "      <td>False</td>\n",
       "      <td>False</td>\n",
       "      <td>False</td>\n",
       "      <td>True</td>\n",
       "      <td>...</td>\n",
       "      <td>1.75</td>\n",
       "      <td>1.250000</td>\n",
       "      <td>1.0</td>\n",
       "      <td>1.5</td>\n",
       "      <td>2</td>\n",
       "      <td>2</td>\n",
       "      <td>2</td>\n",
       "      <td>2</td>\n",
       "      <td>2</td>\n",
       "      <td>2</td>\n",
       "    </tr>\n",
       "    <tr>\n",
       "      <th>21820</th>\n",
       "      <td>210054991409</td>\n",
       "      <td>3</td>\n",
       "      <td>1</td>\n",
       "      <td>1.0</td>\n",
       "      <td>0.0</td>\n",
       "      <td>3</td>\n",
       "      <td>False</td>\n",
       "      <td>True</td>\n",
       "      <td>False</td>\n",
       "      <td>False</td>\n",
       "      <td>...</td>\n",
       "      <td>1.00</td>\n",
       "      <td>1.000000</td>\n",
       "      <td>0.0</td>\n",
       "      <td>0.0</td>\n",
       "      <td>2</td>\n",
       "      <td>2</td>\n",
       "      <td>2</td>\n",
       "      <td>1</td>\n",
       "      <td>2</td>\n",
       "      <td>2</td>\n",
       "    </tr>\n",
       "    <tr>\n",
       "      <th>21821</th>\n",
       "      <td>210055081282</td>\n",
       "      <td>6</td>\n",
       "      <td>1</td>\n",
       "      <td>1.0</td>\n",
       "      <td>0.0</td>\n",
       "      <td>1</td>\n",
       "      <td>False</td>\n",
       "      <td>False</td>\n",
       "      <td>False</td>\n",
       "      <td>True</td>\n",
       "      <td>...</td>\n",
       "      <td>0.00</td>\n",
       "      <td>0.000000</td>\n",
       "      <td>0.0</td>\n",
       "      <td>0.0</td>\n",
       "      <td>2</td>\n",
       "      <td>2</td>\n",
       "      <td>2</td>\n",
       "      <td>2</td>\n",
       "      <td>1</td>\n",
       "      <td>1</td>\n",
       "    </tr>\n",
       "    <tr>\n",
       "      <th>21822</th>\n",
       "      <td>210056046873</td>\n",
       "      <td>2</td>\n",
       "      <td>1</td>\n",
       "      <td>1.0</td>\n",
       "      <td>0.0</td>\n",
       "      <td>4</td>\n",
       "      <td>False</td>\n",
       "      <td>True</td>\n",
       "      <td>False</td>\n",
       "      <td>False</td>\n",
       "      <td>...</td>\n",
       "      <td>1.50</td>\n",
       "      <td>1.833333</td>\n",
       "      <td>2.0</td>\n",
       "      <td>1.5</td>\n",
       "      <td>2</td>\n",
       "      <td>1</td>\n",
       "      <td>1</td>\n",
       "      <td>1</td>\n",
       "      <td>1</td>\n",
       "      <td>1</td>\n",
       "    </tr>\n",
       "  </tbody>\n",
       "</table>\n",
       "<p>21823 rows × 36 columns</p>\n",
       "</div>"
      ],
      "text/plain": [
       "       NU_INSCRICAO  TP_FAIXA_ETARIA  TP_SEXO  TP_ESCOLA  TP_ENSINO   \n",
       "0      210056012033                3        0        1.0        0.0  \\\n",
       "1      210057478691                3        0        1.0        0.0   \n",
       "2      210056688095                4        1        1.0        0.0   \n",
       "3      210057511905                3        0        1.0        0.0   \n",
       "4      210057838909                3        0        1.0        0.0   \n",
       "...             ...              ...      ...        ...        ...   \n",
       "21818  210057405995                3        1        0.0        0.0   \n",
       "21819  210055900340                2        1        0.0        0.0   \n",
       "21820  210054991409                3        1        1.0        0.0   \n",
       "21821  210055081282                6        1        1.0        0.0   \n",
       "21822  210056046873                2        1        1.0        0.0   \n",
       "\n",
       "       FAIXA_SALARIAL  RACA_AMARELA  RACA_BRANCA  RACA_INDIGENA  RACA_PARDA   \n",
       "0                   4         False         True          False       False  \\\n",
       "1                   0         False        False          False        True   \n",
       "2                   1         False        False          False       False   \n",
       "3                   0         False        False          False        True   \n",
       "4                   1         False        False          False        True   \n",
       "...               ...           ...          ...            ...         ...   \n",
       "21818               4         False        False          False        True   \n",
       "21819               8         False        False          False        True   \n",
       "21820               3         False         True          False       False   \n",
       "21821               1         False        False          False        True   \n",
       "21822               4         False         True          False       False   \n",
       "\n",
       "       ...  PANDEMIA_GESTAO  PANDEMIA_PRATICAS  GESTAO  PRATICAS  Q025  Q026   \n",
       "0      ...             2.25           1.583333     1.0       1.0     2     2  \\\n",
       "1      ...             1.50           1.500000     0.0       0.5     2     2   \n",
       "2      ...             1.00           1.000000     1.0       1.0     2     1   \n",
       "3      ...             1.25           1.583333     2.0       2.0     1     1   \n",
       "4      ...             1.00           1.166667     1.0       1.0     2     2   \n",
       "...    ...              ...                ...     ...       ...   ...   ...   \n",
       "21818  ...             1.75           2.166667     1.5       3.0     2     1   \n",
       "21819  ...             1.75           1.250000     1.0       1.5     2     2   \n",
       "21820  ...             1.00           1.000000     0.0       0.0     2     2   \n",
       "21821  ...             0.00           0.000000     0.0       0.0     2     2   \n",
       "21822  ...             1.50           1.833333     2.0       1.5     2     1   \n",
       "\n",
       "       Q028  Q030  Q032  Q033  \n",
       "0         4     2     2     2  \n",
       "1         6     2     2     2  \n",
       "2         1     1     1     1  \n",
       "3         1     1     1     1  \n",
       "4         1     1     1     2  \n",
       "...     ...   ...   ...   ...  \n",
       "21818     1     2     2     2  \n",
       "21819     2     2     2     2  \n",
       "21820     2     1     2     2  \n",
       "21821     2     2     1     1  \n",
       "21822     1     1     1     1  \n",
       "\n",
       "[21823 rows x 36 columns]"
      ]
     },
     "execution_count": 6,
     "metadata": {},
     "output_type": "execute_result"
    }
   ],
   "source": [
    "# Juntando datasets\n",
    "df = pd.merge(df_microdados, df_estudo, on=\"NU_INSCRICAO\")\n",
    "df"
   ]
  },
  {
   "cell_type": "code",
   "execution_count": 7,
   "metadata": {},
   "outputs": [
    {
     "data": {
      "text/plain": [
       "21823"
      ]
     },
     "execution_count": 7,
     "metadata": {},
     "output_type": "execute_result"
    }
   ],
   "source": [
    "# Quantas linhas sobrariam se removessemos NAs?\n",
    "df.dropna().shape[0]"
   ]
  },
  {
   "cell_type": "code",
   "execution_count": 8,
   "metadata": {},
   "outputs": [
    {
     "data": {
      "text/plain": [
       "0.8845658400234122"
      ]
     },
     "execution_count": 8,
     "metadata": {},
     "output_type": "execute_result"
    }
   ],
   "source": [
    "# Quanto é esse valor, em porcentagem, em relaçao ao dataset original do ENEM 2022?\n",
    "# Se for ver nos outros arquivos, o número total de candidatos é 2.467.086\n",
    "TAMANHO_TOTAL = 2467086\n",
    "tamanho_novo  = df.dropna().shape[0]\n",
    "100 * tamanho_novo / TAMANHO_TOTAL"
   ]
  },
  {
   "cell_type": "code",
   "execution_count": 10,
   "metadata": {},
   "outputs": [],
   "source": [
    "# Retirando o NU_INSCRICAO, pois foi usado somente para juntar os datasets\n",
    "df.drop(\"NU_INSCRICAO\", axis=1, inplace=True)"
   ]
  },
  {
   "cell_type": "markdown",
   "metadata": {},
   "source": [
    "Juntando os datasets, temos apenas 0,88% dos dados originais do ENEM 2022. Isso significa que a amostra que estamos lidando é de 0,88% da população total (onde a população são os participantes do ENEM 2022). Embora seja um valor relativamente baixo, ainda é possível fazer boas análises, contanto que essa amostra seja representativa. "
   ]
  },
  {
   "cell_type": "markdown",
   "metadata": {},
   "source": [
    "## Train/Test Split e Feature Scaling"
   ]
  },
  {
   "cell_type": "code",
   "execution_count": 11,
   "metadata": {},
   "outputs": [
    {
     "data": {
      "text/plain": [
       "<Axes: xlabel='NOTA_TOTAL', ylabel='Count'>"
      ]
     },
     "execution_count": 11,
     "metadata": {},
     "output_type": "execute_result"
    },
    {
     "data": {
      "image/png": "[encoded data removed]",
      "text/plain": [
       "<Figure size 640x480 with 1 Axes>"
      ]
     },
     "metadata": {},
     "output_type": "display_data"
    }
   ],
   "source": [
    "# Proporção das notas\n",
    "import seaborn as sns\n",
    "sns.histplot(x=df[\"NOTA_TOTAL\"], binwidth=100)"
   ]
  },
  {
   "cell_type": "code",
   "execution_count": 12,
   "metadata": {},
   "outputs": [
    {
     "data": {
      "text/plain": [
       "0        7\n",
       "1        4\n",
       "2        5\n",
       "3        3\n",
       "4        4\n",
       "        ..\n",
       "21818    6\n",
       "21819    5\n",
       "21820    4\n",
       "21821    3\n",
       "21822    5\n",
       "Name: NOTA_TOTAL, Length: 21823, dtype: int64"
      ]
     },
     "execution_count": 12,
     "metadata": {},
     "output_type": "execute_result"
    }
   ],
   "source": [
    "# Para garantir que os datasets de treino e teste sigam essa proporção, é interessante criar um parâmetro auxiliar\n",
    "# O parâmetro irá controlar em qual faixa a nota se encontra (0-100, 100-200, ...)\n",
    "from math import floor\n",
    "faixa = 100\n",
    "auxiliar = np.floor(df[\"NOTA_TOTAL\"] / faixa).astype(int)\n",
    "auxiliar"
   ]
  },
  {
   "cell_type": "code",
   "execution_count": 13,
   "metadata": {},
   "outputs": [],
   "source": [
    "# Fazendo split de treino/teste\n",
    "from sklearn.model_selection import train_test_split\n",
    "X = df.drop(\"NOTA_TOTAL\", axis=1)\n",
    "Y = df[\"NOTA_TOTAL\"]\n",
    "X_train, X_test, y_train, y_test = train_test_split(X, Y, test_size=0.2, shuffle=True, stratify=auxiliar)"
   ]
  },
  {
   "cell_type": "code",
   "execution_count": 14,
   "metadata": {},
   "outputs": [
    {
     "data": {
      "text/plain": [
       "<Axes: xlabel='NOTA_TOTAL', ylabel='Count'>"
      ]
     },
     "execution_count": 14,
     "metadata": {},
     "output_type": "execute_result"
    },
    {
     "data": {
      "image/png": "[encoded data removed]",
      "text/plain": [
       "<Figure size 640x480 with 1 Axes>"
      ]
     },
     "metadata": {},
     "output_type": "display_data"
    }
   ],
   "source": [
    "# Teste\n",
    "import seaborn as sns\n",
    "sns.histplot(x=y_test, binwidth=100)"
   ]
  },
  {
   "cell_type": "code",
   "execution_count": 15,
   "metadata": {},
   "outputs": [
    {
     "data": {
      "text/plain": [
       "<Axes: xlabel='NOTA_TOTAL', ylabel='Count'>"
      ]
     },
     "execution_count": 15,
     "metadata": {},
     "output_type": "execute_result"
    },
    {
     "data": {
      "image/png": "[encoded data removed]",
      "text/plain": [
       "<Figure size 640x480 with 1 Axes>"
      ]
     },
     "metadata": {},
     "output_type": "display_data"
    }
   ],
   "source": [
    "# Treino\n",
    "import seaborn as sns\n",
    "sns.histplot(x=y_train, binwidth=100)"
   ]
  },
  {
   "cell_type": "code",
   "execution_count": 16,
   "metadata": {},
   "outputs": [
    {
     "data": {
      "text/html": [
       "<div>\n",
       "<style scoped>\n",
       "    .dataframe tbody tr th:only-of-type {\n",
       "        vertical-align: middle;\n",
       "    }\n",
       "\n",
       "    .dataframe tbody tr th {\n",
       "        vertical-align: top;\n",
       "    }\n",
       "\n",
       "    .dataframe thead th {\n",
       "        text-align: right;\n",
       "    }\n",
       "</style>\n",
       "<table border=\"1\" class=\"dataframe\">\n",
       "  <thead>\n",
       "    <tr style=\"text-align: right;\">\n",
       "      <th></th>\n",
       "      <th>TP_FAIXA_ETARIA</th>\n",
       "      <th>TP_SEXO</th>\n",
       "      <th>TP_ESCOLA</th>\n",
       "      <th>TP_ENSINO</th>\n",
       "      <th>FAIXA_SALARIAL</th>\n",
       "      <th>RACA_AMARELA</th>\n",
       "      <th>RACA_BRANCA</th>\n",
       "      <th>RACA_INDIGENA</th>\n",
       "      <th>RACA_PARDA</th>\n",
       "      <th>RACA_PRETA</th>\n",
       "      <th>...</th>\n",
       "      <th>PANDEMIA_GESTAO</th>\n",
       "      <th>PANDEMIA_PRATICAS</th>\n",
       "      <th>GESTAO</th>\n",
       "      <th>PRATICAS</th>\n",
       "      <th>Q025</th>\n",
       "      <th>Q026</th>\n",
       "      <th>Q028</th>\n",
       "      <th>Q030</th>\n",
       "      <th>Q032</th>\n",
       "      <th>Q033</th>\n",
       "    </tr>\n",
       "  </thead>\n",
       "  <tbody>\n",
       "    <tr>\n",
       "      <th>0</th>\n",
       "      <td>0.052632</td>\n",
       "      <td>0.0</td>\n",
       "      <td>1.0</td>\n",
       "      <td>0.0</td>\n",
       "      <td>0.0625</td>\n",
       "      <td>0.0</td>\n",
       "      <td>0.0</td>\n",
       "      <td>0.0</td>\n",
       "      <td>1.0</td>\n",
       "      <td>0.0</td>\n",
       "      <td>...</td>\n",
       "      <td>0.416667</td>\n",
       "      <td>0.416667</td>\n",
       "      <td>0.500000</td>\n",
       "      <td>0.500000</td>\n",
       "      <td>1.0</td>\n",
       "      <td>1.0</td>\n",
       "      <td>0.117647</td>\n",
       "      <td>1.0</td>\n",
       "      <td>0.0</td>\n",
       "      <td>0.0</td>\n",
       "    </tr>\n",
       "    <tr>\n",
       "      <th>1</th>\n",
       "      <td>0.052632</td>\n",
       "      <td>0.0</td>\n",
       "      <td>0.0</td>\n",
       "      <td>0.0</td>\n",
       "      <td>0.2500</td>\n",
       "      <td>0.0</td>\n",
       "      <td>1.0</td>\n",
       "      <td>0.0</td>\n",
       "      <td>0.0</td>\n",
       "      <td>0.0</td>\n",
       "      <td>...</td>\n",
       "      <td>0.833333</td>\n",
       "      <td>0.527778</td>\n",
       "      <td>0.333333</td>\n",
       "      <td>0.666667</td>\n",
       "      <td>1.0</td>\n",
       "      <td>1.0</td>\n",
       "      <td>0.529412</td>\n",
       "      <td>1.0</td>\n",
       "      <td>1.0</td>\n",
       "      <td>0.0</td>\n",
       "    </tr>\n",
       "    <tr>\n",
       "      <th>2</th>\n",
       "      <td>0.157895</td>\n",
       "      <td>1.0</td>\n",
       "      <td>1.0</td>\n",
       "      <td>0.0</td>\n",
       "      <td>0.1875</td>\n",
       "      <td>0.0</td>\n",
       "      <td>1.0</td>\n",
       "      <td>0.0</td>\n",
       "      <td>0.0</td>\n",
       "      <td>0.0</td>\n",
       "      <td>...</td>\n",
       "      <td>0.000000</td>\n",
       "      <td>0.000000</td>\n",
       "      <td>0.000000</td>\n",
       "      <td>0.000000</td>\n",
       "      <td>0.0</td>\n",
       "      <td>0.0</td>\n",
       "      <td>0.000000</td>\n",
       "      <td>0.0</td>\n",
       "      <td>0.0</td>\n",
       "      <td>1.0</td>\n",
       "    </tr>\n",
       "    <tr>\n",
       "      <th>3</th>\n",
       "      <td>0.105263</td>\n",
       "      <td>0.0</td>\n",
       "      <td>1.0</td>\n",
       "      <td>0.0</td>\n",
       "      <td>0.0000</td>\n",
       "      <td>0.0</td>\n",
       "      <td>0.0</td>\n",
       "      <td>0.0</td>\n",
       "      <td>1.0</td>\n",
       "      <td>0.0</td>\n",
       "      <td>...</td>\n",
       "      <td>0.083333</td>\n",
       "      <td>0.333333</td>\n",
       "      <td>0.333333</td>\n",
       "      <td>0.666667</td>\n",
       "      <td>0.0</td>\n",
       "      <td>0.0</td>\n",
       "      <td>0.117647</td>\n",
       "      <td>0.0</td>\n",
       "      <td>0.0</td>\n",
       "      <td>1.0</td>\n",
       "    </tr>\n",
       "    <tr>\n",
       "      <th>4</th>\n",
       "      <td>0.105263</td>\n",
       "      <td>0.0</td>\n",
       "      <td>1.0</td>\n",
       "      <td>0.0</td>\n",
       "      <td>0.2500</td>\n",
       "      <td>0.0</td>\n",
       "      <td>0.0</td>\n",
       "      <td>0.0</td>\n",
       "      <td>0.0</td>\n",
       "      <td>1.0</td>\n",
       "      <td>...</td>\n",
       "      <td>0.500000</td>\n",
       "      <td>0.388889</td>\n",
       "      <td>0.666667</td>\n",
       "      <td>0.500000</td>\n",
       "      <td>0.0</td>\n",
       "      <td>1.0</td>\n",
       "      <td>0.000000</td>\n",
       "      <td>0.0</td>\n",
       "      <td>1.0</td>\n",
       "      <td>1.0</td>\n",
       "    </tr>\n",
       "    <tr>\n",
       "      <th>...</th>\n",
       "      <td>...</td>\n",
       "      <td>...</td>\n",
       "      <td>...</td>\n",
       "      <td>...</td>\n",
       "      <td>...</td>\n",
       "      <td>...</td>\n",
       "      <td>...</td>\n",
       "      <td>...</td>\n",
       "      <td>...</td>\n",
       "      <td>...</td>\n",
       "      <td>...</td>\n",
       "      <td>...</td>\n",
       "      <td>...</td>\n",
       "      <td>...</td>\n",
       "      <td>...</td>\n",
       "      <td>...</td>\n",
       "      <td>...</td>\n",
       "      <td>...</td>\n",
       "      <td>...</td>\n",
       "      <td>...</td>\n",
       "      <td>...</td>\n",
       "    </tr>\n",
       "    <tr>\n",
       "      <th>4360</th>\n",
       "      <td>0.052632</td>\n",
       "      <td>0.0</td>\n",
       "      <td>1.0</td>\n",
       "      <td>0.0</td>\n",
       "      <td>0.4375</td>\n",
       "      <td>0.0</td>\n",
       "      <td>1.0</td>\n",
       "      <td>0.0</td>\n",
       "      <td>0.0</td>\n",
       "      <td>0.0</td>\n",
       "      <td>...</td>\n",
       "      <td>0.333333</td>\n",
       "      <td>0.305556</td>\n",
       "      <td>0.166667</td>\n",
       "      <td>0.166667</td>\n",
       "      <td>1.0</td>\n",
       "      <td>1.0</td>\n",
       "      <td>0.176471</td>\n",
       "      <td>0.0</td>\n",
       "      <td>0.0</td>\n",
       "      <td>1.0</td>\n",
       "    </tr>\n",
       "    <tr>\n",
       "      <th>4361</th>\n",
       "      <td>0.157895</td>\n",
       "      <td>1.0</td>\n",
       "      <td>1.0</td>\n",
       "      <td>0.0</td>\n",
       "      <td>0.3750</td>\n",
       "      <td>0.0</td>\n",
       "      <td>0.0</td>\n",
       "      <td>0.0</td>\n",
       "      <td>0.0</td>\n",
       "      <td>1.0</td>\n",
       "      <td>...</td>\n",
       "      <td>0.333333</td>\n",
       "      <td>0.388889</td>\n",
       "      <td>0.166667</td>\n",
       "      <td>0.166667</td>\n",
       "      <td>0.0</td>\n",
       "      <td>1.0</td>\n",
       "      <td>0.058824</td>\n",
       "      <td>1.0</td>\n",
       "      <td>1.0</td>\n",
       "      <td>1.0</td>\n",
       "    </tr>\n",
       "    <tr>\n",
       "      <th>4362</th>\n",
       "      <td>0.157895</td>\n",
       "      <td>0.0</td>\n",
       "      <td>1.0</td>\n",
       "      <td>0.0</td>\n",
       "      <td>0.0625</td>\n",
       "      <td>0.0</td>\n",
       "      <td>1.0</td>\n",
       "      <td>0.0</td>\n",
       "      <td>0.0</td>\n",
       "      <td>0.0</td>\n",
       "      <td>...</td>\n",
       "      <td>0.416667</td>\n",
       "      <td>0.333333</td>\n",
       "      <td>0.333333</td>\n",
       "      <td>0.333333</td>\n",
       "      <td>1.0</td>\n",
       "      <td>0.0</td>\n",
       "      <td>0.058824</td>\n",
       "      <td>0.0</td>\n",
       "      <td>1.0</td>\n",
       "      <td>1.0</td>\n",
       "    </tr>\n",
       "    <tr>\n",
       "      <th>4363</th>\n",
       "      <td>0.052632</td>\n",
       "      <td>0.0</td>\n",
       "      <td>0.0</td>\n",
       "      <td>0.0</td>\n",
       "      <td>0.1875</td>\n",
       "      <td>0.0</td>\n",
       "      <td>1.0</td>\n",
       "      <td>0.0</td>\n",
       "      <td>0.0</td>\n",
       "      <td>0.0</td>\n",
       "      <td>...</td>\n",
       "      <td>0.333333</td>\n",
       "      <td>0.194444</td>\n",
       "      <td>0.333333</td>\n",
       "      <td>0.333333</td>\n",
       "      <td>1.0</td>\n",
       "      <td>1.0</td>\n",
       "      <td>0.411765</td>\n",
       "      <td>0.0</td>\n",
       "      <td>1.0</td>\n",
       "      <td>1.0</td>\n",
       "    </tr>\n",
       "    <tr>\n",
       "      <th>4364</th>\n",
       "      <td>0.052632</td>\n",
       "      <td>0.0</td>\n",
       "      <td>1.0</td>\n",
       "      <td>0.0</td>\n",
       "      <td>0.2500</td>\n",
       "      <td>0.0</td>\n",
       "      <td>0.0</td>\n",
       "      <td>0.0</td>\n",
       "      <td>0.0</td>\n",
       "      <td>1.0</td>\n",
       "      <td>...</td>\n",
       "      <td>0.666667</td>\n",
       "      <td>0.666667</td>\n",
       "      <td>0.666667</td>\n",
       "      <td>0.666667</td>\n",
       "      <td>1.0</td>\n",
       "      <td>1.0</td>\n",
       "      <td>0.058824</td>\n",
       "      <td>1.0</td>\n",
       "      <td>1.0</td>\n",
       "      <td>1.0</td>\n",
       "    </tr>\n",
       "  </tbody>\n",
       "</table>\n",
       "<p>4365 rows × 34 columns</p>\n",
       "</div>"
      ],
      "text/plain": [
       "      TP_FAIXA_ETARIA  TP_SEXO  TP_ESCOLA  TP_ENSINO  FAIXA_SALARIAL   \n",
       "0            0.052632      0.0        1.0        0.0          0.0625  \\\n",
       "1            0.052632      0.0        0.0        0.0          0.2500   \n",
       "2            0.157895      1.0        1.0        0.0          0.1875   \n",
       "3            0.105263      0.0        1.0        0.0          0.0000   \n",
       "4            0.105263      0.0        1.0        0.0          0.2500   \n",
       "...               ...      ...        ...        ...             ...   \n",
       "4360         0.052632      0.0        1.0        0.0          0.4375   \n",
       "4361         0.157895      1.0        1.0        0.0          0.3750   \n",
       "4362         0.157895      0.0        1.0        0.0          0.0625   \n",
       "4363         0.052632      0.0        0.0        0.0          0.1875   \n",
       "4364         0.052632      0.0        1.0        0.0          0.2500   \n",
       "\n",
       "      RACA_AMARELA  RACA_BRANCA  RACA_INDIGENA  RACA_PARDA  RACA_PRETA  ...   \n",
       "0              0.0          0.0            0.0         1.0         0.0  ...  \\\n",
       "1              0.0          1.0            0.0         0.0         0.0  ...   \n",
       "2              0.0          1.0            0.0         0.0         0.0  ...   \n",
       "3              0.0          0.0            0.0         1.0         0.0  ...   \n",
       "4              0.0          0.0            0.0         0.0         1.0  ...   \n",
       "...            ...          ...            ...         ...         ...  ...   \n",
       "4360           0.0          1.0            0.0         0.0         0.0  ...   \n",
       "4361           0.0          0.0            0.0         0.0         1.0  ...   \n",
       "4362           0.0          1.0            0.0         0.0         0.0  ...   \n",
       "4363           0.0          1.0            0.0         0.0         0.0  ...   \n",
       "4364           0.0          0.0            0.0         0.0         1.0  ...   \n",
       "\n",
       "      PANDEMIA_GESTAO  PANDEMIA_PRATICAS    GESTAO  PRATICAS  Q025  Q026   \n",
       "0            0.416667           0.416667  0.500000  0.500000   1.0   1.0  \\\n",
       "1            0.833333           0.527778  0.333333  0.666667   1.0   1.0   \n",
       "2            0.000000           0.000000  0.000000  0.000000   0.0   0.0   \n",
       "3            0.083333           0.333333  0.333333  0.666667   0.0   0.0   \n",
       "4            0.500000           0.388889  0.666667  0.500000   0.0   1.0   \n",
       "...               ...                ...       ...       ...   ...   ...   \n",
       "4360         0.333333           0.305556  0.166667  0.166667   1.0   1.0   \n",
       "4361         0.333333           0.388889  0.166667  0.166667   0.0   1.0   \n",
       "4362         0.416667           0.333333  0.333333  0.333333   1.0   0.0   \n",
       "4363         0.333333           0.194444  0.333333  0.333333   1.0   1.0   \n",
       "4364         0.666667           0.666667  0.666667  0.666667   1.0   1.0   \n",
       "\n",
       "          Q028  Q030  Q032  Q033  \n",
       "0     0.117647   1.0   0.0   0.0  \n",
       "1     0.529412   1.0   1.0   0.0  \n",
       "2     0.000000   0.0   0.0   1.0  \n",
       "3     0.117647   0.0   0.0   1.0  \n",
       "4     0.000000   0.0   1.0   1.0  \n",
       "...        ...   ...   ...   ...  \n",
       "4360  0.176471   0.0   0.0   1.0  \n",
       "4361  0.058824   1.0   1.0   1.0  \n",
       "4362  0.058824   0.0   1.0   1.0  \n",
       "4363  0.411765   0.0   1.0   1.0  \n",
       "4364  0.058824   1.0   1.0   1.0  \n",
       "\n",
       "[4365 rows x 34 columns]"
      ]
     },
     "execution_count": 16,
     "metadata": {},
     "output_type": "execute_result"
    }
   ],
   "source": [
    "# Fazendo MinMaxScaling para garantir que todas as variáveis estão na mesma escala\n",
    "# Será guardado em variáveis à parte, já que nem todos os modelos precisam\n",
    "from sklearn.preprocessing import MinMaxScaler\n",
    "scaler = MinMaxScaler()\n",
    "X_train_scaled = pd.DataFrame(data=scaler.fit_transform(X_train), columns=X_train.columns)\n",
    "X_test_scaled = pd.DataFrame(data=scaler.fit_transform(X_test), columns=X_test.columns)\n",
    "X_test_scaled"
   ]
  },
  {
   "cell_type": "markdown",
   "metadata": {},
   "source": [
    "## Testando modelo de Regressão Linear"
   ]
  },
  {
   "cell_type": "markdown",
   "metadata": {},
   "source": [
    "### Desempenho do modelo nos dados de treino"
   ]
  },
  {
   "cell_type": "code",
   "execution_count": 17,
   "metadata": {},
   "outputs": [
    {
     "data": {
      "text/plain": [
       "0.30104789132459886"
      ]
     },
     "execution_count": 17,
     "metadata": {},
     "output_type": "execute_result"
    }
   ],
   "source": [
    "from sklearn.linear_model import LinearRegression\n",
    "reg = LinearRegression().fit(X_train_scaled, y_train)\n",
    "reg.score(X_test_scaled, y_test)"
   ]
  },
  {
   "cell_type": "markdown",
   "metadata": {},
   "source": [
    "O baixo score é de certa forma uma notícia boa. Isso significa que saber apenas saber sobre a situação socioeconômica do participante não é o suficiente para prever se o candidato foi bem ou não na prova do ENEM. Portanto, isso trás evidências de que o ENEM de fato está testando a inteligência do candidato.<br><br>\n",
    "Entretanto, só porque o modelo de Regressão Linear não teve um bom desempenho, não quer dizer que outros modelos também não terão. "
   ]
  },
  {
   "cell_type": "markdown",
   "metadata": {},
   "source": [
    "### Variáveis relevantes"
   ]
  },
  {
   "cell_type": "code",
   "execution_count": 18,
   "metadata": {},
   "outputs": [
    {
     "name": "stdout",
     "output_type": "stream",
     "text": [
      "TP_FAIXA_ETARIA: -119.83554823978243\n",
      "TP_SEXO: 3.664055975311882\n",
      "TP_ESCOLA: -46.77172395183064\n",
      "TP_ENSINO: -34.374609336449765\n",
      "FAIXA_SALARIAL: 90.96231181430257\n",
      "RACA_AMARELA: -74756073989660.89\n",
      "RACA_BRANCA: -74756073989644.7\n",
      "RACA_INDIGENA: -74756073989664.06\n",
      "RACA_PARDA: -74756073989657.92\n",
      "RACA_PRETA: -74756073989658.61\n",
      "NACIONALIDADE_1.0: -51007273684994.03\n",
      "NACIONALIDADE_2.0: -51007273685007.91\n",
      "NACIONALIDADE_3.0: -51007273685021.555\n",
      "NACIONALIDADE_4.0: -51007273684983.2\n",
      "REGIAO_CENTRO-OESTE: 323716188168353.2\n",
      "REGIAO_NORDESTE: 323716188168359.1\n",
      "REGIAO_NORTE: 323716188168354.3\n",
      "REGIAO_SUDESTE: 323716188168363.06\n",
      "REGIAO_SUL: 323716188168355.94\n",
      "Q001: 23.514385734252357\n",
      "Q002: -2.3566179558239226\n",
      "Q003: 52.22778674593473\n",
      "Q004: 11.374728317407799\n",
      "Q034: -3.6299382889527267\n",
      "PANDEMIA_GESTAO: 38.91062936151071\n",
      "PANDEMIA_PRATICAS: -5.391207315279621\n",
      "GESTAO: 18.407300526578354\n",
      "PRATICAS: -28.912384438662375\n",
      "Q025: 6.212889849856707\n",
      "Q026: 6.569412578083443\n",
      "Q028: 111.17868105543991\n",
      "Q030: 14.16523276823258\n",
      "Q032: -3.5778006914780103\n",
      "Q033: 2.528908434674613\n"
     ]
    }
   ],
   "source": [
    "for feature, coef in zip(X.columns, reg.coef_):\n",
    "    print(f\"{feature}: {coef}\")"
   ]
  },
  {
   "cell_type": "markdown",
   "metadata": {},
   "source": [
    "## Testando modelo de RandomForest"
   ]
  },
  {
   "cell_type": "markdown",
   "metadata": {},
   "source": [
    "### Desempenho do modelo nos dados de treino"
   ]
  },
  {
   "cell_type": "code",
   "execution_count": 19,
   "metadata": {},
   "outputs": [
    {
     "data": {
      "text/plain": [
       "0.2830769429017498"
      ]
     },
     "execution_count": 19,
     "metadata": {},
     "output_type": "execute_result"
    }
   ],
   "source": [
    "from sklearn.ensemble import RandomForestRegressor\n",
    "regr = RandomForestRegressor().fit(X_train, y_train)\n",
    "regr.score(X_test, y_test)"
   ]
  },
  {
   "cell_type": "markdown",
   "metadata": {},
   "source": [
    "Assim como no modelo de regressão linear, o RandomForest também teve um baixo desepenho, trazendo mais evidências de que as variáveis socioeconômicas sozinhas não são capazes de prever o desepenho do aluno no ENEM."
   ]
  },
  {
   "cell_type": "markdown",
   "metadata": {},
   "source": [
    "### Variáveis Relevantes"
   ]
  },
  {
   "cell_type": "code",
   "execution_count": 30,
   "metadata": {},
   "outputs": [
    {
     "name": "stdout",
     "output_type": "stream",
     "text": [
      "Q028: 0.14118796866479297\n",
      "PANDEMIA_PRATICAS: 0.10265779740616263\n",
      "TP_ESCOLA: 0.08800201948447971\n",
      "FAIXA_SALARIAL: 0.08727318962791188\n",
      "PANDEMIA_GESTAO: 0.07564323239333963\n",
      "GESTAO: 0.05426865785622852\n",
      "PRATICAS: 0.04774179869113509\n",
      "TP_FAIXA_ETARIA: 0.044771120641278785\n",
      "Q034: 0.03939207871609724\n",
      "Q003: 0.029929221487374622\n",
      "Q004: 0.029374830956015584\n",
      "Q001: 0.02255240260721248\n",
      "TP_SEXO: 0.0211706990251354\n",
      "Q025: 0.019671197021828762\n",
      "Q033: 0.01910926186363284\n",
      "Q032: 0.01885327734770358\n",
      "Q030: 0.01880312440005697\n",
      "Q026: 0.01788907091580497\n",
      "REGIAO_NORDESTE: 0.015569396848899018\n",
      "RACA_BRANCA: 0.015031657407672455\n",
      "REGIAO_SUDESTE: 0.014965152821356721\n",
      "RACA_PARDA: 0.013360919201483974\n",
      "REGIAO_NORTE: 0.011172336769523606\n",
      "REGIAO_CENTRO-OESTE: 0.010298712026658108\n",
      "RACA_PRETA: 0.009510577828616477\n",
      "Q002: 0.009035450461567927\n",
      "REGIAO_SUL: 0.008507113552307854\n",
      "RACA_AMARELA: 0.00416115807478639\n",
      "NACIONALIDADE_1.0: 0.0030911178454996065\n",
      "NACIONALIDADE_2.0: 0.0029122172191349467\n",
      "TP_ENSINO: 0.0022339875330879234\n",
      "RACA_INDIGENA: 0.0012547716499458782\n",
      "NACIONALIDADE_3.0: 0.00035901378981950563\n",
      "NACIONALIDADE_4.0: 0.00024546786344781826\n"
     ]
    }
   ],
   "source": [
    "features = list(zip(regr.feature_importances_, X_train.columns))\n",
    "features.sort(reverse=True)\n",
    "for feature in features:\n",
    "    print(f\"{feature[1]}: {feature[0]}\")"
   ]
  },
  {
   "cell_type": "code",
   "execution_count": 31,
   "metadata": {},
   "outputs": [
    {
     "data": {
      "text/plain": [
       "34"
      ]
     },
     "execution_count": 31,
     "metadata": {},
     "output_type": "execute_result"
    }
   ],
   "source": [
    "len(X.columns)"
   ]
  },
  {
   "cell_type": "code",
   "execution_count": null,
   "metadata": {},
   "outputs": [],
   "source": []
  }
 ],
 "metadata": {
  "kernelspec": {
   "display_name": "Python 3",
   "language": "python",
   "name": "python3"
  },
  "language_info": {
   "codemirror_mode": {
    "name": "ipython",
    "version": 3
   },
   "file_extension": ".py",
   "mimetype": "text/x-python",
   "name": "python",
   "nbconvert_exporter": "python",
   "pygments_lexer": "ipython3",
   "version": "3.10.12"
  },
  "orig_nbformat": 4
 },
 "nbformat": 4,
 "nbformat_minor": 2
}
