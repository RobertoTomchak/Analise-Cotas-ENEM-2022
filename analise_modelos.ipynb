{
 "cells": [
  {
   "cell_type": "markdown",
   "metadata": {},
   "source": [
    "# Prevendo Notas do ENEM"
   ]
  },
  {
   "cell_type": "markdown",
   "metadata": {},
   "source": [
    "O objetivo dessa análise é desenvolver um modelo que seja capaz de prever a nota no ENEM de um participante, baseado em dados socioeconômicos sobre ele.\n",
    "<br><br>\n",
    "O objetivo é que, a partir dessas previsões, a gente consiga analisar quais variáveis possuem maior impacto na previsão, o que pode ajudar a avaliar a necessidade do sistema de cotas.\n",
    "<br><br>\n",
    "Iremos julgar como injustiça um parâmetro que supostamente não deveria ser relevante para decidir a nota do participante, mas que o modelo julgou como relevante."
   ]
  },
  {
   "cell_type": "markdown",
   "metadata": {},
   "source": [
    "## Baixando dados"
   ]
  },
  {
   "cell_type": "markdown",
   "metadata": {},
   "source": [
    "Os dados originais do ENEM 2022 já foram tratados para o modelo nos arquivos de tratamento.\n",
    "<br><br>\n",
    "Agora, os datasets de microdados e hábitos de estudo serão juntados, usando o código de inscrição dos participantes."
   ]
  },
  {
   "cell_type": "code",
   "execution_count": 21,
   "metadata": {},
   "outputs": [],
   "source": [
    "# Bibliotecas importantes\n",
    "import pandas as pd\n",
    "import numpy as np\n",
    "import seaborn as sns"
   ]
  },
  {
   "cell_type": "code",
   "execution_count": 22,
   "metadata": {},
   "outputs": [],
   "source": [
    "df_microdados = pd.read_csv(\"microdados_tratado.csv\")\n",
    "df_estudo = pd.read_csv(\"habitos_estudo_tratado.csv\")"
   ]
  },
  {
   "cell_type": "code",
   "execution_count": 23,
   "metadata": {},
   "outputs": [
    {
     "name": "stdout",
     "output_type": "stream",
     "text": [
      "Tamanho Microdados: 669781\n",
      "Tamanho Hábitos Estudo: 78241\n"
     ]
    }
   ],
   "source": [
    "# Tamanho dos datasets originais\n",
    "print(f\"Tamanho Microdados: {len(df_microdados)}\")\n",
    "print(f\"Tamanho Hábitos Estudo: {len(df_estudo)}\")"
   ]
  },
  {
   "cell_type": "code",
   "execution_count": 24,
   "metadata": {},
   "outputs": [
    {
     "data": {
      "text/html": [
       "<div>\n",
       "<style scoped>\n",
       "    .dataframe tbody tr th:only-of-type {\n",
       "        vertical-align: middle;\n",
       "    }\n",
       "\n",
       "    .dataframe tbody tr th {\n",
       "        vertical-align: top;\n",
       "    }\n",
       "\n",
       "    .dataframe thead th {\n",
       "        text-align: right;\n",
       "    }\n",
       "</style>\n",
       "<table border=\"1\" class=\"dataframe\">\n",
       "  <thead>\n",
       "    <tr style=\"text-align: right;\">\n",
       "      <th></th>\n",
       "      <th>NU_INSCRICAO</th>\n",
       "      <th>TP_FAIXA_ETARIA</th>\n",
       "      <th>TP_SEXO</th>\n",
       "      <th>TP_ESCOLA</th>\n",
       "      <th>TP_ENSINO</th>\n",
       "      <th>Q006</th>\n",
       "      <th>COR_RACA_1.0</th>\n",
       "      <th>COR_RACA_2.0</th>\n",
       "      <th>COR_RACA_3.0</th>\n",
       "      <th>COR_RACA_4.0</th>\n",
       "      <th>...</th>\n",
       "      <th>PANDEMIA_GESTAO</th>\n",
       "      <th>PANDEMIA_PRATICAS</th>\n",
       "      <th>GESTAO</th>\n",
       "      <th>PRATICAS</th>\n",
       "      <th>Q025</th>\n",
       "      <th>Q026</th>\n",
       "      <th>Q028</th>\n",
       "      <th>Q030</th>\n",
       "      <th>Q032</th>\n",
       "      <th>Q033</th>\n",
       "    </tr>\n",
       "  </thead>\n",
       "  <tbody>\n",
       "    <tr>\n",
       "      <th>0</th>\n",
       "      <td>210056012033</td>\n",
       "      <td>3</td>\n",
       "      <td>0</td>\n",
       "      <td>1.0</td>\n",
       "      <td>0.0</td>\n",
       "      <td>5</td>\n",
       "      <td>True</td>\n",
       "      <td>False</td>\n",
       "      <td>False</td>\n",
       "      <td>False</td>\n",
       "      <td>...</td>\n",
       "      <td>2.25</td>\n",
       "      <td>1.583333</td>\n",
       "      <td>1.0</td>\n",
       "      <td>1.0</td>\n",
       "      <td>2</td>\n",
       "      <td>2</td>\n",
       "      <td>4</td>\n",
       "      <td>2</td>\n",
       "      <td>2</td>\n",
       "      <td>2</td>\n",
       "    </tr>\n",
       "    <tr>\n",
       "      <th>1</th>\n",
       "      <td>210057478691</td>\n",
       "      <td>3</td>\n",
       "      <td>0</td>\n",
       "      <td>1.0</td>\n",
       "      <td>0.0</td>\n",
       "      <td>1</td>\n",
       "      <td>False</td>\n",
       "      <td>False</td>\n",
       "      <td>True</td>\n",
       "      <td>False</td>\n",
       "      <td>...</td>\n",
       "      <td>1.50</td>\n",
       "      <td>1.500000</td>\n",
       "      <td>0.0</td>\n",
       "      <td>0.5</td>\n",
       "      <td>2</td>\n",
       "      <td>2</td>\n",
       "      <td>6</td>\n",
       "      <td>2</td>\n",
       "      <td>2</td>\n",
       "      <td>2</td>\n",
       "    </tr>\n",
       "    <tr>\n",
       "      <th>2</th>\n",
       "      <td>210056688095</td>\n",
       "      <td>4</td>\n",
       "      <td>1</td>\n",
       "      <td>1.0</td>\n",
       "      <td>0.0</td>\n",
       "      <td>2</td>\n",
       "      <td>False</td>\n",
       "      <td>True</td>\n",
       "      <td>False</td>\n",
       "      <td>False</td>\n",
       "      <td>...</td>\n",
       "      <td>1.00</td>\n",
       "      <td>1.000000</td>\n",
       "      <td>1.0</td>\n",
       "      <td>1.0</td>\n",
       "      <td>2</td>\n",
       "      <td>1</td>\n",
       "      <td>1</td>\n",
       "      <td>1</td>\n",
       "      <td>1</td>\n",
       "      <td>1</td>\n",
       "    </tr>\n",
       "    <tr>\n",
       "      <th>3</th>\n",
       "      <td>210057511905</td>\n",
       "      <td>3</td>\n",
       "      <td>0</td>\n",
       "      <td>1.0</td>\n",
       "      <td>0.0</td>\n",
       "      <td>1</td>\n",
       "      <td>False</td>\n",
       "      <td>False</td>\n",
       "      <td>True</td>\n",
       "      <td>False</td>\n",
       "      <td>...</td>\n",
       "      <td>1.25</td>\n",
       "      <td>1.583333</td>\n",
       "      <td>2.0</td>\n",
       "      <td>2.0</td>\n",
       "      <td>1</td>\n",
       "      <td>1</td>\n",
       "      <td>1</td>\n",
       "      <td>1</td>\n",
       "      <td>1</td>\n",
       "      <td>1</td>\n",
       "    </tr>\n",
       "    <tr>\n",
       "      <th>4</th>\n",
       "      <td>210057838909</td>\n",
       "      <td>3</td>\n",
       "      <td>0</td>\n",
       "      <td>1.0</td>\n",
       "      <td>0.0</td>\n",
       "      <td>2</td>\n",
       "      <td>False</td>\n",
       "      <td>False</td>\n",
       "      <td>True</td>\n",
       "      <td>False</td>\n",
       "      <td>...</td>\n",
       "      <td>1.00</td>\n",
       "      <td>1.166667</td>\n",
       "      <td>1.0</td>\n",
       "      <td>1.0</td>\n",
       "      <td>2</td>\n",
       "      <td>2</td>\n",
       "      <td>1</td>\n",
       "      <td>1</td>\n",
       "      <td>1</td>\n",
       "      <td>2</td>\n",
       "    </tr>\n",
       "    <tr>\n",
       "      <th>...</th>\n",
       "      <td>...</td>\n",
       "      <td>...</td>\n",
       "      <td>...</td>\n",
       "      <td>...</td>\n",
       "      <td>...</td>\n",
       "      <td>...</td>\n",
       "      <td>...</td>\n",
       "      <td>...</td>\n",
       "      <td>...</td>\n",
       "      <td>...</td>\n",
       "      <td>...</td>\n",
       "      <td>...</td>\n",
       "      <td>...</td>\n",
       "      <td>...</td>\n",
       "      <td>...</td>\n",
       "      <td>...</td>\n",
       "      <td>...</td>\n",
       "      <td>...</td>\n",
       "      <td>...</td>\n",
       "      <td>...</td>\n",
       "      <td>...</td>\n",
       "    </tr>\n",
       "    <tr>\n",
       "      <th>21818</th>\n",
       "      <td>210057405995</td>\n",
       "      <td>3</td>\n",
       "      <td>1</td>\n",
       "      <td>0.0</td>\n",
       "      <td>0.0</td>\n",
       "      <td>5</td>\n",
       "      <td>False</td>\n",
       "      <td>False</td>\n",
       "      <td>True</td>\n",
       "      <td>False</td>\n",
       "      <td>...</td>\n",
       "      <td>1.75</td>\n",
       "      <td>2.166667</td>\n",
       "      <td>1.5</td>\n",
       "      <td>3.0</td>\n",
       "      <td>2</td>\n",
       "      <td>1</td>\n",
       "      <td>1</td>\n",
       "      <td>2</td>\n",
       "      <td>2</td>\n",
       "      <td>2</td>\n",
       "    </tr>\n",
       "    <tr>\n",
       "      <th>21819</th>\n",
       "      <td>210055900340</td>\n",
       "      <td>2</td>\n",
       "      <td>1</td>\n",
       "      <td>0.0</td>\n",
       "      <td>0.0</td>\n",
       "      <td>9</td>\n",
       "      <td>False</td>\n",
       "      <td>False</td>\n",
       "      <td>True</td>\n",
       "      <td>False</td>\n",
       "      <td>...</td>\n",
       "      <td>1.75</td>\n",
       "      <td>1.250000</td>\n",
       "      <td>1.0</td>\n",
       "      <td>1.5</td>\n",
       "      <td>2</td>\n",
       "      <td>2</td>\n",
       "      <td>2</td>\n",
       "      <td>2</td>\n",
       "      <td>2</td>\n",
       "      <td>2</td>\n",
       "    </tr>\n",
       "    <tr>\n",
       "      <th>21820</th>\n",
       "      <td>210054991409</td>\n",
       "      <td>3</td>\n",
       "      <td>1</td>\n",
       "      <td>1.0</td>\n",
       "      <td>0.0</td>\n",
       "      <td>4</td>\n",
       "      <td>True</td>\n",
       "      <td>False</td>\n",
       "      <td>False</td>\n",
       "      <td>False</td>\n",
       "      <td>...</td>\n",
       "      <td>1.00</td>\n",
       "      <td>1.000000</td>\n",
       "      <td>0.0</td>\n",
       "      <td>0.0</td>\n",
       "      <td>2</td>\n",
       "      <td>2</td>\n",
       "      <td>2</td>\n",
       "      <td>1</td>\n",
       "      <td>2</td>\n",
       "      <td>2</td>\n",
       "    </tr>\n",
       "    <tr>\n",
       "      <th>21821</th>\n",
       "      <td>210055081282</td>\n",
       "      <td>6</td>\n",
       "      <td>1</td>\n",
       "      <td>1.0</td>\n",
       "      <td>0.0</td>\n",
       "      <td>2</td>\n",
       "      <td>False</td>\n",
       "      <td>False</td>\n",
       "      <td>True</td>\n",
       "      <td>False</td>\n",
       "      <td>...</td>\n",
       "      <td>0.00</td>\n",
       "      <td>0.000000</td>\n",
       "      <td>0.0</td>\n",
       "      <td>0.0</td>\n",
       "      <td>2</td>\n",
       "      <td>2</td>\n",
       "      <td>2</td>\n",
       "      <td>2</td>\n",
       "      <td>1</td>\n",
       "      <td>1</td>\n",
       "    </tr>\n",
       "    <tr>\n",
       "      <th>21822</th>\n",
       "      <td>210056046873</td>\n",
       "      <td>2</td>\n",
       "      <td>1</td>\n",
       "      <td>1.0</td>\n",
       "      <td>0.0</td>\n",
       "      <td>5</td>\n",
       "      <td>True</td>\n",
       "      <td>False</td>\n",
       "      <td>False</td>\n",
       "      <td>False</td>\n",
       "      <td>...</td>\n",
       "      <td>1.50</td>\n",
       "      <td>1.833333</td>\n",
       "      <td>2.0</td>\n",
       "      <td>1.5</td>\n",
       "      <td>2</td>\n",
       "      <td>1</td>\n",
       "      <td>1</td>\n",
       "      <td>1</td>\n",
       "      <td>1</td>\n",
       "      <td>1</td>\n",
       "    </tr>\n",
       "  </tbody>\n",
       "</table>\n",
       "<p>21823 rows × 36 columns</p>\n",
       "</div>"
      ],
      "text/plain": [
       "       NU_INSCRICAO  TP_FAIXA_ETARIA  TP_SEXO  TP_ESCOLA  TP_ENSINO  Q006   \n",
       "0      210056012033                3        0        1.0        0.0     5  \\\n",
       "1      210057478691                3        0        1.0        0.0     1   \n",
       "2      210056688095                4        1        1.0        0.0     2   \n",
       "3      210057511905                3        0        1.0        0.0     1   \n",
       "4      210057838909                3        0        1.0        0.0     2   \n",
       "...             ...              ...      ...        ...        ...   ...   \n",
       "21818  210057405995                3        1        0.0        0.0     5   \n",
       "21819  210055900340                2        1        0.0        0.0     9   \n",
       "21820  210054991409                3        1        1.0        0.0     4   \n",
       "21821  210055081282                6        1        1.0        0.0     2   \n",
       "21822  210056046873                2        1        1.0        0.0     5   \n",
       "\n",
       "       COR_RACA_1.0  COR_RACA_2.0  COR_RACA_3.0  COR_RACA_4.0  ...   \n",
       "0              True         False         False         False  ...  \\\n",
       "1             False         False          True         False  ...   \n",
       "2             False          True         False         False  ...   \n",
       "3             False         False          True         False  ...   \n",
       "4             False         False          True         False  ...   \n",
       "...             ...           ...           ...           ...  ...   \n",
       "21818         False         False          True         False  ...   \n",
       "21819         False         False          True         False  ...   \n",
       "21820          True         False         False         False  ...   \n",
       "21821         False         False          True         False  ...   \n",
       "21822          True         False         False         False  ...   \n",
       "\n",
       "       PANDEMIA_GESTAO  PANDEMIA_PRATICAS  GESTAO  PRATICAS  Q025  Q026  Q028   \n",
       "0                 2.25           1.583333     1.0       1.0     2     2     4  \\\n",
       "1                 1.50           1.500000     0.0       0.5     2     2     6   \n",
       "2                 1.00           1.000000     1.0       1.0     2     1     1   \n",
       "3                 1.25           1.583333     2.0       2.0     1     1     1   \n",
       "4                 1.00           1.166667     1.0       1.0     2     2     1   \n",
       "...                ...                ...     ...       ...   ...   ...   ...   \n",
       "21818             1.75           2.166667     1.5       3.0     2     1     1   \n",
       "21819             1.75           1.250000     1.0       1.5     2     2     2   \n",
       "21820             1.00           1.000000     0.0       0.0     2     2     2   \n",
       "21821             0.00           0.000000     0.0       0.0     2     2     2   \n",
       "21822             1.50           1.833333     2.0       1.5     2     1     1   \n",
       "\n",
       "       Q030  Q032  Q033  \n",
       "0         2     2     2  \n",
       "1         2     2     2  \n",
       "2         1     1     1  \n",
       "3         1     1     1  \n",
       "4         1     1     2  \n",
       "...     ...   ...   ...  \n",
       "21818     2     2     2  \n",
       "21819     2     2     2  \n",
       "21820     1     2     2  \n",
       "21821     2     1     1  \n",
       "21822     1     1     1  \n",
       "\n",
       "[21823 rows x 36 columns]"
      ]
     },
     "execution_count": 24,
     "metadata": {},
     "output_type": "execute_result"
    }
   ],
   "source": [
    "# Juntando datasets\n",
    "df = pd.merge(df_microdados, df_estudo, on=\"NU_INSCRICAO\")\n",
    "df"
   ]
  },
  {
   "cell_type": "code",
   "execution_count": 25,
   "metadata": {},
   "outputs": [
    {
     "data": {
      "text/plain": [
       "21823"
      ]
     },
     "execution_count": 25,
     "metadata": {},
     "output_type": "execute_result"
    }
   ],
   "source": [
    "# Quantas linhas sobrariam se removessemos NAs?\n",
    "df.dropna().shape[0]"
   ]
  },
  {
   "cell_type": "code",
   "execution_count": 26,
   "metadata": {},
   "outputs": [
    {
     "data": {
      "text/plain": [
       "0.6278003685159108"
      ]
     },
     "execution_count": 26,
     "metadata": {},
     "output_type": "execute_result"
    }
   ],
   "source": [
    "# Quanto é esse valor, em porcentagem, em relaçao ao dataset original do ENEM 2022?\n",
    "# Se for ver nos outros arquivos, o número total de candidatos é 3.476.105\n",
    "TAMANHO_TOTAL = 3476105\n",
    "tamanho_novo  = df.dropna().shape[0]\n",
    "100 * tamanho_novo / TAMANHO_TOTAL"
   ]
  },
  {
   "cell_type": "code",
   "execution_count": 27,
   "metadata": {},
   "outputs": [],
   "source": [
    "# Retirando o NU_INSCRICAO, pois foi usado somente para juntar os datasets\n",
    "df.drop(\"NU_INSCRICAO\", axis=1, inplace=True)"
   ]
  },
  {
   "cell_type": "markdown",
   "metadata": {},
   "source": [
    "Juntando os datasets, temos apenas 0,63% dos dados originais do ENEM 2022. Isso significa que a amostra que estamos lidando é de 0,63% da população total (onde a população são os participantes do ENEM 2022). Embora seja um valor relativamente baixo, ainda é possível fazer boas análises, contanto que essa amostra seja representativa. "
   ]
  },
  {
   "cell_type": "markdown",
   "metadata": {},
   "source": [
    "## Train/Test Split"
   ]
  },
  {
   "cell_type": "code",
   "execution_count": 28,
   "metadata": {},
   "outputs": [
    {
     "data": {
      "text/plain": [
       "<Axes: xlabel='NOTA_FINAL', ylabel='Count'>"
      ]
     },
     "execution_count": 28,
     "metadata": {},
     "output_type": "execute_result"
    },
    {
     "data": {
      "image/png": "[encoded data removed]",
      "text/plain": [
       "<Figure size 640x480 with 1 Axes>"
      ]
     },
     "metadata": {},
     "output_type": "display_data"
    }
   ],
   "source": [
    "# Proporção das notas\n",
    "import seaborn as sns\n",
    "sns.histplot(x=df[\"NOTA_FINAL\"], binwidth=100)"
   ]
  },
  {
   "cell_type": "code",
   "execution_count": 29,
   "metadata": {},
   "outputs": [
    {
     "data": {
      "text/plain": [
       "0        7\n",
       "1        4\n",
       "2        5\n",
       "3        3\n",
       "4        4\n",
       "        ..\n",
       "21818    6\n",
       "21819    5\n",
       "21820    4\n",
       "21821    3\n",
       "21822    5\n",
       "Name: NOTA_FINAL, Length: 21823, dtype: int64"
      ]
     },
     "execution_count": 29,
     "metadata": {},
     "output_type": "execute_result"
    }
   ],
   "source": [
    "# Para garantir que os datasets de treino e teste sigam essa proporção, é interessante criar um parâmetro auxiliar\n",
    "# O parâmetro irá controlar em qual faixa a nota se encontra (0-100, 100-200, ...)\n",
    "from math import floor\n",
    "faixa = 100\n",
    "auxiliar = np.floor(df[\"NOTA_FINAL\"] / faixa).astype(int)\n",
    "auxiliar"
   ]
  },
  {
   "cell_type": "code",
   "execution_count": 30,
   "metadata": {},
   "outputs": [],
   "source": [
    "# Fazendo split de treino/teste\n",
    "from sklearn.model_selection import train_test_split\n",
    "X = df.drop(\"NOTA_FINAL\", axis=1)\n",
    "Y = df[\"NOTA_FINAL\"]\n",
    "X_train, X_test, y_train, y_test = train_test_split(X, Y, test_size=0.2, shuffle=True, stratify=auxiliar)"
   ]
  },
  {
   "cell_type": "code",
   "execution_count": 31,
   "metadata": {},
   "outputs": [
    {
     "data": {
      "text/plain": [
       "<Axes: xlabel='NOTA_FINAL', ylabel='Count'>"
      ]
     },
     "execution_count": 31,
     "metadata": {},
     "output_type": "execute_result"
    },
    {
     "data": {
      "image/png": "[encoded data removed]",
      "text/plain": [
       "<Figure size 640x480 with 1 Axes>"
      ]
     },
     "metadata": {},
     "output_type": "display_data"
    }
   ],
   "source": [
    "# Teste\n",
    "import seaborn as sns\n",
    "sns.histplot(x=y_test, binwidth=100)"
   ]
  },
  {
   "cell_type": "code",
   "execution_count": 32,
   "metadata": {},
   "outputs": [
    {
     "data": {
      "text/plain": [
       "<Axes: xlabel='NOTA_FINAL', ylabel='Count'>"
      ]
     },
     "execution_count": 32,
     "metadata": {},
     "output_type": "execute_result"
    },
    {
     "data": {
      "image/png": "[encoded data removed]",
      "text/plain": [
       "<Figure size 640x480 with 1 Axes>"
      ]
     },
     "metadata": {},
     "output_type": "display_data"
    }
   ],
   "source": [
    "# Treino\n",
    "import seaborn as sns\n",
    "sns.histplot(x=y_train, binwidth=100)"
   ]
  },
  {
   "cell_type": "markdown",
   "metadata": {},
   "source": [
    "## Testando modelo de RandomForest"
   ]
  },
  {
   "cell_type": "markdown",
   "metadata": {},
   "source": [
    "### Desempenho do modelo nos dados de treino"
   ]
  },
  {
   "cell_type": "code",
   "execution_count": 34,
   "metadata": {},
   "outputs": [
    {
     "data": {
      "text/plain": [
       "0.2753399392442252"
      ]
     },
     "execution_count": 34,
     "metadata": {},
     "output_type": "execute_result"
    }
   ],
   "source": [
    "from sklearn.ensemble import RandomForestRegressor\n",
    "regr = RandomForestRegressor(n_jobs=-1).fit(X_train, y_train)\n",
    "regr.score(X_test, y_test)"
   ]
  },
  {
   "cell_type": "markdown",
   "metadata": {},
   "source": [
    "O RandomForest também teve um baixo desempenho, trazendo evidência de que as variáveis utilizadas sozinhas não são capazes de prever o desempenho do aluno no ENEM."
   ]
  },
  {
   "cell_type": "markdown",
   "metadata": {},
   "source": [
    "### Variáveis Relevantes"
   ]
  },
  {
   "cell_type": "code",
   "execution_count": 35,
   "metadata": {},
   "outputs": [
    {
     "name": "stdout",
     "output_type": "stream",
     "text": [
      "Q028: 0.13744020310013366\n",
      "PANDEMIA_PRATICAS: 0.10109329350576622\n",
      "TP_ESCOLA: 0.08947023103052835\n",
      "Q006: 0.08923985144133002\n",
      "PANDEMIA_GESTAO: 0.07572620834386616\n",
      "GESTAO: 0.054531980274320845\n",
      "PRATICAS: 0.047254353542995536\n",
      "TP_FAIXA_ETARIA: 0.04489768726012339\n",
      "Q034: 0.03959973791683535\n",
      "Q003: 0.031609962131428394\n",
      "Q004: 0.03039615447389542\n",
      "Q001: 0.022637744075277733\n",
      "TP_SEXO: 0.02130693038730786\n",
      "Q025: 0.019419888841021166\n",
      "Q033: 0.01904807421008141\n",
      "Q030: 0.019015994163437643\n",
      "Q032: 0.018688938082900265\n",
      "Q026: 0.01827616790986527\n",
      "REGIAO_NORDESTE: 0.015856088610007667\n",
      "COR_RACA_1.0: 0.014946727103590391\n",
      "REGIAO_SUDESTE: 0.014635290473302991\n",
      "COR_RACA_3.0: 0.01304936891223526\n",
      "REGIAO_NORTE: 0.010598354063675715\n",
      "REGIAO_CENTROOESTE: 0.009885690015316827\n",
      "COR_RACA_2.0: 0.009600333244253821\n",
      "REGIAO_SUL: 0.009337015301752918\n",
      "Q002: 0.008513270492842687\n",
      "COR_RACA_4.0: 0.004018029869835556\n",
      "NACIONALIDADE_1.0: 0.002787658654111525\n",
      "NACIONALIDADE_2.0: 0.0027597060375578724\n",
      "TP_ENSINO: 0.0022121244183712467\n",
      "COR_RACA_5.0: 0.001532266784673979\n",
      "NACIONALIDADE_3.0: 0.0004482350064518952\n",
      "NACIONALIDADE_4.0: 0.0001664403209050441\n"
     ]
    }
   ],
   "source": [
    "features = list(zip(regr.feature_importances_, X_train.columns))\n",
    "features.sort(reverse=True)\n",
    "for feature in features:\n",
    "    print(f\"{feature[1]}: {feature[0]}\")"
   ]
  },
  {
   "cell_type": "code",
   "execution_count": 38,
   "metadata": {},
   "outputs": [
    {
     "name": "stdout",
     "output_type": "stream",
     "text": [
      "Q028: 0.13744020310013366\n",
      "PANDEMIA_PRATICAS: 0.10109329350576622\n",
      "TP_ESCOLA: 0.08947023103052835\n",
      "Q006: 0.08923985144133002\n",
      "PANDEMIA_GESTAO: 0.07572620834386616\n",
      "GESTAO: 0.054531980274320845\n",
      "PRATICAS: 0.047254353542995536\n",
      "TP_FAIXA_ETARIA: 0.04489768726012339\n",
      "Q034: 0.03959973791683535\n",
      "Q003: 0.031609962131428394\n",
      "Q004: 0.03039615447389542\n"
     ]
    }
   ],
   "source": [
    "# Mostrando apenas as mais relevantes (que estão acima da média)\n",
    "media = 1 / len(X.columns)\n",
    "for feature in features:\n",
    "    if feature[0] > media:\n",
    "        print(f\"{feature[1]}: {feature[0]}\")"
   ]
  },
  {
   "cell_type": "markdown",
   "metadata": {},
   "source": [
    "A Questão 28 dos Hábitos de Estudo trata sobre problemas enfrentados na pandemia (sem tempo de descanso, pouca atividade física, dificuldade de se concentrar, ...), e as Práticas na Pandemia trata sobre como o aluno estudou durante a pandemia e com que frequência.\n",
    "<br><br>\n",
    "O tipo de escola que o aluno estudou (se era pública ou não) e sua faixa salarial também parecem ter grandes impactos no desempenho do estudante no ENEM.\n",
    "<br><br>\n",
    "A maneira como o aluno fez a gestão dos seus estudos, tanto na pandemia quanto no geral, também são relevantes, bem como suas práticas de estudo no geral.\n",
    "<br><br>\n",
    "A idade do estudante parece ter grande impacto também. Isso é plausível, já que pessoas mais velhas tendem a ir melhor, por terem mais experiência com a prova de anos anteriores e por terem mais maturidade no geral.\n",
    "<br><br>\n",
    "A questão 34 fala sobre a avaliação do aluno sobre si próprio (o quanto ele se julga preparado para a prova). Embora essa autoavaliação parece ser relevante, não é tão relevante quantos outras variáveis.\n",
    "<br><br>\n",
    "Por fim, as Questões 3 e 4 dos Hábitos de Estudo também falam sobre o estudo do aluno na pandemia (mais especificamente, sobre o modelo de ensino e a evolução do aprendizado, respectivamente).\n",
    "<br><br>\n",
    "Das 11 variáveis com relevância acima da média, 5 falavam especificamente sobre a pandemia, 8 falavam sobre sobre o estudo do aluno e 2 falavam sobre a situação socioeconômica do estudante (sendo essas duas a terceira e a quarta variáveis mais relevantes).\n"
   ]
  },
  {
   "cell_type": "code",
   "execution_count": null,
   "metadata": {},
   "outputs": [],
   "source": []
  }
 ],
 "metadata": {
  "kernelspec": {
   "display_name": "Python 3",
   "language": "python",
   "name": "python3"
  },
  "language_info": {
   "codemirror_mode": {
    "name": "ipython",
    "version": 3
   },
   "file_extension": ".py",
   "mimetype": "text/x-python",
   "name": "python",
   "nbconvert_exporter": "python",
   "pygments_lexer": "ipython3",
   "version": "3.10.12"
  },
  "orig_nbformat": 4
 },
 "nbformat": 4,
 "nbformat_minor": 2
}
