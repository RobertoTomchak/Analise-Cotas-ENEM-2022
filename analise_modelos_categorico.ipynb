{
 "cells": [
  {
   "cell_type": "markdown",
   "metadata": {},
   "source": [
    "# Prevendo Notas do ENEM"
   ]
  },
  {
   "cell_type": "markdown",
   "metadata": {},
   "source": [
    "O objetivo dessa análise é desenvolver um modelo que seja capaz de prever a nota no ENEM de um participante, baseado em dados socioeconômicos sobre ele.\n",
    "<br><br>\n",
    "O objetivo é que, a partir dessas previsões, a gente consiga analisar quais variáveis possuem maior impacto na previsão, o que pode ajudar a avaliar a necessidade do sistema de cotas.\n",
    "<br><br>\n",
    "Iremos julgar como injustiça um parâmetro que supostamente não deveria ser relevante para decidir a nota do participante, mas que o modelo julgou como relevante."
   ]
  },
  {
   "cell_type": "markdown",
   "metadata": {},
   "source": [
    "## Baixando dados"
   ]
  },
  {
   "cell_type": "markdown",
   "metadata": {},
   "source": [
    "Os dados originais do ENEM 2022 já foram tratados para o modelo nos arquivos de tratamento.\n",
    "<br><br>\n",
    "Agora, os datasets de microdados e hábitos de estudo serão juntados, usando o código de inscrição dos participantes."
   ]
  },
  {
   "cell_type": "code",
   "execution_count": 74,
   "metadata": {},
   "outputs": [],
   "source": [
    "# Bibliotecas importantes\n",
    "import pandas as pd\n",
    "import numpy as np\n",
    "import seaborn as sns"
   ]
  },
  {
   "cell_type": "code",
   "execution_count": 75,
   "metadata": {},
   "outputs": [],
   "source": [
    "df_microdados = pd.read_csv(\"microdados_tratado.csv\")\n",
    "df_estudo = pd.read_csv(\"habitos_estudo_tratado.csv\")"
   ]
  },
  {
   "cell_type": "code",
   "execution_count": 76,
   "metadata": {},
   "outputs": [
    {
     "name": "stdout",
     "output_type": "stream",
     "text": [
      "Tamanho Microdados: 669781\n",
      "Tamanho Hábitos Estudo: 78241\n"
     ]
    }
   ],
   "source": [
    "# Tamanho dos datasets originais\n",
    "print(f\"Tamanho Microdados: {len(df_microdados)}\")\n",
    "print(f\"Tamanho Hábitos Estudo: {len(df_estudo)}\")"
   ]
  },
  {
   "cell_type": "code",
   "execution_count": 77,
   "metadata": {},
   "outputs": [
    {
     "data": {
      "text/html": [
       "<div>\n",
       "<style scoped>\n",
       "    .dataframe tbody tr th:only-of-type {\n",
       "        vertical-align: middle;\n",
       "    }\n",
       "\n",
       "    .dataframe tbody tr th {\n",
       "        vertical-align: top;\n",
       "    }\n",
       "\n",
       "    .dataframe thead th {\n",
       "        text-align: right;\n",
       "    }\n",
       "</style>\n",
       "<table border=\"1\" class=\"dataframe\">\n",
       "  <thead>\n",
       "    <tr style=\"text-align: right;\">\n",
       "      <th></th>\n",
       "      <th>NU_INSCRICAO</th>\n",
       "      <th>TP_FAIXA_ETARIA</th>\n",
       "      <th>TP_SEXO</th>\n",
       "      <th>TP_ESCOLA</th>\n",
       "      <th>TP_ENSINO</th>\n",
       "      <th>Q006</th>\n",
       "      <th>COR_RACA_1.0</th>\n",
       "      <th>COR_RACA_2.0</th>\n",
       "      <th>COR_RACA_3.0</th>\n",
       "      <th>COR_RACA_4.0</th>\n",
       "      <th>...</th>\n",
       "      <th>PANDEMIA_GESTAO</th>\n",
       "      <th>PANDEMIA_PRATICAS</th>\n",
       "      <th>GESTAO</th>\n",
       "      <th>PRATICAS</th>\n",
       "      <th>Q025</th>\n",
       "      <th>Q026</th>\n",
       "      <th>Q028</th>\n",
       "      <th>Q030</th>\n",
       "      <th>Q032</th>\n",
       "      <th>Q033</th>\n",
       "    </tr>\n",
       "  </thead>\n",
       "  <tbody>\n",
       "    <tr>\n",
       "      <th>0</th>\n",
       "      <td>210056012033</td>\n",
       "      <td>3</td>\n",
       "      <td>0</td>\n",
       "      <td>1.0</td>\n",
       "      <td>0.0</td>\n",
       "      <td>5</td>\n",
       "      <td>True</td>\n",
       "      <td>False</td>\n",
       "      <td>False</td>\n",
       "      <td>False</td>\n",
       "      <td>...</td>\n",
       "      <td>2.25</td>\n",
       "      <td>1.583333</td>\n",
       "      <td>1.0</td>\n",
       "      <td>1.0</td>\n",
       "      <td>2</td>\n",
       "      <td>2</td>\n",
       "      <td>4</td>\n",
       "      <td>2</td>\n",
       "      <td>2</td>\n",
       "      <td>2</td>\n",
       "    </tr>\n",
       "    <tr>\n",
       "      <th>1</th>\n",
       "      <td>210057478691</td>\n",
       "      <td>3</td>\n",
       "      <td>0</td>\n",
       "      <td>1.0</td>\n",
       "      <td>0.0</td>\n",
       "      <td>1</td>\n",
       "      <td>False</td>\n",
       "      <td>False</td>\n",
       "      <td>True</td>\n",
       "      <td>False</td>\n",
       "      <td>...</td>\n",
       "      <td>1.50</td>\n",
       "      <td>1.500000</td>\n",
       "      <td>0.0</td>\n",
       "      <td>0.5</td>\n",
       "      <td>2</td>\n",
       "      <td>2</td>\n",
       "      <td>6</td>\n",
       "      <td>2</td>\n",
       "      <td>2</td>\n",
       "      <td>2</td>\n",
       "    </tr>\n",
       "    <tr>\n",
       "      <th>2</th>\n",
       "      <td>210056688095</td>\n",
       "      <td>4</td>\n",
       "      <td>1</td>\n",
       "      <td>1.0</td>\n",
       "      <td>0.0</td>\n",
       "      <td>2</td>\n",
       "      <td>False</td>\n",
       "      <td>True</td>\n",
       "      <td>False</td>\n",
       "      <td>False</td>\n",
       "      <td>...</td>\n",
       "      <td>1.00</td>\n",
       "      <td>1.000000</td>\n",
       "      <td>1.0</td>\n",
       "      <td>1.0</td>\n",
       "      <td>2</td>\n",
       "      <td>1</td>\n",
       "      <td>1</td>\n",
       "      <td>1</td>\n",
       "      <td>1</td>\n",
       "      <td>1</td>\n",
       "    </tr>\n",
       "    <tr>\n",
       "      <th>3</th>\n",
       "      <td>210057511905</td>\n",
       "      <td>3</td>\n",
       "      <td>0</td>\n",
       "      <td>1.0</td>\n",
       "      <td>0.0</td>\n",
       "      <td>1</td>\n",
       "      <td>False</td>\n",
       "      <td>False</td>\n",
       "      <td>True</td>\n",
       "      <td>False</td>\n",
       "      <td>...</td>\n",
       "      <td>1.25</td>\n",
       "      <td>1.583333</td>\n",
       "      <td>2.0</td>\n",
       "      <td>2.0</td>\n",
       "      <td>1</td>\n",
       "      <td>1</td>\n",
       "      <td>1</td>\n",
       "      <td>1</td>\n",
       "      <td>1</td>\n",
       "      <td>1</td>\n",
       "    </tr>\n",
       "    <tr>\n",
       "      <th>4</th>\n",
       "      <td>210057838909</td>\n",
       "      <td>3</td>\n",
       "      <td>0</td>\n",
       "      <td>1.0</td>\n",
       "      <td>0.0</td>\n",
       "      <td>2</td>\n",
       "      <td>False</td>\n",
       "      <td>False</td>\n",
       "      <td>True</td>\n",
       "      <td>False</td>\n",
       "      <td>...</td>\n",
       "      <td>1.00</td>\n",
       "      <td>1.166667</td>\n",
       "      <td>1.0</td>\n",
       "      <td>1.0</td>\n",
       "      <td>2</td>\n",
       "      <td>2</td>\n",
       "      <td>1</td>\n",
       "      <td>1</td>\n",
       "      <td>1</td>\n",
       "      <td>2</td>\n",
       "    </tr>\n",
       "    <tr>\n",
       "      <th>...</th>\n",
       "      <td>...</td>\n",
       "      <td>...</td>\n",
       "      <td>...</td>\n",
       "      <td>...</td>\n",
       "      <td>...</td>\n",
       "      <td>...</td>\n",
       "      <td>...</td>\n",
       "      <td>...</td>\n",
       "      <td>...</td>\n",
       "      <td>...</td>\n",
       "      <td>...</td>\n",
       "      <td>...</td>\n",
       "      <td>...</td>\n",
       "      <td>...</td>\n",
       "      <td>...</td>\n",
       "      <td>...</td>\n",
       "      <td>...</td>\n",
       "      <td>...</td>\n",
       "      <td>...</td>\n",
       "      <td>...</td>\n",
       "      <td>...</td>\n",
       "    </tr>\n",
       "    <tr>\n",
       "      <th>21818</th>\n",
       "      <td>210057405995</td>\n",
       "      <td>3</td>\n",
       "      <td>1</td>\n",
       "      <td>0.0</td>\n",
       "      <td>0.0</td>\n",
       "      <td>5</td>\n",
       "      <td>False</td>\n",
       "      <td>False</td>\n",
       "      <td>True</td>\n",
       "      <td>False</td>\n",
       "      <td>...</td>\n",
       "      <td>1.75</td>\n",
       "      <td>2.166667</td>\n",
       "      <td>1.5</td>\n",
       "      <td>3.0</td>\n",
       "      <td>2</td>\n",
       "      <td>1</td>\n",
       "      <td>1</td>\n",
       "      <td>2</td>\n",
       "      <td>2</td>\n",
       "      <td>2</td>\n",
       "    </tr>\n",
       "    <tr>\n",
       "      <th>21819</th>\n",
       "      <td>210055900340</td>\n",
       "      <td>2</td>\n",
       "      <td>1</td>\n",
       "      <td>0.0</td>\n",
       "      <td>0.0</td>\n",
       "      <td>9</td>\n",
       "      <td>False</td>\n",
       "      <td>False</td>\n",
       "      <td>True</td>\n",
       "      <td>False</td>\n",
       "      <td>...</td>\n",
       "      <td>1.75</td>\n",
       "      <td>1.250000</td>\n",
       "      <td>1.0</td>\n",
       "      <td>1.5</td>\n",
       "      <td>2</td>\n",
       "      <td>2</td>\n",
       "      <td>2</td>\n",
       "      <td>2</td>\n",
       "      <td>2</td>\n",
       "      <td>2</td>\n",
       "    </tr>\n",
       "    <tr>\n",
       "      <th>21820</th>\n",
       "      <td>210054991409</td>\n",
       "      <td>3</td>\n",
       "      <td>1</td>\n",
       "      <td>1.0</td>\n",
       "      <td>0.0</td>\n",
       "      <td>4</td>\n",
       "      <td>True</td>\n",
       "      <td>False</td>\n",
       "      <td>False</td>\n",
       "      <td>False</td>\n",
       "      <td>...</td>\n",
       "      <td>1.00</td>\n",
       "      <td>1.000000</td>\n",
       "      <td>0.0</td>\n",
       "      <td>0.0</td>\n",
       "      <td>2</td>\n",
       "      <td>2</td>\n",
       "      <td>2</td>\n",
       "      <td>1</td>\n",
       "      <td>2</td>\n",
       "      <td>2</td>\n",
       "    </tr>\n",
       "    <tr>\n",
       "      <th>21821</th>\n",
       "      <td>210055081282</td>\n",
       "      <td>6</td>\n",
       "      <td>1</td>\n",
       "      <td>1.0</td>\n",
       "      <td>0.0</td>\n",
       "      <td>2</td>\n",
       "      <td>False</td>\n",
       "      <td>False</td>\n",
       "      <td>True</td>\n",
       "      <td>False</td>\n",
       "      <td>...</td>\n",
       "      <td>0.00</td>\n",
       "      <td>0.000000</td>\n",
       "      <td>0.0</td>\n",
       "      <td>0.0</td>\n",
       "      <td>2</td>\n",
       "      <td>2</td>\n",
       "      <td>2</td>\n",
       "      <td>2</td>\n",
       "      <td>1</td>\n",
       "      <td>1</td>\n",
       "    </tr>\n",
       "    <tr>\n",
       "      <th>21822</th>\n",
       "      <td>210056046873</td>\n",
       "      <td>2</td>\n",
       "      <td>1</td>\n",
       "      <td>1.0</td>\n",
       "      <td>0.0</td>\n",
       "      <td>5</td>\n",
       "      <td>True</td>\n",
       "      <td>False</td>\n",
       "      <td>False</td>\n",
       "      <td>False</td>\n",
       "      <td>...</td>\n",
       "      <td>1.50</td>\n",
       "      <td>1.833333</td>\n",
       "      <td>2.0</td>\n",
       "      <td>1.5</td>\n",
       "      <td>2</td>\n",
       "      <td>1</td>\n",
       "      <td>1</td>\n",
       "      <td>1</td>\n",
       "      <td>1</td>\n",
       "      <td>1</td>\n",
       "    </tr>\n",
       "  </tbody>\n",
       "</table>\n",
       "<p>21823 rows × 36 columns</p>\n",
       "</div>"
      ],
      "text/plain": [
       "       NU_INSCRICAO  TP_FAIXA_ETARIA  TP_SEXO  TP_ESCOLA  TP_ENSINO  Q006   \n",
       "0      210056012033                3        0        1.0        0.0     5  \\\n",
       "1      210057478691                3        0        1.0        0.0     1   \n",
       "2      210056688095                4        1        1.0        0.0     2   \n",
       "3      210057511905                3        0        1.0        0.0     1   \n",
       "4      210057838909                3        0        1.0        0.0     2   \n",
       "...             ...              ...      ...        ...        ...   ...   \n",
       "21818  210057405995                3        1        0.0        0.0     5   \n",
       "21819  210055900340                2        1        0.0        0.0     9   \n",
       "21820  210054991409                3        1        1.0        0.0     4   \n",
       "21821  210055081282                6        1        1.0        0.0     2   \n",
       "21822  210056046873                2        1        1.0        0.0     5   \n",
       "\n",
       "       COR_RACA_1.0  COR_RACA_2.0  COR_RACA_3.0  COR_RACA_4.0  ...   \n",
       "0              True         False         False         False  ...  \\\n",
       "1             False         False          True         False  ...   \n",
       "2             False          True         False         False  ...   \n",
       "3             False         False          True         False  ...   \n",
       "4             False         False          True         False  ...   \n",
       "...             ...           ...           ...           ...  ...   \n",
       "21818         False         False          True         False  ...   \n",
       "21819         False         False          True         False  ...   \n",
       "21820          True         False         False         False  ...   \n",
       "21821         False         False          True         False  ...   \n",
       "21822          True         False         False         False  ...   \n",
       "\n",
       "       PANDEMIA_GESTAO  PANDEMIA_PRATICAS  GESTAO  PRATICAS  Q025  Q026  Q028   \n",
       "0                 2.25           1.583333     1.0       1.0     2     2     4  \\\n",
       "1                 1.50           1.500000     0.0       0.5     2     2     6   \n",
       "2                 1.00           1.000000     1.0       1.0     2     1     1   \n",
       "3                 1.25           1.583333     2.0       2.0     1     1     1   \n",
       "4                 1.00           1.166667     1.0       1.0     2     2     1   \n",
       "...                ...                ...     ...       ...   ...   ...   ...   \n",
       "21818             1.75           2.166667     1.5       3.0     2     1     1   \n",
       "21819             1.75           1.250000     1.0       1.5     2     2     2   \n",
       "21820             1.00           1.000000     0.0       0.0     2     2     2   \n",
       "21821             0.00           0.000000     0.0       0.0     2     2     2   \n",
       "21822             1.50           1.833333     2.0       1.5     2     1     1   \n",
       "\n",
       "       Q030  Q032  Q033  \n",
       "0         2     2     2  \n",
       "1         2     2     2  \n",
       "2         1     1     1  \n",
       "3         1     1     1  \n",
       "4         1     1     2  \n",
       "...     ...   ...   ...  \n",
       "21818     2     2     2  \n",
       "21819     2     2     2  \n",
       "21820     1     2     2  \n",
       "21821     2     1     1  \n",
       "21822     1     1     1  \n",
       "\n",
       "[21823 rows x 36 columns]"
      ]
     },
     "execution_count": 77,
     "metadata": {},
     "output_type": "execute_result"
    }
   ],
   "source": [
    "# Juntando datasets\n",
    "df = pd.merge(df_microdados, df_estudo, on=\"NU_INSCRICAO\")\n",
    "df"
   ]
  },
  {
   "cell_type": "code",
   "execution_count": 78,
   "metadata": {},
   "outputs": [
    {
     "data": {
      "text/plain": [
       "21823"
      ]
     },
     "execution_count": 78,
     "metadata": {},
     "output_type": "execute_result"
    }
   ],
   "source": [
    "# Quantas linhas sobrariam se removessemos NAs?\n",
    "df.dropna().shape[0]"
   ]
  },
  {
   "cell_type": "code",
   "execution_count": 79,
   "metadata": {},
   "outputs": [
    {
     "data": {
      "text/plain": [
       "0.6278003685159108"
      ]
     },
     "execution_count": 79,
     "metadata": {},
     "output_type": "execute_result"
    }
   ],
   "source": [
    "# Quanto é esse valor, em porcentagem, em relaçao ao dataset original do ENEM 2022?\n",
    "# Se for ver nos outros arquivos, o número total de candidatos é 3.476.105\n",
    "TAMANHO_TOTAL = 3476105\n",
    "tamanho_novo  = df.dropna().shape[0]\n",
    "100 * tamanho_novo / TAMANHO_TOTAL"
   ]
  },
  {
   "cell_type": "code",
   "execution_count": 80,
   "metadata": {},
   "outputs": [],
   "source": [
    "# Retirando o NU_INSCRICAO, pois foi usado somente para juntar os datasets\n",
    "df.drop(\"NU_INSCRICAO\", axis=1, inplace=True)"
   ]
  },
  {
   "cell_type": "markdown",
   "metadata": {},
   "source": [
    "Juntando os datasets, temos apenas 0,63% dos dados originais do ENEM 2022. Isso significa que a amostra que estamos lidando é de 0,63% da população total (onde a população são os participantes do ENEM 2022). Embora seja um valor relativamente baixo, ainda é possível fazer boas análises, contanto que essa amostra seja representativa. "
   ]
  },
  {
   "cell_type": "markdown",
   "metadata": {},
   "source": [
    "## Train/Test Split"
   ]
  },
  {
   "cell_type": "code",
   "execution_count": 81,
   "metadata": {},
   "outputs": [
    {
     "data": {
      "text/plain": [
       "0        7\n",
       "1        4\n",
       "2        5\n",
       "3        3\n",
       "4        4\n",
       "        ..\n",
       "21818    6\n",
       "21819    5\n",
       "21820    4\n",
       "21821    3\n",
       "21822    5\n",
       "Name: CLASSE_NOTA, Length: 21823, dtype: int64"
      ]
     },
     "execution_count": 81,
     "metadata": {},
     "output_type": "execute_result"
    }
   ],
   "source": [
    "# Criando coluna das classes (cada classe é uma faixa de notas)\n",
    "from math import floor\n",
    "faixa = 100\n",
    "df[\"CLASSE_NOTA\"] = np.floor(df[\"NOTA_FINAL\"] / faixa).astype(int)\n",
    "df.drop(\"NOTA_FINAL\", axis=1, inplace=True)\n",
    "df[\"CLASSE_NOTA\"]"
   ]
  },
  {
   "cell_type": "code",
   "execution_count": 82,
   "metadata": {},
   "outputs": [
    {
     "data": {
      "text/plain": [
       "CLASSE_NOTA\n",
       "5    8548\n",
       "4    7876\n",
       "6    3265\n",
       "3    1701\n",
       "7     378\n",
       "2      48\n",
       "8       5\n",
       "1       2\n",
       "Name: count, dtype: int64"
      ]
     },
     "execution_count": 82,
     "metadata": {},
     "output_type": "execute_result"
    }
   ],
   "source": [
    "df[\"CLASSE_NOTA\"].value_counts()"
   ]
  },
  {
   "cell_type": "code",
   "execution_count": 83,
   "metadata": {},
   "outputs": [
    {
     "data": {
      "text/plain": [
       "CLASSE_NOTA\n",
       "5    8548\n",
       "4    7876\n",
       "6    3265\n",
       "3    1701\n",
       "7     378\n",
       "2      48\n",
       "Name: count, dtype: int64"
      ]
     },
     "execution_count": 83,
     "metadata": {},
     "output_type": "execute_result"
    }
   ],
   "source": [
    "# Classes 1 e 8 possuem pouquissímos dados, o que atrapalha a avaliação do k-fold (por ser menor que o valor de cv escolhido, que é 5). Assim, serão removidos\n",
    "df.drop(df[df[\"CLASSE_NOTA\"] == 1].index, inplace=True)\n",
    "df.drop(df[df[\"CLASSE_NOTA\"] == 8].index, inplace=True)\n",
    "df[\"CLASSE_NOTA\"].value_counts()"
   ]
  },
  {
   "cell_type": "code",
   "execution_count": 84,
   "metadata": {},
   "outputs": [
    {
     "data": {
      "text/plain": [
       "<Axes: xlabel='CLASSE_NOTA', ylabel='Count'>"
      ]
     },
     "execution_count": 84,
     "metadata": {},
     "output_type": "execute_result"
    },
    {
     "data": {
      "image/png": "[encoded data removed]",
      "text/plain": [
       "<Figure size 640x480 with 1 Axes>"
      ]
     },
     "metadata": {},
     "output_type": "display_data"
    }
   ],
   "source": [
    "# Proporção das notas\n",
    "import seaborn as sns\n",
    "sns.histplot(x=df[\"CLASSE_NOTA\"], binwidth=1)"
   ]
  },
  {
   "cell_type": "code",
   "execution_count": 85,
   "metadata": {},
   "outputs": [],
   "source": [
    "# Fazendo split de treino/teste\n",
    "# Random state fixado para constância de resultados\n",
    "from sklearn.model_selection import train_test_split\n",
    "X = df.drop(\"CLASSE_NOTA\", axis=1)\n",
    "Y = df[\"CLASSE_NOTA\"]\n",
    "X_train, X_test, y_train, y_test = train_test_split(X, Y, test_size=0.2, shuffle=True, stratify=Y, random_state=42)"
   ]
  },
  {
   "cell_type": "code",
   "execution_count": 86,
   "metadata": {},
   "outputs": [
    {
     "data": {
      "text/plain": [
       "<Axes: xlabel='CLASSE_NOTA', ylabel='Count'>"
      ]
     },
     "execution_count": 86,
     "metadata": {},
     "output_type": "execute_result"
    },
    {
     "data": {
      "image/png": "[encoded data removed]",
      "text/plain": [
       "<Figure size 640x480 with 1 Axes>"
      ]
     },
     "metadata": {},
     "output_type": "display_data"
    }
   ],
   "source": [
    "# Teste\n",
    "import seaborn as sns\n",
    "sns.histplot(x=y_test, binwidth=1)"
   ]
  },
  {
   "cell_type": "code",
   "execution_count": 87,
   "metadata": {},
   "outputs": [
    {
     "data": {
      "text/plain": [
       "<Axes: xlabel='CLASSE_NOTA', ylabel='Count'>"
      ]
     },
     "execution_count": 87,
     "metadata": {},
     "output_type": "execute_result"
    },
    {
     "data": {
      "image/png": "[encoded data removed]",
      "text/plain": [
       "<Figure size 640x480 with 1 Axes>"
      ]
     },
     "metadata": {},
     "output_type": "display_data"
    }
   ],
   "source": [
    "# Treino\n",
    "import seaborn as sns\n",
    "sns.histplot(x=y_train, binwidth=1)"
   ]
  },
  {
   "cell_type": "markdown",
   "metadata": {},
   "source": [
    "## Testando modelos básicos"
   ]
  },
  {
   "cell_type": "markdown",
   "metadata": {},
   "source": [
    "Nessa sessão, serão treinados três modelos, sem muita alteração nos seus hiperparâmetros, para ter uma noção dos resultados que podemos conseguir. Foram escolhidos os seguintes modelos: Logistic Regression, Random Forest e SVM."
   ]
  },
  {
   "cell_type": "code",
   "execution_count": 88,
   "metadata": {},
   "outputs": [],
   "source": [
    "# Para avaliar os modelos, será usado k-fold\n",
    "from sklearn.model_selection import cross_val_score"
   ]
  },
  {
   "cell_type": "code",
   "execution_count": 89,
   "metadata": {},
   "outputs": [
    {
     "name": "stderr",
     "output_type": "stream",
     "text": [
      "/home/robertotomchak/.local/lib/python3.10/site-packages/sklearn/linear_model/_logistic.py:460: ConvergenceWarning: lbfgs failed to converge (status=1):\n",
      "STOP: TOTAL NO. of ITERATIONS REACHED LIMIT.\n",
      "\n",
      "Increase the number of iterations (max_iter) or scale the data as shown in:\n",
      "    https://scikit-learn.org/stable/modules/preprocessing.html\n",
      "Please also refer to the documentation for alternative solver options:\n",
      "    https://scikit-learn.org/stable/modules/linear_model.html#logistic-regression\n",
      "  n_iter_i = _check_optimize_result(\n",
      "/home/robertotomchak/.local/lib/python3.10/site-packages/sklearn/linear_model/_logistic.py:460: ConvergenceWarning: lbfgs failed to converge (status=1):\n",
      "STOP: TOTAL NO. of ITERATIONS REACHED LIMIT.\n",
      "\n",
      "Increase the number of iterations (max_iter) or scale the data as shown in:\n",
      "    https://scikit-learn.org/stable/modules/preprocessing.html\n",
      "Please also refer to the documentation for alternative solver options:\n",
      "    https://scikit-learn.org/stable/modules/linear_model.html#logistic-regression\n",
      "  n_iter_i = _check_optimize_result(\n",
      "/home/robertotomchak/.local/lib/python3.10/site-packages/sklearn/linear_model/_logistic.py:460: ConvergenceWarning: lbfgs failed to converge (status=1):\n",
      "STOP: TOTAL NO. of ITERATIONS REACHED LIMIT.\n",
      "\n",
      "Increase the number of iterations (max_iter) or scale the data as shown in:\n",
      "    https://scikit-learn.org/stable/modules/preprocessing.html\n",
      "Please also refer to the documentation for alternative solver options:\n",
      "    https://scikit-learn.org/stable/modules/linear_model.html#logistic-regression\n",
      "  n_iter_i = _check_optimize_result(\n",
      "/home/robertotomchak/.local/lib/python3.10/site-packages/sklearn/linear_model/_logistic.py:460: ConvergenceWarning: lbfgs failed to converge (status=1):\n",
      "STOP: TOTAL NO. of ITERATIONS REACHED LIMIT.\n",
      "\n",
      "Increase the number of iterations (max_iter) or scale the data as shown in:\n",
      "    https://scikit-learn.org/stable/modules/preprocessing.html\n",
      "Please also refer to the documentation for alternative solver options:\n",
      "    https://scikit-learn.org/stable/modules/linear_model.html#logistic-regression\n",
      "  n_iter_i = _check_optimize_result(\n",
      "/home/robertotomchak/.local/lib/python3.10/site-packages/sklearn/linear_model/_logistic.py:460: ConvergenceWarning: lbfgs failed to converge (status=1):\n",
      "STOP: TOTAL NO. of ITERATIONS REACHED LIMIT.\n",
      "\n",
      "Increase the number of iterations (max_iter) or scale the data as shown in:\n",
      "    https://scikit-learn.org/stable/modules/preprocessing.html\n",
      "Please also refer to the documentation for alternative solver options:\n",
      "    https://scikit-learn.org/stable/modules/linear_model.html#logistic-regression\n",
      "  n_iter_i = _check_optimize_result(\n"
     ]
    },
    {
     "data": {
      "text/plain": [
       "0.49558763878298595"
      ]
     },
     "execution_count": 89,
     "metadata": {},
     "output_type": "execute_result"
    }
   ],
   "source": [
    "# Regressão Logística\n",
    "from sklearn.linear_model import LogisticRegression\n",
    "model_logreg = LogisticRegression()\n",
    "cross_val_score(model_logreg, X_train, y_train, cv=5, scoring=\"accuracy\").mean()"
   ]
  },
  {
   "cell_type": "code",
   "execution_count": 90,
   "metadata": {},
   "outputs": [
    {
     "data": {
      "text/plain": [
       "0.47965836013851415"
      ]
     },
     "execution_count": 90,
     "metadata": {},
     "output_type": "execute_result"
    }
   ],
   "source": [
    "# Random Forest\n",
    "from sklearn.ensemble import RandomForestClassifier\n",
    "model_randforest = RandomForestClassifier(n_jobs=-1)\n",
    "cross_val_score(model_randforest, X_train, y_train, cv=5, scoring=\"accuracy\").mean()"
   ]
  },
  {
   "cell_type": "code",
   "execution_count": 91,
   "metadata": {},
   "outputs": [],
   "source": [
    "# SVM\n",
    "#from sklearn.svm import SVC\n",
    "#model_svm = SVC()\n",
    "#cross_val_score(model_svm, X_train, y_train, cv=5, scoring=\"accuracy\").mean()"
   ]
  },
  {
   "cell_type": "markdown",
   "metadata": {},
   "source": [
    "Os três modelos tiveram uma acurácisa parecida e consideravelmente baixo (um pouco abaixo de 50%), o que indica que as variáveis que temos a disposição não são suficientes para prever com precisão as notas dos participantes do ENEM.\n",
    "<br><br>\n",
    "Por terem tido resultados parecidos e pelo modelo de SVM ter um treinamento lento, ele será desconsiderado no restante da análise."
   ]
  },
  {
   "cell_type": "markdown",
   "metadata": {},
   "source": [
    "### Variáveis Relevantes"
   ]
  },
  {
   "cell_type": "markdown",
   "metadata": {},
   "source": [
    "O modelo de RandomForest possui alta interpretabilidade, o que ajuda a entender como as variáveis impactam na previsão da nota do estudante."
   ]
  },
  {
   "cell_type": "code",
   "execution_count": 92,
   "metadata": {},
   "outputs": [
    {
     "name": "stdout",
     "output_type": "stream",
     "text": [
      "PANDEMIA_PRATICAS: 0.11072196671273066\n",
      "PANDEMIA_GESTAO: 0.08515466332998542\n",
      "Q006: 0.08493167941596455\n",
      "Q028: 0.07965606122123614\n",
      "GESTAO: 0.07017590717989311\n",
      "PRATICAS: 0.06354740898166313\n",
      "Q034: 0.05009844062504065\n",
      "TP_FAIXA_ETARIA: 0.049981022498533104\n",
      "Q004: 0.03461413160963765\n",
      "Q003: 0.034148380537317426\n",
      "TP_SEXO: 0.02930856977829637\n",
      "Q032: 0.028745237103366204\n",
      "Q033: 0.02689580354706407\n",
      "Q025: 0.024236748611338326\n",
      "Q026: 0.022056204155814402\n",
      "Q030: 0.021008510011806376\n",
      "TP_ESCOLA: 0.020664549616284174\n",
      "REGIAO_NORDESTE: 0.019843154990519713\n",
      "Q001: 0.01962188268798443\n",
      "REGIAO_SUDESTE: 0.018116624219160445\n",
      "COR_RACA_3.0: 0.014615720988152869\n",
      "COR_RACA_1.0: 0.014058213236225811\n",
      "REGIAO_NORTE: 0.013289880296948968\n",
      "REGIAO_CENTROOESTE: 0.012344172016392655\n",
      "COR_RACA_2.0: 0.011243182931785702\n",
      "Q002: 0.01098740552148192\n",
      "REGIAO_SUL: 0.010900371472484193\n",
      "NACIONALIDADE_1.0: 0.005093596409765097\n",
      "NACIONALIDADE_2.0: 0.00449568423646546\n",
      "COR_RACA_4.0: 0.004219793215732413\n",
      "TP_ENSINO: 0.0021206862399049836\n",
      "COR_RACA_5.0: 0.00209920558940179\n",
      "NACIONALIDADE_3.0: 0.0005189333340073681\n",
      "NACIONALIDADE_4.0: 0.0004862076776144861\n"
     ]
    }
   ],
   "source": [
    "model_randforest.fit(X_train, y_train)\n",
    "features = sorted(zip(model_randforest.feature_importances_, X_train.columns), reverse=True)\n",
    "for importance, feature in features:\n",
    "    print(f\"{feature}: {importance}\")"
   ]
  },
  {
   "cell_type": "code",
   "execution_count": 93,
   "metadata": {},
   "outputs": [
    {
     "name": "stdout",
     "output_type": "stream",
     "text": [
      "PANDEMIA_PRATICAS: 0.11072196671273066\n",
      "PANDEMIA_GESTAO: 0.08515466332998542\n",
      "Q006: 0.08493167941596455\n",
      "Q028: 0.07965606122123614\n",
      "GESTAO: 0.07017590717989311\n",
      "PRATICAS: 0.06354740898166313\n",
      "Q034: 0.05009844062504065\n",
      "TP_FAIXA_ETARIA: 0.049981022498533104\n",
      "Q004: 0.03461413160963765\n",
      "Q003: 0.034148380537317426\n"
     ]
    }
   ],
   "source": [
    "# Mostrando apenas as mais relevantes (que estão acima da média)\n",
    "media = 1 / len(X.columns)\n",
    "for importance, feature in features:\n",
    "    if importance > media:\n",
    "        print(f\"{feature}: {importance}\")"
   ]
  },
  {
   "cell_type": "code",
   "execution_count": 94,
   "metadata": {},
   "outputs": [
    {
     "data": {
      "text/plain": [
       "Index(['TP_FAIXA_ETARIA', 'TP_SEXO', 'TP_ESCOLA', 'TP_ENSINO', 'Q006',\n",
       "       'COR_RACA_1.0', 'COR_RACA_2.0', 'COR_RACA_3.0', 'COR_RACA_4.0',\n",
       "       'COR_RACA_5.0', 'NACIONALIDADE_1.0', 'NACIONALIDADE_2.0',\n",
       "       'NACIONALIDADE_3.0', 'NACIONALIDADE_4.0', 'REGIAO_CENTROOESTE',\n",
       "       'REGIAO_NORDESTE', 'REGIAO_NORTE', 'REGIAO_SUDESTE', 'REGIAO_SUL',\n",
       "       'Q001', 'Q002', 'Q003', 'Q004', 'Q034', 'PANDEMIA_GESTAO',\n",
       "       'PANDEMIA_PRATICAS', 'GESTAO', 'PRATICAS', 'Q025', 'Q026', 'Q028',\n",
       "       'Q030', 'Q032', 'Q033'],\n",
       "      dtype='object')"
      ]
     },
     "execution_count": 94,
     "metadata": {},
     "output_type": "execute_result"
    }
   ],
   "source": [
    "X_train.columns"
   ]
  },
  {
   "cell_type": "code",
   "execution_count": 95,
   "metadata": {},
   "outputs": [
    {
     "data": {
      "text/plain": [
       "0.37490449162037365"
      ]
     },
     "execution_count": 95,
     "metadata": {},
     "output_type": "execute_result"
    }
   ],
   "source": [
    "# Soma do impacto das variáveis ligadas à pandemia\n",
    "var_pandemia = [\"Q001\", \"Q002\", \"Q003\", \"Q004\", \"PANDEMIA_PRATICAS\", \"PANDEMIA_GESTAO\", \"Q028\"]\n",
    "soma = 0\n",
    "for importance, feature in features:\n",
    "    if feature in var_pandemia:\n",
    "        soma += importance\n",
    "soma"
   ]
  },
  {
   "cell_type": "markdown",
   "metadata": {},
   "source": [
    "As duas primeiras variáveis falam sobre o estudo do participante na pandemia, tanto suas práticas (ler, fazer resumos, etc) e sua organização/gestão (fazer cronogramas, etc).\n",
    "<br><br>\n",
    "A Q006 indica a renda familiar do estudante.\n",
    "<br><br>\n",
    "A Q028 fala sobre dificuldades enfrentadas pelo participante na pandemia.\n",
    "<br><br>\n",
    "A gestão e as práticas do estudante parecem ser impactantes também no geral, não só na pandemia. Entretanto, é importante notar que a informação sobre elas na pandemia foi mais relevante do que no geral.\n",
    "<br><br>\n",
    "A questão 34 fala sobre a avaliação do aluno sobre si próprio (o quanto ele se julga preparado para a prova). Embora essa autoavaliação parece ser relevante, não é tão relevante quantos outras variáveis.\n",
    "<br><br>\n",
    "A faixa etária do estudante parece ser relevante também.\n",
    "<br><br>\n",
    "Por fim, as Questões 3 e 4 dos Hábitos de Estudo também falam sobre o estudo do aluno na pandemia (mais especificamente, sobre o modelo de ensino e a evolução do aprendizado, respectivamente). A variável sobre o sexo do participante parece ter relevância também.\n",
    "<br><br>\n",
    "Das 11 variáveis com relevância acima da média, 5 falavam especificamente sobre a pandemia, 6 falavam sobre sobre o estudo do aluno e 1 falava sobre a situação socioeconômica do estudante. As variáveis ligadas à pandemia somam 37,5% da importância do modelo.\n",
    "<br><br><br>\n",
    "Essa análise inicial indica que a pandemia pode ter tido uma grande influência nas notas dos estudantes.\n"
   ]
  },
  {
   "cell_type": "markdown",
   "metadata": {},
   "source": [
    "## Melhorando Modelo de Random Forest"
   ]
  },
  {
   "cell_type": "markdown",
   "metadata": {},
   "source": [
    "### Hiperparâmetros"
   ]
  },
  {
   "cell_type": "markdown",
   "metadata": {},
   "source": [
    "Visando buscar um modelo melhor, será feito uma análise de hiperparâmetros do modelo de Random Forest.\n",
    "<br><br>\n",
    "A técnica utilizada aqui será o Grid Search."
   ]
  },
  {
   "cell_type": "code",
   "execution_count": 96,
   "metadata": {},
   "outputs": [
    {
     "data": {
      "text/plain": [
       "44"
      ]
     },
     "execution_count": 96,
     "metadata": {},
     "output_type": "execute_result"
    }
   ],
   "source": [
    "# Profundidade máxima das árvores no modelo base\n",
    "max([estimator.tree_.max_depth for estimator in model_randforest.estimators_])"
   ]
  },
  {
   "cell_type": "code",
   "execution_count": 97,
   "metadata": {},
   "outputs": [],
   "source": [
    "# Escolha dos hiperparâmetros a serem testados\n",
    "# Será variado o número de árvores e a profundidade delas\n",
    "param_grid = [\n",
    "    {\"n_estimators\": [10, 100, 250, 500], \"max_depth\": [2, 20, 40, 44]}\n",
    "]"
   ]
  },
  {
   "cell_type": "code",
   "execution_count": 98,
   "metadata": {},
   "outputs": [
    {
     "data": {
      "text/html": [
       "<style>#sk-container-id-2 {color: black;}#sk-container-id-2 pre{padding: 0;}#sk-container-id-2 div.sk-toggleable {background-color: white;}#sk-container-id-2 label.sk-toggleable__label {cursor: pointer;display: block;width: 100%;margin-bottom: 0;padding: 0.3em;box-sizing: border-box;text-align: center;}#sk-container-id-2 label.sk-toggleable__label-arrow:before {content: \"▸\";float: left;margin-right: 0.25em;color: #696969;}#sk-container-id-2 label.sk-toggleable__label-arrow:hover:before {color: black;}#sk-container-id-2 div.sk-estimator:hover label.sk-toggleable__label-arrow:before {color: black;}#sk-container-id-2 div.sk-toggleable__content {max-height: 0;max-width: 0;overflow: hidden;text-align: left;background-color: #f0f8ff;}#sk-container-id-2 div.sk-toggleable__content pre {margin: 0.2em;color: black;border-radius: 0.25em;background-color: #f0f8ff;}#sk-container-id-2 input.sk-toggleable__control:checked~div.sk-toggleable__content {max-height: 200px;max-width: 100%;overflow: auto;}#sk-container-id-2 input.sk-toggleable__control:checked~label.sk-toggleable__label-arrow:before {content: \"▾\";}#sk-container-id-2 div.sk-estimator input.sk-toggleable__control:checked~label.sk-toggleable__label {background-color: #d4ebff;}#sk-container-id-2 div.sk-label input.sk-toggleable__control:checked~label.sk-toggleable__label {background-color: #d4ebff;}#sk-container-id-2 input.sk-hidden--visually {border: 0;clip: rect(1px 1px 1px 1px);clip: rect(1px, 1px, 1px, 1px);height: 1px;margin: -1px;overflow: hidden;padding: 0;position: absolute;width: 1px;}#sk-container-id-2 div.sk-estimator {font-family: monospace;background-color: #f0f8ff;border: 1px dotted black;border-radius: 0.25em;box-sizing: border-box;margin-bottom: 0.5em;}#sk-container-id-2 div.sk-estimator:hover {background-color: #d4ebff;}#sk-container-id-2 div.sk-parallel-item::after {content: \"\";width: 100%;border-bottom: 1px solid gray;flex-grow: 1;}#sk-container-id-2 div.sk-label:hover label.sk-toggleable__label {background-color: #d4ebff;}#sk-container-id-2 div.sk-serial::before {content: \"\";position: absolute;border-left: 1px solid gray;box-sizing: border-box;top: 0;bottom: 0;left: 50%;z-index: 0;}#sk-container-id-2 div.sk-serial {display: flex;flex-direction: column;align-items: center;background-color: white;padding-right: 0.2em;padding-left: 0.2em;position: relative;}#sk-container-id-2 div.sk-item {position: relative;z-index: 1;}#sk-container-id-2 div.sk-parallel {display: flex;align-items: stretch;justify-content: center;background-color: white;position: relative;}#sk-container-id-2 div.sk-item::before, #sk-container-id-2 div.sk-parallel-item::before {content: \"\";position: absolute;border-left: 1px solid gray;box-sizing: border-box;top: 0;bottom: 0;left: 50%;z-index: -1;}#sk-container-id-2 div.sk-parallel-item {display: flex;flex-direction: column;z-index: 1;position: relative;background-color: white;}#sk-container-id-2 div.sk-parallel-item:first-child::after {align-self: flex-end;width: 50%;}#sk-container-id-2 div.sk-parallel-item:last-child::after {align-self: flex-start;width: 50%;}#sk-container-id-2 div.sk-parallel-item:only-child::after {width: 0;}#sk-container-id-2 div.sk-dashed-wrapped {border: 1px dashed gray;margin: 0 0.4em 0.5em 0.4em;box-sizing: border-box;padding-bottom: 0.4em;background-color: white;}#sk-container-id-2 div.sk-label label {font-family: monospace;font-weight: bold;display: inline-block;line-height: 1.2em;}#sk-container-id-2 div.sk-label-container {text-align: center;}#sk-container-id-2 div.sk-container {/* jupyter's `normalize.less` sets `[hidden] { display: none; }` but bootstrap.min.css set `[hidden] { display: none !important; }` so we also need the `!important` here to be able to override the default hidden behavior on the sphinx rendered scikit-learn.org. See: https://github.com/scikit-learn/scikit-learn/issues/21755 */display: inline-block !important;position: relative;}#sk-container-id-2 div.sk-text-repr-fallback {display: none;}</style><div id=\"sk-container-id-2\" class=\"sk-top-container\"><div class=\"sk-text-repr-fallback\"><pre>GridSearchCV(cv=5, estimator=RandomForestClassifier(n_jobs=-1),\n",
       "             param_grid=[{&#x27;max_depth&#x27;: [2, 20, 40, 44],\n",
       "                          &#x27;n_estimators&#x27;: [10, 100, 250, 500]}],\n",
       "             return_train_score=True, scoring=&#x27;accuracy&#x27;)</pre><b>In a Jupyter environment, please rerun this cell to show the HTML representation or trust the notebook. <br />On GitHub, the HTML representation is unable to render, please try loading this page with nbviewer.org.</b></div><div class=\"sk-container\" hidden><div class=\"sk-item sk-dashed-wrapped\"><div class=\"sk-label-container\"><div class=\"sk-label sk-toggleable\"><input class=\"sk-toggleable__control sk-hidden--visually\" id=\"sk-estimator-id-4\" type=\"checkbox\" ><label for=\"sk-estimator-id-4\" class=\"sk-toggleable__label sk-toggleable__label-arrow\">GridSearchCV</label><div class=\"sk-toggleable__content\"><pre>GridSearchCV(cv=5, estimator=RandomForestClassifier(n_jobs=-1),\n",
       "             param_grid=[{&#x27;max_depth&#x27;: [2, 20, 40, 44],\n",
       "                          &#x27;n_estimators&#x27;: [10, 100, 250, 500]}],\n",
       "             return_train_score=True, scoring=&#x27;accuracy&#x27;)</pre></div></div></div><div class=\"sk-parallel\"><div class=\"sk-parallel-item\"><div class=\"sk-item\"><div class=\"sk-label-container\"><div class=\"sk-label sk-toggleable\"><input class=\"sk-toggleable__control sk-hidden--visually\" id=\"sk-estimator-id-5\" type=\"checkbox\" ><label for=\"sk-estimator-id-5\" class=\"sk-toggleable__label sk-toggleable__label-arrow\">estimator: RandomForestClassifier</label><div class=\"sk-toggleable__content\"><pre>RandomForestClassifier(n_jobs=-1)</pre></div></div></div><div class=\"sk-serial\"><div class=\"sk-item\"><div class=\"sk-estimator sk-toggleable\"><input class=\"sk-toggleable__control sk-hidden--visually\" id=\"sk-estimator-id-6\" type=\"checkbox\" ><label for=\"sk-estimator-id-6\" class=\"sk-toggleable__label sk-toggleable__label-arrow\">RandomForestClassifier</label><div class=\"sk-toggleable__content\"><pre>RandomForestClassifier(n_jobs=-1)</pre></div></div></div></div></div></div></div></div></div></div>"
      ],
      "text/plain": [
       "GridSearchCV(cv=5, estimator=RandomForestClassifier(n_jobs=-1),\n",
       "             param_grid=[{'max_depth': [2, 20, 40, 44],\n",
       "                          'n_estimators': [10, 100, 250, 500]}],\n",
       "             return_train_score=True, scoring='accuracy')"
      ]
     },
     "execution_count": 98,
     "metadata": {},
     "output_type": "execute_result"
    }
   ],
   "source": [
    "from sklearn.model_selection import GridSearchCV\n",
    "model_randforest = RandomForestClassifier(n_jobs=-1)\n",
    "grid_search = GridSearchCV(model_randforest, param_grid=param_grid, cv=5, scoring=\"accuracy\", return_train_score=True)\n",
    "grid_search.fit(X_train, y_train)"
   ]
  },
  {
   "cell_type": "code",
   "execution_count": 99,
   "metadata": {},
   "outputs": [
    {
     "name": "stdout",
     "output_type": "stream",
     "text": [
      "0.49163369745698926 {'max_depth': 20, 'n_estimators': 500}\n",
      "0.4913469182728572 {'max_depth': 20, 'n_estimators': 250}\n",
      "0.48865398458089937 {'max_depth': 40, 'n_estimators': 500}\n",
      "0.4881954333656993 {'max_depth': 20, 'n_estimators': 100}\n",
      "0.48756533993675094 {'max_depth': 44, 'n_estimators': 500}\n",
      "0.4873930918555204 {'max_depth': 44, 'n_estimators': 250}\n",
      "0.48676355655434894 {'max_depth': 40, 'n_estimators': 250}\n",
      "0.48366883652519493 {'max_depth': 44, 'n_estimators': 100}\n",
      "0.48235134307704053 {'max_depth': 40, 'n_estimators': 100}\n",
      "0.4816639266423115 {'max_depth': 2, 'n_estimators': 100}\n",
      "0.4782260072770013 {'max_depth': 2, 'n_estimators': 500}\n",
      "0.4777106419372286 {'max_depth': 2, 'n_estimators': 250}\n",
      "0.46825584248977525 {'max_depth': 2, 'n_estimators': 10}\n",
      "0.4539305574137016 {'max_depth': 20, 'n_estimators': 10}\n",
      "0.4443039202730887 {'max_depth': 44, 'n_estimators': 10}\n",
      "0.43742781889410265 {'max_depth': 40, 'n_estimators': 10}\n"
     ]
    }
   ],
   "source": [
    "# All scores (sorted)\n",
    "cvres = grid_search.cv_results_\n",
    "results = sorted(zip(cvres[\"mean_test_score\"], cvres[\"params\"]), reverse=True)\n",
    "for score, params in results:\n",
    "    print(score, params)"
   ]
  },
  {
   "cell_type": "markdown",
   "metadata": {},
   "source": [
    "Note que houve pouca diferença entre os scores de cada modelo, o que significa que alterar os hiperparâmetros não leva a grande melhora no modelo nesse problema. Isso indica que ou o modelo de Random Forest não modela bem o problema, ou as variáveis que temos não são suficientes para criar boas previsões."
   ]
  },
  {
   "cell_type": "code",
   "execution_count": 100,
   "metadata": {},
   "outputs": [
    {
     "name": "stdout",
     "output_type": "stream",
     "text": [
      "PANDEMIA_PRATICAS: 0.10578840608747425\n",
      "Q006: 0.08660687804513824\n",
      "Q028: 0.08390241752965628\n",
      "PANDEMIA_GESTAO: 0.08285397066283365\n",
      "GESTAO: 0.06781002396180673\n",
      "PRATICAS: 0.06231144472311753\n",
      "TP_FAIXA_ETARIA: 0.05000060999904232\n",
      "Q034: 0.04852343908229456\n",
      "Q003: 0.03555165063026845\n",
      "Q004: 0.03470545621125042\n"
     ]
    }
   ],
   "source": [
    "# Analisando os parâmetros mais importantes no melhor modelo obtido\n",
    "features = sorted(zip(grid_search.best_estimator_.feature_importances_, X_train.columns), reverse=True)\n",
    "media = 1 / len(X.columns)\n",
    "for importance, feature in features:\n",
    "    if importance > media:\n",
    "        print(f\"{feature}: {importance}\")"
   ]
  },
  {
   "cell_type": "code",
   "execution_count": 101,
   "metadata": {},
   "outputs": [
    {
     "data": {
      "text/plain": [
       "0.3751254886460258"
      ]
     },
     "execution_count": 101,
     "metadata": {},
     "output_type": "execute_result"
    }
   ],
   "source": [
    "# Soma do impacto das variáveis ligadas à pandemia\n",
    "var_pandemia = [\"Q001\", \"Q002\", \"Q003\", \"Q004\", \"PANDEMIA_PRATICAS\", \"PANDEMIA_GESTAO\", \"Q028\"]\n",
    "soma = 0\n",
    "for importance, feature in features:\n",
    "    if feature in var_pandemia:\n",
    "        soma += importance\n",
    "soma"
   ]
  },
  {
   "cell_type": "markdown",
   "metadata": {},
   "source": [
    "Houve pouca diferença nas variáveis julgadas relevantes entre o melhor modelo da Grid Search e o modelo básico. As variáveis continuaram as mesmas, o que mudou foi a ordem de algumas. A relevância das variáveis ligadas à pandemia continuou praticamente a mesma."
   ]
  },
  {
   "cell_type": "markdown",
   "metadata": {},
   "source": [
    "### Testando um Gradient Booting Classifier"
   ]
  },
  {
   "cell_type": "code",
   "execution_count": 103,
   "metadata": {},
   "outputs": [
    {
     "data": {
      "text/plain": [
       "0.501203159331527"
      ]
     },
     "execution_count": 103,
     "metadata": {},
     "output_type": "execute_result"
    }
   ],
   "source": [
    "# Modelo do Scikit Learn\n",
    "from sklearn.ensemble import GradientBoostingClassifier\n",
    "model_gbc = GradientBoostingClassifier()\n",
    "cross_val_score(model_gbc, X_train, y_train, cv=5, scoring=\"accuracy\").mean()"
   ]
  },
  {
   "cell_type": "code",
   "execution_count": 104,
   "metadata": {},
   "outputs": [
    {
     "ename": "ModuleNotFoundError",
     "evalue": "No module named 'xgboost'",
     "output_type": "error",
     "traceback": [
      "\u001b[0;31m---------------------------------------------------------------------------\u001b[0m",
      "\u001b[0;31mModuleNotFoundError\u001b[0m                       Traceback (most recent call last)",
      "\u001b[1;32m/home/robertotomchak/Estudos/MachineLearning/analise_enem/analise_modelos_categorico.ipynb Célula 48\u001b[0m line \u001b[0;36m1\n\u001b[0;32m----> <a href='vscode-notebook-cell:/home/robertotomchak/Estudos/MachineLearning/analise_enem/analise_modelos_categorico.ipynb#X64sZmlsZQ%3D%3D?line=0'>1</a>\u001b[0m \u001b[39mimport\u001b[39;00m \u001b[39mxgboost\u001b[39;00m\n\u001b[1;32m      <a href='vscode-notebook-cell:/home/robertotomchak/Estudos/MachineLearning/analise_enem/analise_modelos_categorico.ipynb#X64sZmlsZQ%3D%3D?line=1'>2</a>\u001b[0m xgb_reg \u001b[39m=\u001b[39m xgboost\u001b[39m.\u001b[39mXGBClassifier()\n",
      "\u001b[0;31mModuleNotFoundError\u001b[0m: No module named 'xgboost'"
     ]
    }
   ],
   "source": [
    "import xgboost\n",
    "xgb_reg = xgboost.XGBClassifier()"
   ]
  },
  {
   "cell_type": "code",
   "execution_count": null,
   "metadata": {},
   "outputs": [],
   "source": []
  }
 ],
 "metadata": {
  "kernelspec": {
   "display_name": "Python 3",
   "language": "python",
   "name": "python3"
  },
  "language_info": {
   "codemirror_mode": {
    "name": "ipython",
    "version": 3
   },
   "file_extension": ".py",
   "mimetype": "text/x-python",
   "name": "python",
   "nbconvert_exporter": "python",
   "pygments_lexer": "ipython3",
   "version": "3.10.12"
  },
  "orig_nbformat": 4
 },
 "nbformat": 4,
 "nbformat_minor": 2
}
